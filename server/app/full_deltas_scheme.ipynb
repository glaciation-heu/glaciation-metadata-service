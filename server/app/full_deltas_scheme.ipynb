{
 "cells": [
  {
   "cell_type": "code",
   "execution_count": 1,
   "metadata": {},
   "outputs": [],
   "source": [
    "from FusekiCommunicator import FusekiCommunicatior\n",
    "import numpy as np\n",
    "import matplotlib.pyplot as plt\n",
    "from typing import Any, Dict\n",
    "from pydantic import BaseModel\n",
    "from rdflib import Graph, URIRef, Literal, BNode\n",
    "\n",
    "class ResponseHead(BaseModel):\n",
    "    vars: list[str]\n",
    "\n",
    "class ResponseResults(BaseModel):\n",
    "    bindings: list[Dict[str, Any]]\n",
    "\n",
    "class SearchResponse(BaseModel):\n",
    "    head: ResponseHead\n",
    "    results: ResponseResults\n",
    "    \n",
    "from starlette.responses import RedirectResponse\n",
    "from starlette.status import (\n",
    "    HTTP_303_SEE_OTHER,\n",
    "    HTTP_400_BAD_REQUEST,\n",
    "    HTTP_500_INTERNAL_SERVER_ERROR,\n",
    ")\n",
    "from fastapi import APIRouter, HTTPException\n",
    "from loguru import logger\n",
    "\n",
    "import datetime"
   ]
  },
  {
   "cell_type": "code",
   "execution_count": 2,
   "metadata": {},
   "outputs": [],
   "source": [
    "triple_type = {\n",
    "    'uri': URIRef,\n",
    "    'literal': Literal,\n",
    "    'bnode': BNode\n",
    "}"
   ]
  },
  {
   "cell_type": "markdown",
   "metadata": {},
   "source": [
    "We are going to run some simulations to compare how many triples one needs to store in different scenarios.\n",
    "We are going to look at $\\Delta_{n,0}$ and $\\Delta_{n,n-1}$ scenarios. Also, one has to look at a scheme where for the latter we need to store *two* full graphs instead of one for the former scheme.\n",
    "\n",
    "Below we define Fuseki of the local **LSL** cluster where we will store the data:"
   ]
  },
  {
   "cell_type": "code",
   "execution_count": 3,
   "metadata": {},
   "outputs": [],
   "source": [
    "fuseki_jena_url = \"192.168.4.26\"\n",
    "fuseki_jena_port = \"30731\"\n",
    "fuseki_jena_dataset_name = \"slice\"\n",
    "fuseki = FusekiCommunicatior(\n",
    "    fuseki_jena_url, fuseki_jena_port, fuseki_jena_dataset_name\n",
    ")"
   ]
  },
  {
   "cell_type": "markdown",
   "metadata": {},
   "source": [
    "Here we define the Fuseki of the **Integration cluster** from which we obtain the data:"
   ]
  },
  {
   "cell_type": "code",
   "execution_count": 4,
   "metadata": {},
   "outputs": [],
   "source": [
    "fuseki_jena_url_integration = \"jena-fuseki.integration\"\n",
    "fuseki_jena_port_integration = None\n",
    "fuseki_jena_dataset_name_integration = \"slice\"\n",
    "fuseki_integration = FusekiCommunicatior(\n",
    "    fuseki_jena_url_integration, fuseki_jena_port_integration, fuseki_jena_dataset_name_integration\n",
    ")"
   ]
  },
  {
   "cell_type": "code",
   "execution_count": 5,
   "metadata": {},
   "outputs": [],
   "source": [
    "def read_file(fname):\n",
    "    with open(fname, \"r\") as f:\n",
    "        return f.read()\n",
    "\n",
    "def perform_query(query, fuseki):\n",
    "    valid, msg = fuseki.validate_sparql(query, \"query\")\n",
    "    if valid:\n",
    "        result = fuseki.read_query(query)\n",
    "        bindings = []\n",
    "        for item in result.bindings:\n",
    "            new_item: Dict[str, Any] = {}\n",
    "            for key in item:\n",
    "                new_item[key] = {}\n",
    "                for property in item[key].__dict__:\n",
    "                    if (\n",
    "                        property != \"variable\"\n",
    "                        and item[key].__dict__[property] is not None\n",
    "                    ):\n",
    "                        new_item[key][property] = item[key].__dict__[property]\n",
    "                        if property == \"lang\":\n",
    "                            new_item[key][\"xml:lang\"] = new_item[key].pop(\"lang\")\n",
    "            bindings.append(new_item)\n",
    "        return SearchResponse(\n",
    "                head=ResponseHead(vars=result.head[\"vars\"]),\n",
    "                results=ResponseResults(bindings=bindings),\n",
    "            )\n",
    "    print(msg)\n",
    "    return None"
   ]
  },
  {
   "cell_type": "code",
   "execution_count": 6,
   "metadata": {},
   "outputs": [
    {
     "name": "stdout",
     "output_type": "stream",
     "text": [
      "293 timestamps retrieved.\n",
      "Getting the size of the named graphs.\n",
      "100.00%\r"
     ]
    }
   ],
   "source": [
    "timestamps_integration = np.array(\n",
    "    [\n",
    "        timestamp[\"graphURI\"][\"value\"]\n",
    "        for timestamp in perform_query(\n",
    "            read_file(\"query_timestamps.txt\"), fuseki_integration\n",
    "        ).results.bindings\n",
    "    ]\n",
    ")\n",
    "print(f\"{timestamps_integration.size} timestamps retrieved.\")\n",
    "\n",
    "print(\"Getting the size of the named graphs.\")\n",
    "graph_sizes = []\n",
    "for i in range(timestamps_integration.size):\n",
    "    print(f\"{i/(timestamps_integration.size-1)*100:.2f}%\", end=\"\\r\")\n",
    "    # graph_sizes.append(number_of_triples(timestamps[i]))\n",
    "graph_sizes = np.array(graph_sizes)"
   ]
  },
  {
   "cell_type": "code",
   "execution_count": null,
   "metadata": {},
   "outputs": [],
   "source": [
    "timestamps_integration = [\n",
    "        timestamp[\"graphURI\"][\"value\"]\n",
    "        for timestamp in perform_query(\n",
    "            read_file(\"query_timestamps.txt\"), fuseki_integration\n",
    "        ).results.bindings\n",
    "    ]\n"
   ]
  },
  {
   "cell_type": "code",
   "execution_count": 7,
   "metadata": {},
   "outputs": [
    {
     "data": {
      "text/plain": [
       "np.str_('timestamp:1731315005935')"
      ]
     },
     "execution_count": 7,
     "metadata": {},
     "output_type": "execute_result"
    }
   ],
   "source": [
    "timestamps_integration[0]"
   ]
  },
  {
   "cell_type": "code",
   "execution_count": 8,
   "metadata": {},
   "outputs": [
    {
     "name": "stdout",
     "output_type": "stream",
     "text": [
      "Local time: 2024-11-13 10:40:17\n"
     ]
    }
   ],
   "source": [
    "local_time = datetime.datetime.fromtimestamp(int(timestamps_integration[-1].split(\":\")[-1])//1000)\n",
    "print(f\"Local time: {local_time}\")"
   ]
  },
  {
   "cell_type": "code",
   "execution_count": 9,
   "metadata": {},
   "outputs": [],
   "source": [
    "def get_graph_from_bindings(bindings):\n",
    "    g = Graph()\n",
    "\n",
    "    for binding in bindings: #response.results.bindings:\n",
    "        g.add((triple_type[binding['s']['type']](binding['s']['value']), triple_type[binding['p']['type']](binding['p']['value']), triple_type[binding['o']['type']](binding['o']['value'])))\n",
    "    \n",
    "    return g"
   ]
  },
  {
   "cell_type": "code",
   "execution_count": 10,
   "metadata": {},
   "outputs": [],
   "source": [
    "def read_graph_from_time_stamp(timestamp, a_fuseki):\n",
    "    fname = \"simple_query.txt\"\n",
    "\n",
    "    query = read_file(fname).replace(\"graph1\", timestamp)\n",
    "    response = perform_query(query, a_fuseki)\n",
    "    g = get_graph_from_bindings(response.results.bindings)\n",
    "\n",
    "    return g"
   ]
  },
  {
   "cell_type": "code",
   "execution_count": 12,
   "metadata": {},
   "outputs": [],
   "source": [
    "def compose_insert_query_form_graph(g: Graph, graph_name: str) -> str:\n",
    "    n_triples = 0\n",
    "    query = \"INSERT DATA {\\n\"\n",
    "    query += \"\\tGRAPH <\" + graph_name + \"> {\\n\"  # \"\\tGRAPH <timestamp:%d> {\\n\" % ts\n",
    "    for s, p, o in g.triples((None, None, None)):\n",
    "        if hasattr(s, \"n3\") and hasattr(p, \"n3\") and hasattr(o, \"n3\"):\n",
    "            query += f\"\\t\\t{s.n3()} {p.n3()} {o.n3()} .\\n\"\n",
    "            n_triples += 1\n",
    "        else:\n",
    "            raise HTTPException(\n",
    "                HTTP_500_INTERNAL_SERVER_ERROR, \"Error in parsing JSON-LD.\"\n",
    "            )\n",
    "    query += \"\\t}\\n\"\n",
    "    query += \"}\"\n",
    "\n",
    "    valid, msg = fuseki.validate_sparql(query, \"update\")\n",
    "    \n",
    "    # return query, valid, msg\n",
    "    if n_triples == 0:\n",
    "        logger.error(\"No triples could be extracted from Graph\")\n",
    "        raise HTTPException(\n",
    "            HTTP_400_BAD_REQUEST, \"No triples could be extracted from Graph.\"\n",
    "        )\n",
    "        \n",
    "    elif valid:\n",
    "        logger.debug(f\"Return query with {n_triples} triple(s) and name {graph_name}.\")\n",
    "        return query        \n",
    "    else:\n",
    "        logger.error(msg)\n",
    "        logger.debug(f\"The query:\\n{query}\")\n",
    "        raise HTTPException(HTTP_500_INTERNAL_SERVER_ERROR, msg)\n",
    "\n"
   ]
  },
  {
   "cell_type": "code",
   "execution_count": 15,
   "metadata": {},
   "outputs": [
    {
     "name": "stdout",
     "output_type": "stream",
     "text": [
      "Timestamp time: 2024-11-12 08:40:06\r"
     ]
    }
   ],
   "source": [
    "# this can be the basis for the reconstruction function\n",
    "\n",
    "g0 = read_graph_from_time_stamp(timestamps_integration[0],fuseki_integration)\n",
    "g1 = read_graph_from_time_stamp(timestamps_integration[0],fuseki_integration)\n",
    "\n",
    "size_graph_g = []\n",
    "size_deltas_n_0 = []\n",
    "size_deltas_n_n1 = []\n",
    "\n",
    "for timestamp in timestamps_integration[1:]:\n",
    "    local_time = datetime.datetime.fromtimestamp(int(timestamp.split(\":\")[-1])//1000)\n",
    "    print(f\"Timestamp time: {local_time}\", end='\\r')\n",
    "    # print(timestamp, end='\\r')\n",
    "    \n",
    "    g = read_graph_from_time_stamp(timestamp, fuseki_integration)\n",
    "    \n",
    "    size_graph_g.append(len(g))\n",
    "\n",
    "    delta_plus_n_0 = g-g0\n",
    "    delta_minus_n_0 = g0-g\n",
    "    \n",
    "    size_deltas_n_0.append(len(delta_plus_n_0) + len(delta_minus_n_0))\n",
    "\n",
    "    delta_plus_n_n1 = g-g1\n",
    "    delta_minus_n_n1 = g1-g\n",
    "    \n",
    "    size_deltas_n_n1.append(len(delta_plus_n_n1) + len(delta_minus_n_n1))\n",
    "    \n",
    "    g1=g\n"
   ]
  },
  {
   "cell_type": "code",
   "execution_count": 16,
   "metadata": {},
   "outputs": [
    {
     "data": {
      "text/plain": [
       "<matplotlib.legend.Legend at 0x2119e0c6ae0>"
      ]
     },
     "execution_count": 16,
     "metadata": {},
     "output_type": "execute_result"
    },
    {
     "data": {
      "image/png": "[encoded data removed]",
      "text/plain": [
       "<Figure size 640x480 with 1 Axes>"
      ]
     },
     "metadata": {},
     "output_type": "display_data"
    }
   ],
   "source": [
    "size_graph_g=np.array(size_graph_g)\n",
    "size_deltas_n_0=np.array(size_deltas_n_0)\n",
    "size_deltas_n_n1=np.array(size_deltas_n_n1)\n",
    "\n",
    "plt.plot(size_graph_g, '.-', label='graph')\n",
    "plt.plot(size_deltas_n_0, '.-', label='delta from 0')\n",
    "plt.plot(size_deltas_n_n1+0*np.mean(size_graph_g), '.-', label='delta cons')\n",
    "\n",
    "plt.legend()"
   ]
  },
  {
   "cell_type": "code",
   "execution_count": 18,
   "metadata": {},
   "outputs": [
    {
     "data": {
      "text/plain": [
       "np.float64(1154.7)"
      ]
     },
     "execution_count": 18,
     "metadata": {},
     "output_type": "execute_result"
    }
   ],
   "source": [
    "np.mean(size_deltas_n_n1[-20:])"
   ]
  },
  {
   "cell_type": "code",
   "execution_count": 19,
   "metadata": {},
   "outputs": [
    {
     "data": {
      "text/plain": [
       "<matplotlib.legend.Legend at 0x2119d610bf0>"
      ]
     },
     "execution_count": 19,
     "metadata": {},
     "output_type": "execute_result"
    },
    {
     "data": {
      "image/png": "[encoded data removed]",
      "text/plain": [
       "<Figure size 640x480 with 1 Axes>"
      ]
     },
     "metadata": {},
     "output_type": "display_data"
    }
   ],
   "source": [
    "plt.plot(np.cumsum(size_graph_g),'.-', label='graph')\n",
    "plt.plot(np.cumsum(size_deltas_n_0),'.-', label='delta w 0')\n",
    "plt.plot(np.cumsum(size_deltas_n_n1)+2*np.mean(size_graph_g),'.-', label='delta w n-1')\n",
    "\n",
    "plt.legend()\n",
    "\n",
    "# add real time to the x-axis\n",
    "# add future projections using linear trends for orange and green as to when they will reach the critical capacity\n",
    "# critical capacity can be estimated as 2500*9000 triples (or even 3000)"
   ]
  },
  {
   "cell_type": "code",
   "execution_count": 31,
   "metadata": {},
   "outputs": [
    {
     "name": "stdout",
     "output_type": "stream",
     "text": [
      "145 timestamps retrieved.\n",
      "Local time: 2024-11-12 10:00:06\n"
     ]
    }
   ],
   "source": [
    "timestamps_integration = np.array(\n",
    "    [\n",
    "        timestamp[\"graphURI\"][\"value\"]\n",
    "        for timestamp in perform_query(\n",
    "            read_file(\"query_timestamps.txt\"), fuseki_integration\n",
    "        ).results.bindings\n",
    "    ]\n",
    ")\n",
    "print(f\"{timestamps_integration.size} timestamps retrieved.\")\n",
    "\n",
    "local_time = datetime.datetime.fromtimestamp(int(timestamps_integration[-1].split(\":\")[-1])//1000)\n",
    "print(f\"Local time: {local_time}\")"
   ]
  },
  {
   "cell_type": "code",
   "execution_count": 21,
   "metadata": {},
   "outputs": [
    {
     "name": "stdout",
     "output_type": "stream",
     "text": [
      "0 timestamps retrieved.\n"
     ]
    }
   ],
   "source": [
    "timestamps = np.array(\n",
    "    [\n",
    "        timestamp[\"graphURI\"][\"value\"]\n",
    "        for timestamp in perform_query(\n",
    "            read_file(\"query_timestamps.txt\"), fuseki\n",
    "        ).results.bindings\n",
    "    ]\n",
    ")\n",
    "print(f\"{timestamps.size} timestamps retrieved.\")"
   ]
  },
  {
   "cell_type": "code",
   "execution_count": 22,
   "metadata": {},
   "outputs": [],
   "source": [
    "def count_time_steps_on_lsl_server():\n",
    "    timestamps = np.array(\n",
    "        [\n",
    "            timestamp[\"graphURI\"][\"value\"]\n",
    "            for timestamp in perform_query(\n",
    "                read_file(\"query_timestamps.txt\"), fuseki\n",
    "            ).results.bindings\n",
    "        ]\n",
    "    )\n",
    "    \n",
    "    return timestamps.size, timestamps #?"
   ]
  },
  {
   "cell_type": "code",
   "execution_count": 75,
   "metadata": {},
   "outputs": [],
   "source": [
    "def find_temp(timestamps):\n",
    "    \n",
    "    for timestamp in timestamps:\n",
    "        if 'temp' in timestamp:\n",
    "            return timestamp\n",
    "    return 'none'"
   ]
  },
  {
   "cell_type": "code",
   "execution_count": 76,
   "metadata": {},
   "outputs": [],
   "source": [
    "def find_base(timestamps):\n",
    "    \n",
    "    for timestamp in timestamps:\n",
    "        if 'base' in timestamp:\n",
    "            return timestamp\n",
    "    return 'none base'"
   ]
  },
  {
   "cell_type": "code",
   "execution_count": null,
   "metadata": {},
   "outputs": [],
   "source": []
  },
  {
   "cell_type": "code",
   "execution_count": 77,
   "metadata": {},
   "outputs": [],
   "source": [
    "def write_timestamp_to_database(timestamp):\n",
    "\n",
    "    # read graph for the input\n",
    "    g = read_graph_from_time_stamp(timestamp, fuseki_integration)\n",
    "    # check how many graphs are there on the LSL server and what are they\n",
    "    time_steps_on_LSL, timestamps_LSL = count_time_steps_on_lsl_server()\n",
    "\n",
    "    # if there are no graphs yet\n",
    "    if time_steps_on_LSL == 0:\n",
    "        # write the very first graph with a suffix /base\n",
    "        query_g_0 = compose_insert_query_form_graph(g, timestamp + \"/base\")\n",
    "        fuseki.update_query(query_g_0)\n",
    "    # if there is just one\n",
    "    elif time_steps_on_LSL == 1:\n",
    "        # here is the case for the first deltas\n",
    "\n",
    "        # reading the base graph to use in delta computation\n",
    "        g0 = read_graph_from_time_stamp(timestamps_LSL[0], fuseki)\n",
    "        # compute the added and removed graphs\n",
    "        delta_plus = g - g0\n",
    "        delta_minus = g0 - g\n",
    "\n",
    "        # compose a query for added\n",
    "        query_plus = compose_insert_query_form_graph(\n",
    "            delta_plus, timestamp + \"/added\"\n",
    "        )\n",
    "        # compose a query for removed\n",
    "        query_minus = compose_insert_query_form_graph(\n",
    "            delta_minus, timestamp + \"/removed\"\n",
    "        )\n",
    "\n",
    "        # write added to LSL fuseki\n",
    "        fuseki.update_query(query_plus)\n",
    "        # write removed to LSL fuseki\n",
    "        fuseki.update_query(query_minus)\n",
    "        \n",
    "        \n",
    "        query_temp = compose_insert_query_form_graph(\n",
    "            g, timestamp + \"/temp\"\n",
    "        )\n",
    "        \n",
    "        fuseki.update_query(query_temp)\n",
    "\n",
    "    else:\n",
    "        # here is the most common case\n",
    "        # find where the previous time stamp is completely (temporarily) stored\n",
    "        timestamp_previous = find_temp(timestamps_LSL)\n",
    "        # read the previous (n-1) time stamp\n",
    "        g0 = read_graph_from_time_stamp(timestamp_previous, fuseki)\n",
    "        \n",
    "        # compute deltas\n",
    "        delta_plus = g - g0\n",
    "        delta_minus = g0 - g\n",
    "        \n",
    "        # compose a query for added\n",
    "        query_plus = compose_insert_query_form_graph(\n",
    "            delta_plus, timestamp + \"/added\"\n",
    "        )\n",
    "        # compose a query for removed\n",
    "        query_minus = compose_insert_query_form_graph(\n",
    "            delta_minus, timestamp + \"/removed\"\n",
    "        )\n",
    "\n",
    "        # write added to LSL fuseki\n",
    "        fuseki.update_query(query_plus)\n",
    "        # write removed to LSL fuseki\n",
    "        fuseki.update_query(query_minus)\n",
    "        \n",
    "        #remove previous temp graph\n",
    "        query_delete = f\"DROP GRAPH <{timestamp_previous}>\" \n",
    "        fuseki.update_query(query_delete)\n",
    "        \n",
    "        # add new temporal graph\n",
    "        query_temp = compose_insert_query_form_graph(\n",
    "            g, timestamp + \"/temp\"\n",
    "        )\n",
    "        \n",
    "        fuseki.update_query(query_temp)\n",
    "        \n",
    "        \n",
    "        "
   ]
  },
  {
   "cell_type": "code",
   "execution_count": 37,
   "metadata": {},
   "outputs": [
    {
     "name": "stderr",
     "output_type": "stream",
     "text": [
      "\u001b[32m2024-11-12 10:07:58.523\u001b[0m | \u001b[34m\u001b[1mDEBUG   \u001b[0m | \u001b[36m__main__\u001b[0m:\u001b[36mcompose_insert_query_form_graph\u001b[0m:\u001b[36m26\u001b[0m - \u001b[34m\u001b[1mReturn query with 586 triple(s) and name timestamp:1731316806531/added.\u001b[0m\n",
      "\u001b[32m2024-11-12 10:07:58.843\u001b[0m | \u001b[34m\u001b[1mDEBUG   \u001b[0m | \u001b[36m__main__\u001b[0m:\u001b[36mcompose_insert_query_form_graph\u001b[0m:\u001b[36m26\u001b[0m - \u001b[34m\u001b[1mReturn query with 636 triple(s) and name timestamp:1731316806531/removed.\u001b[0m\n",
      "\u001b[32m2024-11-12 10:08:04.850\u001b[0m | \u001b[34m\u001b[1mDEBUG   \u001b[0m | \u001b[36m__main__\u001b[0m:\u001b[36mcompose_insert_query_form_graph\u001b[0m:\u001b[36m26\u001b[0m - \u001b[34m\u001b[1mReturn query with 9097 triple(s) and name timestamp:1731316806531/temp.\u001b[0m\n",
      "\u001b[32m2024-11-12 10:08:10.021\u001b[0m | \u001b[34m\u001b[1mDEBUG   \u001b[0m | \u001b[36m__main__\u001b[0m:\u001b[36mcompose_insert_query_form_graph\u001b[0m:\u001b[36m26\u001b[0m - \u001b[34m\u001b[1mReturn query with 609 triple(s) and name timestamp:1731317406346/added.\u001b[0m\n",
      "\u001b[32m2024-11-12 10:08:10.304\u001b[0m | \u001b[34m\u001b[1mDEBUG   \u001b[0m | \u001b[36m__main__\u001b[0m:\u001b[36mcompose_insert_query_form_graph\u001b[0m:\u001b[36m26\u001b[0m - \u001b[34m\u001b[1mReturn query with 563 triple(s) and name timestamp:1731317406346/removed.\u001b[0m\n",
      "\u001b[32m2024-11-12 10:08:18.624\u001b[0m | \u001b[34m\u001b[1mDEBUG   \u001b[0m | \u001b[36m__main__\u001b[0m:\u001b[36mcompose_insert_query_form_graph\u001b[0m:\u001b[36m26\u001b[0m - \u001b[34m\u001b[1mReturn query with 9143 triple(s) and name timestamp:1731317406346/temp.\u001b[0m\n",
      "\u001b[32m2024-11-12 10:08:24.674\u001b[0m | \u001b[34m\u001b[1mDEBUG   \u001b[0m | \u001b[36m__main__\u001b[0m:\u001b[36mcompose_insert_query_form_graph\u001b[0m:\u001b[36m26\u001b[0m - \u001b[34m\u001b[1mReturn query with 538 triple(s) and name timestamp:1731318006958/added.\u001b[0m\n",
      "\u001b[32m2024-11-12 10:08:25.109\u001b[0m | \u001b[34m\u001b[1mDEBUG   \u001b[0m | \u001b[36m__main__\u001b[0m:\u001b[36mcompose_insert_query_form_graph\u001b[0m:\u001b[36m26\u001b[0m - \u001b[34m\u001b[1mReturn query with 584 triple(s) and name timestamp:1731318006958/removed.\u001b[0m\n",
      "\u001b[32m2024-11-12 10:08:33.252\u001b[0m | \u001b[34m\u001b[1mDEBUG   \u001b[0m | \u001b[36m__main__\u001b[0m:\u001b[36mcompose_insert_query_form_graph\u001b[0m:\u001b[36m26\u001b[0m - \u001b[34m\u001b[1mReturn query with 9097 triple(s) and name timestamp:1731318006958/temp.\u001b[0m\n",
      "\u001b[32m2024-11-12 10:08:40.017\u001b[0m | \u001b[34m\u001b[1mDEBUG   \u001b[0m | \u001b[36m__main__\u001b[0m:\u001b[36mcompose_insert_query_form_graph\u001b[0m:\u001b[36m26\u001b[0m - \u001b[34m\u001b[1mReturn query with 586 triple(s) and name timestamp:1731318606197/added.\u001b[0m\n",
      "\u001b[32m2024-11-12 10:08:40.547\u001b[0m | \u001b[34m\u001b[1mDEBUG   \u001b[0m | \u001b[36m__main__\u001b[0m:\u001b[36mcompose_insert_query_form_graph\u001b[0m:\u001b[36m26\u001b[0m - \u001b[34m\u001b[1mReturn query with 586 triple(s) and name timestamp:1731318606197/removed.\u001b[0m\n",
      "\u001b[32m2024-11-12 10:08:53.636\u001b[0m | \u001b[34m\u001b[1mDEBUG   \u001b[0m | \u001b[36m__main__\u001b[0m:\u001b[36mcompose_insert_query_form_graph\u001b[0m:\u001b[36m26\u001b[0m - \u001b[34m\u001b[1mReturn query with 9097 triple(s) and name timestamp:1731318606197/temp.\u001b[0m\n",
      "\u001b[32m2024-11-12 10:09:01.262\u001b[0m | \u001b[34m\u001b[1mDEBUG   \u001b[0m | \u001b[36m__main__\u001b[0m:\u001b[36mcompose_insert_query_form_graph\u001b[0m:\u001b[36m26\u001b[0m - \u001b[34m\u001b[1mReturn query with 584 triple(s) and name timestamp:1731319206571/added.\u001b[0m\n",
      "\u001b[32m2024-11-12 10:09:02.247\u001b[0m | \u001b[34m\u001b[1mDEBUG   \u001b[0m | \u001b[36m__main__\u001b[0m:\u001b[36mcompose_insert_query_form_graph\u001b[0m:\u001b[36m26\u001b[0m - \u001b[34m\u001b[1mReturn query with 563 triple(s) and name timestamp:1731319206571/removed.\u001b[0m\n",
      "\u001b[32m2024-11-12 10:09:15.924\u001b[0m | \u001b[34m\u001b[1mDEBUG   \u001b[0m | \u001b[36m__main__\u001b[0m:\u001b[36mcompose_insert_query_form_graph\u001b[0m:\u001b[36m26\u001b[0m - \u001b[34m\u001b[1mReturn query with 9118 triple(s) and name timestamp:1731319206571/temp.\u001b[0m\n",
      "\u001b[32m2024-11-12 10:09:24.520\u001b[0m | \u001b[34m\u001b[1mDEBUG   \u001b[0m | \u001b[36m__main__\u001b[0m:\u001b[36mcompose_insert_query_form_graph\u001b[0m:\u001b[36m26\u001b[0m - \u001b[34m\u001b[1mReturn query with 588 triple(s) and name timestamp:1731319806282/added.\u001b[0m\n",
      "\u001b[32m2024-11-12 10:09:25.968\u001b[0m | \u001b[34m\u001b[1mDEBUG   \u001b[0m | \u001b[36m__main__\u001b[0m:\u001b[36mcompose_insert_query_form_graph\u001b[0m:\u001b[36m26\u001b[0m - \u001b[34m\u001b[1mReturn query with 559 triple(s) and name timestamp:1731319806282/removed.\u001b[0m\n",
      "\u001b[32m2024-11-12 10:09:40.938\u001b[0m | \u001b[34m\u001b[1mDEBUG   \u001b[0m | \u001b[36m__main__\u001b[0m:\u001b[36mcompose_insert_query_form_graph\u001b[0m:\u001b[36m26\u001b[0m - \u001b[34m\u001b[1mReturn query with 9147 triple(s) and name timestamp:1731319806282/temp.\u001b[0m\n",
      "\u001b[32m2024-11-12 10:09:50.748\u001b[0m | \u001b[34m\u001b[1mDEBUG   \u001b[0m | \u001b[36m__main__\u001b[0m:\u001b[36mcompose_insert_query_form_graph\u001b[0m:\u001b[36m26\u001b[0m - \u001b[34m\u001b[1mReturn query with 586 triple(s) and name timestamp:1731320406188/added.\u001b[0m\n",
      "\u001b[32m2024-11-12 10:09:51.374\u001b[0m | \u001b[34m\u001b[1mDEBUG   \u001b[0m | \u001b[36m__main__\u001b[0m:\u001b[36mcompose_insert_query_form_graph\u001b[0m:\u001b[36m26\u001b[0m - \u001b[34m\u001b[1mReturn query with 636 triple(s) and name timestamp:1731320406188/removed.\u001b[0m\n",
      "\u001b[32m2024-11-12 10:10:05.623\u001b[0m | \u001b[34m\u001b[1mDEBUG   \u001b[0m | \u001b[36m__main__\u001b[0m:\u001b[36mcompose_insert_query_form_graph\u001b[0m:\u001b[36m26\u001b[0m - \u001b[34m\u001b[1mReturn query with 9097 triple(s) and name timestamp:1731320406188/temp.\u001b[0m\n",
      "\u001b[32m2024-11-12 10:10:16.152\u001b[0m | \u001b[34m\u001b[1mDEBUG   \u001b[0m | \u001b[36m__main__\u001b[0m:\u001b[36mcompose_insert_query_form_graph\u001b[0m:\u001b[36m26\u001b[0m - \u001b[34m\u001b[1mReturn query with 584 triple(s) and name timestamp:1731321006001/added.\u001b[0m\n",
      "\u001b[32m2024-11-12 10:10:23.608\u001b[0m | \u001b[34m\u001b[1mDEBUG   \u001b[0m | \u001b[36m__main__\u001b[0m:\u001b[36mcompose_insert_query_form_graph\u001b[0m:\u001b[36m26\u001b[0m - \u001b[34m\u001b[1mReturn query with 563 triple(s) and name timestamp:1731321006001/removed.\u001b[0m\n",
      "\u001b[32m2024-11-12 10:10:46.885\u001b[0m | \u001b[34m\u001b[1mDEBUG   \u001b[0m | \u001b[36m__main__\u001b[0m:\u001b[36mcompose_insert_query_form_graph\u001b[0m:\u001b[36m26\u001b[0m - \u001b[34m\u001b[1mReturn query with 9118 triple(s) and name timestamp:1731321006001/temp.\u001b[0m\n",
      "\u001b[32m2024-11-12 10:10:57.196\u001b[0m | \u001b[34m\u001b[1mDEBUG   \u001b[0m | \u001b[36m__main__\u001b[0m:\u001b[36mcompose_insert_query_form_graph\u001b[0m:\u001b[36m26\u001b[0m - \u001b[34m\u001b[1mReturn query with 538 triple(s) and name timestamp:1731321605814/added.\u001b[0m\n",
      "\u001b[32m2024-11-12 10:10:58.292\u001b[0m | \u001b[34m\u001b[1mDEBUG   \u001b[0m | \u001b[36m__main__\u001b[0m:\u001b[36mcompose_insert_query_form_graph\u001b[0m:\u001b[36m26\u001b[0m - \u001b[34m\u001b[1mReturn query with 559 triple(s) and name timestamp:1731321605814/removed.\u001b[0m\n",
      "\u001b[32m2024-11-12 10:11:09.138\u001b[0m | \u001b[34m\u001b[1mDEBUG   \u001b[0m | \u001b[36m__main__\u001b[0m:\u001b[36mcompose_insert_query_form_graph\u001b[0m:\u001b[36m26\u001b[0m - \u001b[34m\u001b[1mReturn query with 9097 triple(s) and name timestamp:1731321605814/temp.\u001b[0m\n",
      "\u001b[32m2024-11-12 10:11:17.047\u001b[0m | \u001b[34m\u001b[1mDEBUG   \u001b[0m | \u001b[36m__main__\u001b[0m:\u001b[36mcompose_insert_query_form_graph\u001b[0m:\u001b[36m26\u001b[0m - \u001b[34m\u001b[1mReturn query with 586 triple(s) and name timestamp:1731322205739/added.\u001b[0m\n",
      "\u001b[32m2024-11-12 10:11:17.568\u001b[0m | \u001b[34m\u001b[1mDEBUG   \u001b[0m | \u001b[36m__main__\u001b[0m:\u001b[36mcompose_insert_query_form_graph\u001b[0m:\u001b[36m26\u001b[0m - \u001b[34m\u001b[1mReturn query with 586 triple(s) and name timestamp:1731322205739/removed.\u001b[0m\n",
      "\u001b[32m2024-11-12 10:11:27.489\u001b[0m | \u001b[34m\u001b[1mDEBUG   \u001b[0m | \u001b[36m__main__\u001b[0m:\u001b[36mcompose_insert_query_form_graph\u001b[0m:\u001b[36m26\u001b[0m - \u001b[34m\u001b[1mReturn query with 9097 triple(s) and name timestamp:1731322205739/temp.\u001b[0m\n",
      "\u001b[32m2024-11-12 10:11:34.795\u001b[0m | \u001b[34m\u001b[1mDEBUG   \u001b[0m | \u001b[36m__main__\u001b[0m:\u001b[36mcompose_insert_query_form_graph\u001b[0m:\u001b[36m26\u001b[0m - \u001b[34m\u001b[1mReturn query with 632 triple(s) and name timestamp:1731322805480/added.\u001b[0m\n",
      "\u001b[32m2024-11-12 10:11:35.329\u001b[0m | \u001b[34m\u001b[1mDEBUG   \u001b[0m | \u001b[36m__main__\u001b[0m:\u001b[36mcompose_insert_query_form_graph\u001b[0m:\u001b[36m26\u001b[0m - \u001b[34m\u001b[1mReturn query with 565 triple(s) and name timestamp:1731322805480/removed.\u001b[0m\n",
      "\u001b[32m2024-11-12 10:11:52.097\u001b[0m | \u001b[34m\u001b[1mDEBUG   \u001b[0m | \u001b[36m__main__\u001b[0m:\u001b[36mcompose_insert_query_form_graph\u001b[0m:\u001b[36m26\u001b[0m - \u001b[34m\u001b[1mReturn query with 9164 triple(s) and name timestamp:1731322805480/temp.\u001b[0m\n",
      "\u001b[32m2024-11-12 10:12:00.839\u001b[0m | \u001b[34m\u001b[1mDEBUG   \u001b[0m | \u001b[36m__main__\u001b[0m:\u001b[36mcompose_insert_query_form_graph\u001b[0m:\u001b[36m26\u001b[0m - \u001b[34m\u001b[1mReturn query with 592 triple(s) and name timestamp:1731323406254/added.\u001b[0m\n",
      "\u001b[32m2024-11-12 10:12:01.653\u001b[0m | \u001b[34m\u001b[1mDEBUG   \u001b[0m | \u001b[36m__main__\u001b[0m:\u001b[36mcompose_insert_query_form_graph\u001b[0m:\u001b[36m26\u001b[0m - \u001b[34m\u001b[1mReturn query with 562 triple(s) and name timestamp:1731323406254/removed.\u001b[0m\n",
      "\u001b[32m2024-11-12 10:12:15.347\u001b[0m | \u001b[34m\u001b[1mDEBUG   \u001b[0m | \u001b[36m__main__\u001b[0m:\u001b[36mcompose_insert_query_form_graph\u001b[0m:\u001b[36m26\u001b[0m - \u001b[34m\u001b[1mReturn query with 9194 triple(s) and name timestamp:1731323406254/temp.\u001b[0m\n",
      "\u001b[32m2024-11-12 10:12:24.175\u001b[0m | \u001b[34m\u001b[1mDEBUG   \u001b[0m | \u001b[36m__main__\u001b[0m:\u001b[36mcompose_insert_query_form_graph\u001b[0m:\u001b[36m26\u001b[0m - \u001b[34m\u001b[1mReturn query with 586 triple(s) and name timestamp:1731324006064/added.\u001b[0m\n",
      "\u001b[32m2024-11-12 10:12:24.953\u001b[0m | \u001b[34m\u001b[1mDEBUG   \u001b[0m | \u001b[36m__main__\u001b[0m:\u001b[36mcompose_insert_query_form_graph\u001b[0m:\u001b[36m26\u001b[0m - \u001b[34m\u001b[1mReturn query with 636 triple(s) and name timestamp:1731324006064/removed.\u001b[0m\n",
      "\u001b[32m2024-11-12 10:12:38.923\u001b[0m | \u001b[34m\u001b[1mDEBUG   \u001b[0m | \u001b[36m__main__\u001b[0m:\u001b[36mcompose_insert_query_form_graph\u001b[0m:\u001b[36m26\u001b[0m - \u001b[34m\u001b[1mReturn query with 9144 triple(s) and name timestamp:1731324006064/temp.\u001b[0m\n",
      "\u001b[32m2024-11-12 10:12:45.994\u001b[0m | \u001b[34m\u001b[1mDEBUG   \u001b[0m | \u001b[36m__main__\u001b[0m:\u001b[36mcompose_insert_query_form_graph\u001b[0m:\u001b[36m26\u001b[0m - \u001b[34m\u001b[1mReturn query with 583 triple(s) and name timestamp:1731324606015/added.\u001b[0m\n",
      "\u001b[32m2024-11-12 10:12:46.921\u001b[0m | \u001b[34m\u001b[1mDEBUG   \u001b[0m | \u001b[36m__main__\u001b[0m:\u001b[36mcompose_insert_query_form_graph\u001b[0m:\u001b[36m26\u001b[0m - \u001b[34m\u001b[1mReturn query with 563 triple(s) and name timestamp:1731324606015/removed.\u001b[0m\n",
      "\u001b[32m2024-11-12 10:12:57.971\u001b[0m | \u001b[34m\u001b[1mDEBUG   \u001b[0m | \u001b[36m__main__\u001b[0m:\u001b[36mcompose_insert_query_form_graph\u001b[0m:\u001b[36m26\u001b[0m - \u001b[34m\u001b[1mReturn query with 9164 triple(s) and name timestamp:1731324606015/temp.\u001b[0m\n",
      "\u001b[32m2024-11-12 10:13:03.924\u001b[0m | \u001b[34m\u001b[1mDEBUG   \u001b[0m | \u001b[36m__main__\u001b[0m:\u001b[36mcompose_insert_query_form_graph\u001b[0m:\u001b[36m26\u001b[0m - \u001b[34m\u001b[1mReturn query with 540 triple(s) and name timestamp:1731325205758/added.\u001b[0m\n",
      "\u001b[32m2024-11-12 10:13:04.332\u001b[0m | \u001b[34m\u001b[1mDEBUG   \u001b[0m | \u001b[36m__main__\u001b[0m:\u001b[36mcompose_insert_query_form_graph\u001b[0m:\u001b[36m26\u001b[0m - \u001b[34m\u001b[1mReturn query with 560 triple(s) and name timestamp:1731325205758/removed.\u001b[0m\n",
      "\u001b[32m2024-11-12 10:13:16.061\u001b[0m | \u001b[34m\u001b[1mDEBUG   \u001b[0m | \u001b[36m__main__\u001b[0m:\u001b[36mcompose_insert_query_form_graph\u001b[0m:\u001b[36m26\u001b[0m - \u001b[34m\u001b[1mReturn query with 9144 triple(s) and name timestamp:1731325205758/temp.\u001b[0m\n",
      "\u001b[32m2024-11-12 10:13:27.460\u001b[0m | \u001b[34m\u001b[1mDEBUG   \u001b[0m | \u001b[36m__main__\u001b[0m:\u001b[36mcompose_insert_query_form_graph\u001b[0m:\u001b[36m26\u001b[0m - \u001b[34m\u001b[1mReturn query with 5952 triple(s) and name timestamp:1731326409536/added.\u001b[0m\n",
      "\u001b[32m2024-11-12 10:13:29.105\u001b[0m | \u001b[34m\u001b[1mDEBUG   \u001b[0m | \u001b[36m__main__\u001b[0m:\u001b[36mcompose_insert_query_form_graph\u001b[0m:\u001b[36m26\u001b[0m - \u001b[34m\u001b[1mReturn query with 1145 triple(s) and name timestamp:1731326409536/removed.\u001b[0m\n",
      "\u001b[32m2024-11-12 10:13:46.158\u001b[0m | \u001b[34m\u001b[1mDEBUG   \u001b[0m | \u001b[36m__main__\u001b[0m:\u001b[36mcompose_insert_query_form_graph\u001b[0m:\u001b[36m26\u001b[0m - \u001b[34m\u001b[1mReturn query with 13951 triple(s) and name timestamp:1731326409536/temp.\u001b[0m\n",
      "\u001b[32m2024-11-12 10:13:55.212\u001b[0m | \u001b[34m\u001b[1mDEBUG   \u001b[0m | \u001b[36m__main__\u001b[0m:\u001b[36mcompose_insert_query_form_graph\u001b[0m:\u001b[36m26\u001b[0m - \u001b[34m\u001b[1mReturn query with 1515 triple(s) and name timestamp:1731327007180/added.\u001b[0m\n",
      "\u001b[32m2024-11-12 10:14:00.337\u001b[0m | \u001b[34m\u001b[1mDEBUG   \u001b[0m | \u001b[36m__main__\u001b[0m:\u001b[36mcompose_insert_query_form_graph\u001b[0m:\u001b[36m26\u001b[0m - \u001b[34m\u001b[1mReturn query with 5626 triple(s) and name timestamp:1731327007180/removed.\u001b[0m\n",
      "\u001b[32m2024-11-12 10:14:11.590\u001b[0m | \u001b[34m\u001b[1mDEBUG   \u001b[0m | \u001b[36m__main__\u001b[0m:\u001b[36mcompose_insert_query_form_graph\u001b[0m:\u001b[36m26\u001b[0m - \u001b[34m\u001b[1mReturn query with 9840 triple(s) and name timestamp:1731327007180/temp.\u001b[0m\n",
      "\u001b[32m2024-11-12 10:14:17.694\u001b[0m | \u001b[34m\u001b[1mDEBUG   \u001b[0m | \u001b[36m__main__\u001b[0m:\u001b[36mcompose_insert_query_form_graph\u001b[0m:\u001b[36m26\u001b[0m - \u001b[34m\u001b[1mReturn query with 596 triple(s) and name timestamp:1731327606052/added.\u001b[0m\n",
      "\u001b[32m2024-11-12 10:14:18.453\u001b[0m | \u001b[34m\u001b[1mDEBUG   \u001b[0m | \u001b[36m__main__\u001b[0m:\u001b[36mcompose_insert_query_form_graph\u001b[0m:\u001b[36m26\u001b[0m - \u001b[34m\u001b[1mReturn query with 1003 triple(s) and name timestamp:1731327606052/removed.\u001b[0m\n",
      "\u001b[32m2024-11-12 10:14:27.170\u001b[0m | \u001b[34m\u001b[1mDEBUG   \u001b[0m | \u001b[36m__main__\u001b[0m:\u001b[36mcompose_insert_query_form_graph\u001b[0m:\u001b[36m26\u001b[0m - \u001b[34m\u001b[1mReturn query with 9433 triple(s) and name timestamp:1731327606052/temp.\u001b[0m\n",
      "\u001b[32m2024-11-12 10:14:33.891\u001b[0m | \u001b[34m\u001b[1mDEBUG   \u001b[0m | \u001b[36m__main__\u001b[0m:\u001b[36mcompose_insert_query_form_graph\u001b[0m:\u001b[36m26\u001b[0m - \u001b[34m\u001b[1mReturn query with 586 triple(s) and name timestamp:1731328206109/added.\u001b[0m\n",
      "\u001b[32m2024-11-12 10:14:34.391\u001b[0m | \u001b[34m\u001b[1mDEBUG   \u001b[0m | \u001b[36m__main__\u001b[0m:\u001b[36mcompose_insert_query_form_graph\u001b[0m:\u001b[36m26\u001b[0m - \u001b[34m\u001b[1mReturn query with 597 triple(s) and name timestamp:1731328206109/removed.\u001b[0m\n",
      "\u001b[32m2024-11-12 10:14:44.654\u001b[0m | \u001b[34m\u001b[1mDEBUG   \u001b[0m | \u001b[36m__main__\u001b[0m:\u001b[36mcompose_insert_query_form_graph\u001b[0m:\u001b[36m26\u001b[0m - \u001b[34m\u001b[1mReturn query with 9422 triple(s) and name timestamp:1731328206109/temp.\u001b[0m\n",
      "\u001b[32m2024-11-12 10:14:51.271\u001b[0m | \u001b[34m\u001b[1mDEBUG   \u001b[0m | \u001b[36m__main__\u001b[0m:\u001b[36mcompose_insert_query_form_graph\u001b[0m:\u001b[36m26\u001b[0m - \u001b[34m\u001b[1mReturn query with 542 triple(s) and name timestamp:1731328806057/added.\u001b[0m\n",
      "\u001b[32m2024-11-12 10:14:51.755\u001b[0m | \u001b[34m\u001b[1mDEBUG   \u001b[0m | \u001b[36m__main__\u001b[0m:\u001b[36mcompose_insert_query_form_graph\u001b[0m:\u001b[36m26\u001b[0m - \u001b[34m\u001b[1mReturn query with 562 triple(s) and name timestamp:1731328806057/removed.\u001b[0m\n",
      "\u001b[32m2024-11-12 10:15:00.234\u001b[0m | \u001b[34m\u001b[1mDEBUG   \u001b[0m | \u001b[36m__main__\u001b[0m:\u001b[36mcompose_insert_query_form_graph\u001b[0m:\u001b[36m26\u001b[0m - \u001b[34m\u001b[1mReturn query with 9402 triple(s) and name timestamp:1731328806057/temp.\u001b[0m\n",
      "\u001b[32m2024-11-12 10:15:07.683\u001b[0m | \u001b[34m\u001b[1mDEBUG   \u001b[0m | \u001b[36m__main__\u001b[0m:\u001b[36mcompose_insert_query_form_graph\u001b[0m:\u001b[36m26\u001b[0m - \u001b[34m\u001b[1mReturn query with 589 triple(s) and name timestamp:1731329406166/added.\u001b[0m\n",
      "\u001b[32m2024-11-12 10:15:08.131\u001b[0m | \u001b[34m\u001b[1mDEBUG   \u001b[0m | \u001b[36m__main__\u001b[0m:\u001b[36mcompose_insert_query_form_graph\u001b[0m:\u001b[36m26\u001b[0m - \u001b[34m\u001b[1mReturn query with 589 triple(s) and name timestamp:1731329406166/removed.\u001b[0m\n",
      "\u001b[32m2024-11-12 10:15:16.685\u001b[0m | \u001b[34m\u001b[1mDEBUG   \u001b[0m | \u001b[36m__main__\u001b[0m:\u001b[36mcompose_insert_query_form_graph\u001b[0m:\u001b[36m26\u001b[0m - \u001b[34m\u001b[1mReturn query with 9402 triple(s) and name timestamp:1731329406166/temp.\u001b[0m\n",
      "\u001b[32m2024-11-12 10:15:23.285\u001b[0m | \u001b[34m\u001b[1mDEBUG   \u001b[0m | \u001b[36m__main__\u001b[0m:\u001b[36mcompose_insert_query_form_graph\u001b[0m:\u001b[36m26\u001b[0m - \u001b[34m\u001b[1mReturn query with 587 triple(s) and name timestamp:1731330006072/added.\u001b[0m\n",
      "\u001b[32m2024-11-12 10:15:23.712\u001b[0m | \u001b[34m\u001b[1mDEBUG   \u001b[0m | \u001b[36m__main__\u001b[0m:\u001b[36mcompose_insert_query_form_graph\u001b[0m:\u001b[36m26\u001b[0m - \u001b[34m\u001b[1mReturn query with 567 triple(s) and name timestamp:1731330006072/removed.\u001b[0m\n",
      "\u001b[32m2024-11-12 10:15:32.125\u001b[0m | \u001b[34m\u001b[1mDEBUG   \u001b[0m | \u001b[36m__main__\u001b[0m:\u001b[36mcompose_insert_query_form_graph\u001b[0m:\u001b[36m26\u001b[0m - \u001b[34m\u001b[1mReturn query with 9422 triple(s) and name timestamp:1731330006072/temp.\u001b[0m\n",
      "\u001b[32m2024-11-12 10:15:39.540\u001b[0m | \u001b[34m\u001b[1mDEBUG   \u001b[0m | \u001b[36m__main__\u001b[0m:\u001b[36mcompose_insert_query_form_graph\u001b[0m:\u001b[36m26\u001b[0m - \u001b[34m\u001b[1mReturn query with 595 triple(s) and name timestamp:1731330606804/added.\u001b[0m\n",
      "\u001b[32m2024-11-12 10:15:39.975\u001b[0m | \u001b[34m\u001b[1mDEBUG   \u001b[0m | \u001b[36m__main__\u001b[0m:\u001b[36mcompose_insert_query_form_graph\u001b[0m:\u001b[36m26\u001b[0m - \u001b[34m\u001b[1mReturn query with 563 triple(s) and name timestamp:1731330606804/removed.\u001b[0m\n",
      "\u001b[32m2024-11-12 10:15:48.572\u001b[0m | \u001b[34m\u001b[1mDEBUG   \u001b[0m | \u001b[36m__main__\u001b[0m:\u001b[36mcompose_insert_query_form_graph\u001b[0m:\u001b[36m26\u001b[0m - \u001b[34m\u001b[1mReturn query with 9454 triple(s) and name timestamp:1731330606804/temp.\u001b[0m\n",
      "\u001b[32m2024-11-12 10:15:57.777\u001b[0m | \u001b[34m\u001b[1mDEBUG   \u001b[0m | \u001b[36m__main__\u001b[0m:\u001b[36mcompose_insert_query_form_graph\u001b[0m:\u001b[36m26\u001b[0m - \u001b[34m\u001b[1mReturn query with 2760 triple(s) and name timestamp:1731331209345/added.\u001b[0m\n",
      "\u001b[32m2024-11-12 10:15:58.543\u001b[0m | \u001b[34m\u001b[1mDEBUG   \u001b[0m | \u001b[36m__main__\u001b[0m:\u001b[36mcompose_insert_query_form_graph\u001b[0m:\u001b[36m26\u001b[0m - \u001b[34m\u001b[1mReturn query with 1017 triple(s) and name timestamp:1731331209345/removed.\u001b[0m\n",
      "\u001b[32m2024-11-12 10:16:09.208\u001b[0m | \u001b[34m\u001b[1mDEBUG   \u001b[0m | \u001b[36m__main__\u001b[0m:\u001b[36mcompose_insert_query_form_graph\u001b[0m:\u001b[36m26\u001b[0m - \u001b[34m\u001b[1mReturn query with 11197 triple(s) and name timestamp:1731331209345/temp.\u001b[0m\n",
      "\u001b[32m2024-11-12 10:16:18.478\u001b[0m | \u001b[34m\u001b[1mDEBUG   \u001b[0m | \u001b[36m__main__\u001b[0m:\u001b[36mcompose_insert_query_form_graph\u001b[0m:\u001b[36m26\u001b[0m - \u001b[34m\u001b[1mReturn query with 2185 triple(s) and name timestamp:1731331806990/added.\u001b[0m\n",
      "\u001b[32m2024-11-12 10:16:22.769\u001b[0m | \u001b[34m\u001b[1mDEBUG   \u001b[0m | \u001b[36m__main__\u001b[0m:\u001b[36mcompose_insert_query_form_graph\u001b[0m:\u001b[36m26\u001b[0m - \u001b[34m\u001b[1mReturn query with 2884 triple(s) and name timestamp:1731331806990/removed.\u001b[0m\n",
      "\u001b[32m2024-11-12 10:16:40.156\u001b[0m | \u001b[34m\u001b[1mDEBUG   \u001b[0m | \u001b[36m__main__\u001b[0m:\u001b[36mcompose_insert_query_form_graph\u001b[0m:\u001b[36m26\u001b[0m - \u001b[34m\u001b[1mReturn query with 10498 triple(s) and name timestamp:1731331806990/temp.\u001b[0m\n",
      "\u001b[32m2024-11-12 10:16:49.017\u001b[0m | \u001b[34m\u001b[1mDEBUG   \u001b[0m | \u001b[36m__main__\u001b[0m:\u001b[36mcompose_insert_query_form_graph\u001b[0m:\u001b[36m26\u001b[0m - \u001b[34m\u001b[1mReturn query with 547 triple(s) and name timestamp:1731332406099/added.\u001b[0m\n",
      "\u001b[32m2024-11-12 10:16:51.388\u001b[0m | \u001b[34m\u001b[1mDEBUG   \u001b[0m | \u001b[36m__main__\u001b[0m:\u001b[36mcompose_insert_query_form_graph\u001b[0m:\u001b[36m26\u001b[0m - \u001b[34m\u001b[1mReturn query with 1390 triple(s) and name timestamp:1731332406099/removed.\u001b[0m\n",
      "\u001b[32m2024-11-12 10:17:09.935\u001b[0m | \u001b[34m\u001b[1mDEBUG   \u001b[0m | \u001b[36m__main__\u001b[0m:\u001b[36mcompose_insert_query_form_graph\u001b[0m:\u001b[36m26\u001b[0m - \u001b[34m\u001b[1mReturn query with 9655 triple(s) and name timestamp:1731332406099/temp.\u001b[0m\n",
      "\u001b[32m2024-11-12 10:17:19.834\u001b[0m | \u001b[34m\u001b[1mDEBUG   \u001b[0m | \u001b[36m__main__\u001b[0m:\u001b[36mcompose_insert_query_form_graph\u001b[0m:\u001b[36m26\u001b[0m - \u001b[34m\u001b[1mReturn query with 588 triple(s) and name timestamp:1731333006076/added.\u001b[0m\n",
      "\u001b[32m2024-11-12 10:17:21.036\u001b[0m | \u001b[34m\u001b[1mDEBUG   \u001b[0m | \u001b[36m__main__\u001b[0m:\u001b[36mcompose_insert_query_form_graph\u001b[0m:\u001b[36m26\u001b[0m - \u001b[34m\u001b[1mReturn query with 612 triple(s) and name timestamp:1731333006076/removed.\u001b[0m\n",
      "\u001b[32m2024-11-12 10:17:35.018\u001b[0m | \u001b[34m\u001b[1mDEBUG   \u001b[0m | \u001b[36m__main__\u001b[0m:\u001b[36mcompose_insert_query_form_graph\u001b[0m:\u001b[36m26\u001b[0m - \u001b[34m\u001b[1mReturn query with 9631 triple(s) and name timestamp:1731333006076/temp.\u001b[0m\n",
      "\u001b[32m2024-11-12 10:17:42.993\u001b[0m | \u001b[34m\u001b[1mDEBUG   \u001b[0m | \u001b[36m__main__\u001b[0m:\u001b[36mcompose_insert_query_form_graph\u001b[0m:\u001b[36m26\u001b[0m - \u001b[34m\u001b[1mReturn query with 585 triple(s) and name timestamp:1731333606245/added.\u001b[0m\n",
      "\u001b[32m2024-11-12 10:17:44.369\u001b[0m | \u001b[34m\u001b[1mDEBUG   \u001b[0m | \u001b[36m__main__\u001b[0m:\u001b[36mcompose_insert_query_form_graph\u001b[0m:\u001b[36m26\u001b[0m - \u001b[34m\u001b[1mReturn query with 565 triple(s) and name timestamp:1731333606245/removed.\u001b[0m\n",
      "\u001b[32m2024-11-12 10:18:04.271\u001b[0m | \u001b[34m\u001b[1mDEBUG   \u001b[0m | \u001b[36m__main__\u001b[0m:\u001b[36mcompose_insert_query_form_graph\u001b[0m:\u001b[36m26\u001b[0m - \u001b[34m\u001b[1mReturn query with 9651 triple(s) and name timestamp:1731333606245/temp.\u001b[0m\n",
      "\u001b[32m2024-11-12 10:18:11.975\u001b[0m | \u001b[34m\u001b[1mDEBUG   \u001b[0m | \u001b[36m__main__\u001b[0m:\u001b[36mcompose_insert_query_form_graph\u001b[0m:\u001b[36m26\u001b[0m - \u001b[34m\u001b[1mReturn query with 594 triple(s) and name timestamp:1731334207172/added.\u001b[0m\n",
      "\u001b[32m2024-11-12 10:18:12.372\u001b[0m | \u001b[34m\u001b[1mDEBUG   \u001b[0m | \u001b[36m__main__\u001b[0m:\u001b[36mcompose_insert_query_form_graph\u001b[0m:\u001b[36m26\u001b[0m - \u001b[34m\u001b[1mReturn query with 563 triple(s) and name timestamp:1731334207172/removed.\u001b[0m\n",
      "\u001b[32m2024-11-12 10:18:22.067\u001b[0m | \u001b[34m\u001b[1mDEBUG   \u001b[0m | \u001b[36m__main__\u001b[0m:\u001b[36mcompose_insert_query_form_graph\u001b[0m:\u001b[36m26\u001b[0m - \u001b[34m\u001b[1mReturn query with 9682 triple(s) and name timestamp:1731334207172/temp.\u001b[0m\n",
      "\u001b[32m2024-11-12 10:18:28.611\u001b[0m | \u001b[34m\u001b[1mDEBUG   \u001b[0m | \u001b[36m__main__\u001b[0m:\u001b[36mcompose_insert_query_form_graph\u001b[0m:\u001b[36m26\u001b[0m - \u001b[34m\u001b[1mReturn query with 670 triple(s) and name timestamp:1731334806807/added.\u001b[0m\n",
      "\u001b[32m2024-11-12 10:18:29.246\u001b[0m | \u001b[34m\u001b[1mDEBUG   \u001b[0m | \u001b[36m__main__\u001b[0m:\u001b[36mcompose_insert_query_form_graph\u001b[0m:\u001b[36m26\u001b[0m - \u001b[34m\u001b[1mReturn query with 642 triple(s) and name timestamp:1731334806807/removed.\u001b[0m\n",
      "\u001b[32m2024-11-12 10:18:37.589\u001b[0m | \u001b[34m\u001b[1mDEBUG   \u001b[0m | \u001b[36m__main__\u001b[0m:\u001b[36mcompose_insert_query_form_graph\u001b[0m:\u001b[36m26\u001b[0m - \u001b[34m\u001b[1mReturn query with 9710 triple(s) and name timestamp:1731334806807/temp.\u001b[0m\n",
      "\u001b[32m2024-11-12 10:18:46.717\u001b[0m | \u001b[34m\u001b[1mDEBUG   \u001b[0m | \u001b[36m__main__\u001b[0m:\u001b[36mcompose_insert_query_form_graph\u001b[0m:\u001b[36m26\u001b[0m - \u001b[34m\u001b[1mReturn query with 3572 triple(s) and name timestamp:1731335411152/added.\u001b[0m\n",
      "\u001b[32m2024-11-12 10:18:47.242\u001b[0m | \u001b[34m\u001b[1mDEBUG   \u001b[0m | \u001b[36m__main__\u001b[0m:\u001b[36mcompose_insert_query_form_graph\u001b[0m:\u001b[36m26\u001b[0m - \u001b[34m\u001b[1mReturn query with 1020 triple(s) and name timestamp:1731335411152/removed.\u001b[0m\n",
      "\u001b[32m2024-11-12 10:19:05.103\u001b[0m | \u001b[34m\u001b[1mDEBUG   \u001b[0m | \u001b[36m__main__\u001b[0m:\u001b[36mcompose_insert_query_form_graph\u001b[0m:\u001b[36m26\u001b[0m - \u001b[34m\u001b[1mReturn query with 12262 triple(s) and name timestamp:1731335411152/temp.\u001b[0m\n",
      "\u001b[32m2024-11-12 10:19:12.569\u001b[0m | \u001b[34m\u001b[1mDEBUG   \u001b[0m | \u001b[36m__main__\u001b[0m:\u001b[36mcompose_insert_query_form_graph\u001b[0m:\u001b[36m26\u001b[0m - \u001b[34m\u001b[1mReturn query with 544 triple(s) and name timestamp:1731336006888/added.\u001b[0m\n",
      "\u001b[32m2024-11-12 10:19:15.138\u001b[0m | \u001b[34m\u001b[1mDEBUG   \u001b[0m | \u001b[36m__main__\u001b[0m:\u001b[36mcompose_insert_query_form_graph\u001b[0m:\u001b[36m26\u001b[0m - \u001b[34m\u001b[1mReturn query with 3167 triple(s) and name timestamp:1731336006888/removed.\u001b[0m\n",
      "\u001b[32m2024-11-12 10:19:27.668\u001b[0m | \u001b[34m\u001b[1mDEBUG   \u001b[0m | \u001b[36m__main__\u001b[0m:\u001b[36mcompose_insert_query_form_graph\u001b[0m:\u001b[36m26\u001b[0m - \u001b[34m\u001b[1mReturn query with 9639 triple(s) and name timestamp:1731336006888/temp.\u001b[0m\n",
      "\u001b[32m2024-11-12 10:19:36.836\u001b[0m | \u001b[34m\u001b[1mDEBUG   \u001b[0m | \u001b[36m__main__\u001b[0m:\u001b[36mcompose_insert_query_form_graph\u001b[0m:\u001b[36m26\u001b[0m - \u001b[34m\u001b[1mReturn query with 2929 triple(s) and name timestamp:1731336610269/added.\u001b[0m\n",
      "\u001b[32m2024-11-12 10:19:37.414\u001b[0m | \u001b[34m\u001b[1mDEBUG   \u001b[0m | \u001b[36m__main__\u001b[0m:\u001b[36mcompose_insert_query_form_graph\u001b[0m:\u001b[36m26\u001b[0m - \u001b[34m\u001b[1mReturn query with 803 triple(s) and name timestamp:1731336610269/removed.\u001b[0m\n",
      "\u001b[32m2024-11-12 10:19:48.119\u001b[0m | \u001b[34m\u001b[1mDEBUG   \u001b[0m | \u001b[36m__main__\u001b[0m:\u001b[36mcompose_insert_query_form_graph\u001b[0m:\u001b[36m26\u001b[0m - \u001b[34m\u001b[1mReturn query with 11765 triple(s) and name timestamp:1731336610269/temp.\u001b[0m\n",
      "\u001b[32m2024-11-12 10:19:56.308\u001b[0m | \u001b[34m\u001b[1mDEBUG   \u001b[0m | \u001b[36m__main__\u001b[0m:\u001b[36mcompose_insert_query_form_graph\u001b[0m:\u001b[36m26\u001b[0m - \u001b[34m\u001b[1mReturn query with 1466 triple(s) and name timestamp:1731337206770/added.\u001b[0m\n",
      "\u001b[32m2024-11-12 10:19:59.807\u001b[0m | \u001b[34m\u001b[1mDEBUG   \u001b[0m | \u001b[36m__main__\u001b[0m:\u001b[36mcompose_insert_query_form_graph\u001b[0m:\u001b[36m26\u001b[0m - \u001b[34m\u001b[1mReturn query with 3217 triple(s) and name timestamp:1731337206770/removed.\u001b[0m\n",
      "\u001b[32m2024-11-12 10:20:22.565\u001b[0m | \u001b[34m\u001b[1mDEBUG   \u001b[0m | \u001b[36m__main__\u001b[0m:\u001b[36mcompose_insert_query_form_graph\u001b[0m:\u001b[36m26\u001b[0m - \u001b[34m\u001b[1mReturn query with 10014 triple(s) and name timestamp:1731337206770/temp.\u001b[0m\n",
      "\u001b[32m2024-11-12 10:20:30.749\u001b[0m | \u001b[34m\u001b[1mDEBUG   \u001b[0m | \u001b[36m__main__\u001b[0m:\u001b[36mcompose_insert_query_form_graph\u001b[0m:\u001b[36m26\u001b[0m - \u001b[34m\u001b[1mReturn query with 591 triple(s) and name timestamp:1731337806738/added.\u001b[0m\n",
      "\u001b[32m2024-11-12 10:20:31.951\u001b[0m | \u001b[34m\u001b[1mDEBUG   \u001b[0m | \u001b[36m__main__\u001b[0m:\u001b[36mcompose_insert_query_form_graph\u001b[0m:\u001b[36m26\u001b[0m - \u001b[34m\u001b[1mReturn query with 887 triple(s) and name timestamp:1731337806738/removed.\u001b[0m\n",
      "\u001b[32m2024-11-12 10:20:48.891\u001b[0m | \u001b[34m\u001b[1mDEBUG   \u001b[0m | \u001b[36m__main__\u001b[0m:\u001b[36mcompose_insert_query_form_graph\u001b[0m:\u001b[36m26\u001b[0m - \u001b[34m\u001b[1mReturn query with 9718 triple(s) and name timestamp:1731337806738/temp.\u001b[0m\n",
      "\u001b[32m2024-11-12 10:20:57.645\u001b[0m | \u001b[34m\u001b[1mDEBUG   \u001b[0m | \u001b[36m__main__\u001b[0m:\u001b[36mcompose_insert_query_form_graph\u001b[0m:\u001b[36m26\u001b[0m - \u001b[34m\u001b[1mReturn query with 587 triple(s) and name timestamp:1731338406696/added.\u001b[0m\n",
      "\u001b[32m2024-11-12 10:20:58.980\u001b[0m | \u001b[34m\u001b[1mDEBUG   \u001b[0m | \u001b[36m__main__\u001b[0m:\u001b[36mcompose_insert_query_form_graph\u001b[0m:\u001b[36m26\u001b[0m - \u001b[34m\u001b[1mReturn query with 645 triple(s) and name timestamp:1731338406696/removed.\u001b[0m\n",
      "\u001b[32m2024-11-12 10:21:18.826\u001b[0m | \u001b[34m\u001b[1mDEBUG   \u001b[0m | \u001b[36m__main__\u001b[0m:\u001b[36mcompose_insert_query_form_graph\u001b[0m:\u001b[36m26\u001b[0m - \u001b[34m\u001b[1mReturn query with 9660 triple(s) and name timestamp:1731338406696/temp.\u001b[0m\n",
      "\u001b[32m2024-11-12 10:21:30.636\u001b[0m | \u001b[34m\u001b[1mDEBUG   \u001b[0m | \u001b[36m__main__\u001b[0m:\u001b[36mcompose_insert_query_form_graph\u001b[0m:\u001b[36m26\u001b[0m - \u001b[34m\u001b[1mReturn query with 585 triple(s) and name timestamp:1731339007124/added.\u001b[0m\n",
      "\u001b[32m2024-11-12 10:21:31.119\u001b[0m | \u001b[34m\u001b[1mDEBUG   \u001b[0m | \u001b[36m__main__\u001b[0m:\u001b[36mcompose_insert_query_form_graph\u001b[0m:\u001b[36m26\u001b[0m - \u001b[34m\u001b[1mReturn query with 564 triple(s) and name timestamp:1731339007124/removed.\u001b[0m\n",
      "\u001b[32m2024-11-12 10:21:41.343\u001b[0m | \u001b[34m\u001b[1mDEBUG   \u001b[0m | \u001b[36m__main__\u001b[0m:\u001b[36mcompose_insert_query_form_graph\u001b[0m:\u001b[36m26\u001b[0m - \u001b[34m\u001b[1mReturn query with 9681 triple(s) and name timestamp:1731339007124/temp.\u001b[0m\n",
      "\u001b[32m2024-11-12 10:21:49.381\u001b[0m | \u001b[34m\u001b[1mDEBUG   \u001b[0m | \u001b[36m__main__\u001b[0m:\u001b[36mcompose_insert_query_form_graph\u001b[0m:\u001b[36m26\u001b[0m - \u001b[34m\u001b[1mReturn query with 539 triple(s) and name timestamp:1731339606750/added.\u001b[0m\n",
      "\u001b[32m2024-11-12 10:21:49.828\u001b[0m | \u001b[34m\u001b[1mDEBUG   \u001b[0m | \u001b[36m__main__\u001b[0m:\u001b[36mcompose_insert_query_form_graph\u001b[0m:\u001b[36m26\u001b[0m - \u001b[34m\u001b[1mReturn query with 560 triple(s) and name timestamp:1731339606750/removed.\u001b[0m\n",
      "\u001b[32m2024-11-12 10:22:00.948\u001b[0m | \u001b[34m\u001b[1mDEBUG   \u001b[0m | \u001b[36m__main__\u001b[0m:\u001b[36mcompose_insert_query_form_graph\u001b[0m:\u001b[36m26\u001b[0m - \u001b[34m\u001b[1mReturn query with 9660 triple(s) and name timestamp:1731339606750/temp.\u001b[0m\n",
      "\u001b[32m2024-11-12 10:22:07.870\u001b[0m | \u001b[34m\u001b[1mDEBUG   \u001b[0m | \u001b[36m__main__\u001b[0m:\u001b[36mcompose_insert_query_form_graph\u001b[0m:\u001b[36m26\u001b[0m - \u001b[34m\u001b[1mReturn query with 587 triple(s) and name timestamp:1731340206002/added.\u001b[0m\n",
      "\u001b[32m2024-11-12 10:22:08.361\u001b[0m | \u001b[34m\u001b[1mDEBUG   \u001b[0m | \u001b[36m__main__\u001b[0m:\u001b[36mcompose_insert_query_form_graph\u001b[0m:\u001b[36m26\u001b[0m - \u001b[34m\u001b[1mReturn query with 587 triple(s) and name timestamp:1731340206002/removed.\u001b[0m\n",
      "\u001b[32m2024-11-12 10:22:18.406\u001b[0m | \u001b[34m\u001b[1mDEBUG   \u001b[0m | \u001b[36m__main__\u001b[0m:\u001b[36mcompose_insert_query_form_graph\u001b[0m:\u001b[36m26\u001b[0m - \u001b[34m\u001b[1mReturn query with 9660 triple(s) and name timestamp:1731340206002/temp.\u001b[0m\n",
      "\u001b[32m2024-11-12 10:22:24.917\u001b[0m | \u001b[34m\u001b[1mDEBUG   \u001b[0m | \u001b[36m__main__\u001b[0m:\u001b[36mcompose_insert_query_form_graph\u001b[0m:\u001b[36m26\u001b[0m - \u001b[34m\u001b[1mReturn query with 585 triple(s) and name timestamp:1731340805839/added.\u001b[0m\n",
      "\u001b[32m2024-11-12 10:22:25.418\u001b[0m | \u001b[34m\u001b[1mDEBUG   \u001b[0m | \u001b[36m__main__\u001b[0m:\u001b[36mcompose_insert_query_form_graph\u001b[0m:\u001b[36m26\u001b[0m - \u001b[34m\u001b[1mReturn query with 564 triple(s) and name timestamp:1731340805839/removed.\u001b[0m\n",
      "\u001b[32m2024-11-12 10:22:35.296\u001b[0m | \u001b[34m\u001b[1mDEBUG   \u001b[0m | \u001b[36m__main__\u001b[0m:\u001b[36mcompose_insert_query_form_graph\u001b[0m:\u001b[36m26\u001b[0m - \u001b[34m\u001b[1mReturn query with 9681 triple(s) and name timestamp:1731340805839/temp.\u001b[0m\n",
      "\u001b[32m2024-11-12 10:22:42.213\u001b[0m | \u001b[34m\u001b[1mDEBUG   \u001b[0m | \u001b[36m__main__\u001b[0m:\u001b[36mcompose_insert_query_form_graph\u001b[0m:\u001b[36m26\u001b[0m - \u001b[34m\u001b[1mReturn query with 589 triple(s) and name timestamp:1731341406449/added.\u001b[0m\n",
      "\u001b[32m2024-11-12 10:22:42.704\u001b[0m | \u001b[34m\u001b[1mDEBUG   \u001b[0m | \u001b[36m__main__\u001b[0m:\u001b[36mcompose_insert_query_form_graph\u001b[0m:\u001b[36m26\u001b[0m - \u001b[34m\u001b[1mReturn query with 560 triple(s) and name timestamp:1731341406449/removed.\u001b[0m\n",
      "\u001b[32m2024-11-12 10:22:51.787\u001b[0m | \u001b[34m\u001b[1mDEBUG   \u001b[0m | \u001b[36m__main__\u001b[0m:\u001b[36mcompose_insert_query_form_graph\u001b[0m:\u001b[36m26\u001b[0m - \u001b[34m\u001b[1mReturn query with 9710 triple(s) and name timestamp:1731341406449/temp.\u001b[0m\n",
      "\u001b[32m2024-11-12 10:22:58.610\u001b[0m | \u001b[34m\u001b[1mDEBUG   \u001b[0m | \u001b[36m__main__\u001b[0m:\u001b[36mcompose_insert_query_form_graph\u001b[0m:\u001b[36m26\u001b[0m - \u001b[34m\u001b[1mReturn query with 587 triple(s) and name timestamp:1731342007044/added.\u001b[0m\n",
      "\u001b[32m2024-11-12 10:22:59.371\u001b[0m | \u001b[34m\u001b[1mDEBUG   \u001b[0m | \u001b[36m__main__\u001b[0m:\u001b[36mcompose_insert_query_form_graph\u001b[0m:\u001b[36m26\u001b[0m - \u001b[34m\u001b[1mReturn query with 637 triple(s) and name timestamp:1731342007044/removed.\u001b[0m\n",
      "\u001b[32m2024-11-12 10:23:10.489\u001b[0m | \u001b[34m\u001b[1mDEBUG   \u001b[0m | \u001b[36m__main__\u001b[0m:\u001b[36mcompose_insert_query_form_graph\u001b[0m:\u001b[36m26\u001b[0m - \u001b[34m\u001b[1mReturn query with 9660 triple(s) and name timestamp:1731342007044/temp.\u001b[0m\n",
      "\u001b[32m2024-11-12 10:23:18.429\u001b[0m | \u001b[34m\u001b[1mDEBUG   \u001b[0m | \u001b[36m__main__\u001b[0m:\u001b[36mcompose_insert_query_form_graph\u001b[0m:\u001b[36m26\u001b[0m - \u001b[34m\u001b[1mReturn query with 584 triple(s) and name timestamp:1731342606510/added.\u001b[0m\n",
      "\u001b[32m2024-11-12 10:23:18.930\u001b[0m | \u001b[34m\u001b[1mDEBUG   \u001b[0m | \u001b[36m__main__\u001b[0m:\u001b[36mcompose_insert_query_form_graph\u001b[0m:\u001b[36m26\u001b[0m - \u001b[34m\u001b[1mReturn query with 564 triple(s) and name timestamp:1731342606510/removed.\u001b[0m\n",
      "\u001b[32m2024-11-12 10:23:27.061\u001b[0m | \u001b[34m\u001b[1mDEBUG   \u001b[0m | \u001b[36m__main__\u001b[0m:\u001b[36mcompose_insert_query_form_graph\u001b[0m:\u001b[36m26\u001b[0m - \u001b[34m\u001b[1mReturn query with 9680 triple(s) and name timestamp:1731342606510/temp.\u001b[0m\n",
      "\u001b[32m2024-11-12 10:23:33.711\u001b[0m | \u001b[34m\u001b[1mDEBUG   \u001b[0m | \u001b[36m__main__\u001b[0m:\u001b[36mcompose_insert_query_form_graph\u001b[0m:\u001b[36m26\u001b[0m - \u001b[34m\u001b[1mReturn query with 541 triple(s) and name timestamp:1731343206255/added.\u001b[0m\n",
      "\u001b[32m2024-11-12 10:23:34.239\u001b[0m | \u001b[34m\u001b[1mDEBUG   \u001b[0m | \u001b[36m__main__\u001b[0m:\u001b[36mcompose_insert_query_form_graph\u001b[0m:\u001b[36m26\u001b[0m - \u001b[34m\u001b[1mReturn query with 561 triple(s) and name timestamp:1731343206255/removed.\u001b[0m\n",
      "\u001b[32m2024-11-12 10:23:44.757\u001b[0m | \u001b[34m\u001b[1mDEBUG   \u001b[0m | \u001b[36m__main__\u001b[0m:\u001b[36mcompose_insert_query_form_graph\u001b[0m:\u001b[36m26\u001b[0m - \u001b[34m\u001b[1mReturn query with 9660 triple(s) and name timestamp:1731343206255/temp.\u001b[0m\n",
      "\u001b[32m2024-11-12 10:23:51.308\u001b[0m | \u001b[34m\u001b[1mDEBUG   \u001b[0m | \u001b[36m__main__\u001b[0m:\u001b[36mcompose_insert_query_form_graph\u001b[0m:\u001b[36m26\u001b[0m - \u001b[34m\u001b[1mReturn query with 587 triple(s) and name timestamp:1731343806165/added.\u001b[0m\n",
      "\u001b[32m2024-11-12 10:23:51.663\u001b[0m | \u001b[34m\u001b[1mDEBUG   \u001b[0m | \u001b[36m__main__\u001b[0m:\u001b[36mcompose_insert_query_form_graph\u001b[0m:\u001b[36m26\u001b[0m - \u001b[34m\u001b[1mReturn query with 587 triple(s) and name timestamp:1731343806165/removed.\u001b[0m\n",
      "\u001b[32m2024-11-12 10:23:59.921\u001b[0m | \u001b[34m\u001b[1mDEBUG   \u001b[0m | \u001b[36m__main__\u001b[0m:\u001b[36mcompose_insert_query_form_graph\u001b[0m:\u001b[36m26\u001b[0m - \u001b[34m\u001b[1mReturn query with 9660 triple(s) and name timestamp:1731343806165/temp.\u001b[0m\n",
      "\u001b[32m2024-11-12 10:24:06.990\u001b[0m | \u001b[34m\u001b[1mDEBUG   \u001b[0m | \u001b[36m__main__\u001b[0m:\u001b[36mcompose_insert_query_form_graph\u001b[0m:\u001b[36m26\u001b[0m - \u001b[34m\u001b[1mReturn query with 585 triple(s) and name timestamp:1731344406009/added.\u001b[0m\n",
      "\u001b[32m2024-11-12 10:24:07.718\u001b[0m | \u001b[34m\u001b[1mDEBUG   \u001b[0m | \u001b[36m__main__\u001b[0m:\u001b[36mcompose_insert_query_form_graph\u001b[0m:\u001b[36m26\u001b[0m - \u001b[34m\u001b[1mReturn query with 564 triple(s) and name timestamp:1731344406009/removed.\u001b[0m\n",
      "\u001b[32m2024-11-12 10:24:19.087\u001b[0m | \u001b[34m\u001b[1mDEBUG   \u001b[0m | \u001b[36m__main__\u001b[0m:\u001b[36mcompose_insert_query_form_graph\u001b[0m:\u001b[36m26\u001b[0m - \u001b[34m\u001b[1mReturn query with 9681 triple(s) and name timestamp:1731344406009/temp.\u001b[0m\n",
      "\u001b[32m2024-11-12 10:24:26.409\u001b[0m | \u001b[34m\u001b[1mDEBUG   \u001b[0m | \u001b[36m__main__\u001b[0m:\u001b[36mcompose_insert_query_form_graph\u001b[0m:\u001b[36m26\u001b[0m - \u001b[34m\u001b[1mReturn query with 589 triple(s) and name timestamp:1731345005767/added.\u001b[0m\n",
      "\u001b[32m2024-11-12 10:24:27.025\u001b[0m | \u001b[34m\u001b[1mDEBUG   \u001b[0m | \u001b[36m__main__\u001b[0m:\u001b[36mcompose_insert_query_form_graph\u001b[0m:\u001b[36m26\u001b[0m - \u001b[34m\u001b[1mReturn query with 560 triple(s) and name timestamp:1731345005767/removed.\u001b[0m\n",
      "\u001b[32m2024-11-12 10:24:38.417\u001b[0m | \u001b[34m\u001b[1mDEBUG   \u001b[0m | \u001b[36m__main__\u001b[0m:\u001b[36mcompose_insert_query_form_graph\u001b[0m:\u001b[36m26\u001b[0m - \u001b[34m\u001b[1mReturn query with 9710 triple(s) and name timestamp:1731345005767/temp.\u001b[0m\n",
      "\u001b[32m2024-11-12 10:24:45.822\u001b[0m | \u001b[34m\u001b[1mDEBUG   \u001b[0m | \u001b[36m__main__\u001b[0m:\u001b[36mcompose_insert_query_form_graph\u001b[0m:\u001b[36m26\u001b[0m - \u001b[34m\u001b[1mReturn query with 589 triple(s) and name timestamp:1731345606376/added.\u001b[0m\n",
      "\u001b[32m2024-11-12 10:24:46.409\u001b[0m | \u001b[34m\u001b[1mDEBUG   \u001b[0m | \u001b[36m__main__\u001b[0m:\u001b[36mcompose_insert_query_form_graph\u001b[0m:\u001b[36m26\u001b[0m - \u001b[34m\u001b[1mReturn query with 639 triple(s) and name timestamp:1731345606376/removed.\u001b[0m\n",
      "\u001b[32m2024-11-12 10:25:04.228\u001b[0m | \u001b[34m\u001b[1mDEBUG   \u001b[0m | \u001b[36m__main__\u001b[0m:\u001b[36mcompose_insert_query_form_graph\u001b[0m:\u001b[36m26\u001b[0m - \u001b[34m\u001b[1mReturn query with 9660 triple(s) and name timestamp:1731345606376/temp.\u001b[0m\n",
      "\u001b[32m2024-11-12 10:25:14.315\u001b[0m | \u001b[34m\u001b[1mDEBUG   \u001b[0m | \u001b[36m__main__\u001b[0m:\u001b[36mcompose_insert_query_form_graph\u001b[0m:\u001b[36m26\u001b[0m - \u001b[34m\u001b[1mReturn query with 585 triple(s) and name timestamp:1731346206975/added.\u001b[0m\n",
      "\u001b[32m2024-11-12 10:25:15.085\u001b[0m | \u001b[34m\u001b[1mDEBUG   \u001b[0m | \u001b[36m__main__\u001b[0m:\u001b[36mcompose_insert_query_form_graph\u001b[0m:\u001b[36m26\u001b[0m - \u001b[34m\u001b[1mReturn query with 564 triple(s) and name timestamp:1731346206975/removed.\u001b[0m\n",
      "\u001b[32m2024-11-12 10:25:28.917\u001b[0m | \u001b[34m\u001b[1mDEBUG   \u001b[0m | \u001b[36m__main__\u001b[0m:\u001b[36mcompose_insert_query_form_graph\u001b[0m:\u001b[36m26\u001b[0m - \u001b[34m\u001b[1mReturn query with 9681 triple(s) and name timestamp:1731346206975/temp.\u001b[0m\n",
      "\u001b[32m2024-11-12 10:25:36.925\u001b[0m | \u001b[34m\u001b[1mDEBUG   \u001b[0m | \u001b[36m__main__\u001b[0m:\u001b[36mcompose_insert_query_form_graph\u001b[0m:\u001b[36m26\u001b[0m - \u001b[34m\u001b[1mReturn query with 539 triple(s) and name timestamp:1731346806341/added.\u001b[0m\n",
      "\u001b[32m2024-11-12 10:25:37.672\u001b[0m | \u001b[34m\u001b[1mDEBUG   \u001b[0m | \u001b[36m__main__\u001b[0m:\u001b[36mcompose_insert_query_form_graph\u001b[0m:\u001b[36m26\u001b[0m - \u001b[34m\u001b[1mReturn query with 560 triple(s) and name timestamp:1731346806341/removed.\u001b[0m\n",
      "\u001b[32m2024-11-12 10:25:51.972\u001b[0m | \u001b[34m\u001b[1mDEBUG   \u001b[0m | \u001b[36m__main__\u001b[0m:\u001b[36mcompose_insert_query_form_graph\u001b[0m:\u001b[36m26\u001b[0m - \u001b[34m\u001b[1mReturn query with 9660 triple(s) and name timestamp:1731346806341/temp.\u001b[0m\n",
      "\u001b[32m2024-11-12 10:25:59.903\u001b[0m | \u001b[34m\u001b[1mDEBUG   \u001b[0m | \u001b[36m__main__\u001b[0m:\u001b[36mcompose_insert_query_form_graph\u001b[0m:\u001b[36m26\u001b[0m - \u001b[34m\u001b[1mReturn query with 587 triple(s) and name timestamp:1731347406994/added.\u001b[0m\n",
      "\u001b[32m2024-11-12 10:26:00.979\u001b[0m | \u001b[34m\u001b[1mDEBUG   \u001b[0m | \u001b[36m__main__\u001b[0m:\u001b[36mcompose_insert_query_form_graph\u001b[0m:\u001b[36m26\u001b[0m - \u001b[34m\u001b[1mReturn query with 587 triple(s) and name timestamp:1731347406994/removed.\u001b[0m\n",
      "\u001b[32m2024-11-12 10:26:18.474\u001b[0m | \u001b[34m\u001b[1mDEBUG   \u001b[0m | \u001b[36m__main__\u001b[0m:\u001b[36mcompose_insert_query_form_graph\u001b[0m:\u001b[36m26\u001b[0m - \u001b[34m\u001b[1mReturn query with 9660 triple(s) and name timestamp:1731347406994/temp.\u001b[0m\n",
      "\u001b[32m2024-11-12 10:26:26.555\u001b[0m | \u001b[34m\u001b[1mDEBUG   \u001b[0m | \u001b[36m__main__\u001b[0m:\u001b[36mcompose_insert_query_form_graph\u001b[0m:\u001b[36m26\u001b[0m - \u001b[34m\u001b[1mReturn query with 585 triple(s) and name timestamp:1731348006449/added.\u001b[0m\n",
      "\u001b[32m2024-11-12 10:26:27.268\u001b[0m | \u001b[34m\u001b[1mDEBUG   \u001b[0m | \u001b[36m__main__\u001b[0m:\u001b[36mcompose_insert_query_form_graph\u001b[0m:\u001b[36m26\u001b[0m - \u001b[34m\u001b[1mReturn query with 564 triple(s) and name timestamp:1731348006449/removed.\u001b[0m\n",
      "\u001b[32m2024-11-12 10:26:43.938\u001b[0m | \u001b[34m\u001b[1mDEBUG   \u001b[0m | \u001b[36m__main__\u001b[0m:\u001b[36mcompose_insert_query_form_graph\u001b[0m:\u001b[36m26\u001b[0m - \u001b[34m\u001b[1mReturn query with 9681 triple(s) and name timestamp:1731348006449/temp.\u001b[0m\n",
      "\u001b[32m2024-11-12 10:26:52.681\u001b[0m | \u001b[34m\u001b[1mDEBUG   \u001b[0m | \u001b[36m__main__\u001b[0m:\u001b[36mcompose_insert_query_form_graph\u001b[0m:\u001b[36m26\u001b[0m - \u001b[34m\u001b[1mReturn query with 589 triple(s) and name timestamp:1731348606819/added.\u001b[0m\n",
      "\u001b[32m2024-11-12 10:26:53.639\u001b[0m | \u001b[34m\u001b[1mDEBUG   \u001b[0m | \u001b[36m__main__\u001b[0m:\u001b[36mcompose_insert_query_form_graph\u001b[0m:\u001b[36m26\u001b[0m - \u001b[34m\u001b[1mReturn query with 560 triple(s) and name timestamp:1731348606819/removed.\u001b[0m\n",
      "\u001b[32m2024-11-12 10:27:11.644\u001b[0m | \u001b[34m\u001b[1mDEBUG   \u001b[0m | \u001b[36m__main__\u001b[0m:\u001b[36mcompose_insert_query_form_graph\u001b[0m:\u001b[36m26\u001b[0m - \u001b[34m\u001b[1mReturn query with 9710 triple(s) and name timestamp:1731348606819/temp.\u001b[0m\n",
      "\u001b[32m2024-11-12 10:27:21.067\u001b[0m | \u001b[34m\u001b[1mDEBUG   \u001b[0m | \u001b[36m__main__\u001b[0m:\u001b[36mcompose_insert_query_form_graph\u001b[0m:\u001b[36m26\u001b[0m - \u001b[34m\u001b[1mReturn query with 587 triple(s) and name timestamp:1731349206586/added.\u001b[0m\n",
      "\u001b[32m2024-11-12 10:27:21.578\u001b[0m | \u001b[34m\u001b[1mDEBUG   \u001b[0m | \u001b[36m__main__\u001b[0m:\u001b[36mcompose_insert_query_form_graph\u001b[0m:\u001b[36m26\u001b[0m - \u001b[34m\u001b[1mReturn query with 637 triple(s) and name timestamp:1731349206586/removed.\u001b[0m\n",
      "\u001b[32m2024-11-12 10:27:33.898\u001b[0m | \u001b[34m\u001b[1mDEBUG   \u001b[0m | \u001b[36m__main__\u001b[0m:\u001b[36mcompose_insert_query_form_graph\u001b[0m:\u001b[36m26\u001b[0m - \u001b[34m\u001b[1mReturn query with 9660 triple(s) and name timestamp:1731349206586/temp.\u001b[0m\n",
      "\u001b[32m2024-11-12 10:27:40.311\u001b[0m | \u001b[34m\u001b[1mDEBUG   \u001b[0m | \u001b[36m__main__\u001b[0m:\u001b[36mcompose_insert_query_form_graph\u001b[0m:\u001b[36m26\u001b[0m - \u001b[34m\u001b[1mReturn query with 588 triple(s) and name timestamp:1731349806926/added.\u001b[0m\n",
      "\u001b[32m2024-11-12 10:27:40.672\u001b[0m | \u001b[34m\u001b[1mDEBUG   \u001b[0m | \u001b[36m__main__\u001b[0m:\u001b[36mcompose_insert_query_form_graph\u001b[0m:\u001b[36m26\u001b[0m - \u001b[34m\u001b[1mReturn query with 565 triple(s) and name timestamp:1731349806926/removed.\u001b[0m\n",
      "\u001b[32m2024-11-12 10:27:48.534\u001b[0m | \u001b[34m\u001b[1mDEBUG   \u001b[0m | \u001b[36m__main__\u001b[0m:\u001b[36mcompose_insert_query_form_graph\u001b[0m:\u001b[36m26\u001b[0m - \u001b[34m\u001b[1mReturn query with 9683 triple(s) and name timestamp:1731349806926/temp.\u001b[0m\n",
      "\u001b[32m2024-11-12 10:27:54.270\u001b[0m | \u001b[34m\u001b[1mDEBUG   \u001b[0m | \u001b[36m__main__\u001b[0m:\u001b[36mcompose_insert_query_form_graph\u001b[0m:\u001b[36m26\u001b[0m - \u001b[34m\u001b[1mReturn query with 540 triple(s) and name timestamp:1731350406296/added.\u001b[0m\n",
      "\u001b[32m2024-11-12 10:27:54.645\u001b[0m | \u001b[34m\u001b[1mDEBUG   \u001b[0m | \u001b[36m__main__\u001b[0m:\u001b[36mcompose_insert_query_form_graph\u001b[0m:\u001b[36m26\u001b[0m - \u001b[34m\u001b[1mReturn query with 563 triple(s) and name timestamp:1731350406296/removed.\u001b[0m\n",
      "\u001b[32m2024-11-12 10:28:05.752\u001b[0m | \u001b[34m\u001b[1mDEBUG   \u001b[0m | \u001b[36m__main__\u001b[0m:\u001b[36mcompose_insert_query_form_graph\u001b[0m:\u001b[36m26\u001b[0m - \u001b[34m\u001b[1mReturn query with 9660 triple(s) and name timestamp:1731350406296/temp.\u001b[0m\n",
      "\u001b[32m2024-11-12 10:28:12.724\u001b[0m | \u001b[34m\u001b[1mDEBUG   \u001b[0m | \u001b[36m__main__\u001b[0m:\u001b[36mcompose_insert_query_form_graph\u001b[0m:\u001b[36m26\u001b[0m - \u001b[34m\u001b[1mReturn query with 587 triple(s) and name timestamp:1731351006878/added.\u001b[0m\n",
      "\u001b[32m2024-11-12 10:28:13.485\u001b[0m | \u001b[34m\u001b[1mDEBUG   \u001b[0m | \u001b[36m__main__\u001b[0m:\u001b[36mcompose_insert_query_form_graph\u001b[0m:\u001b[36m26\u001b[0m - \u001b[34m\u001b[1mReturn query with 587 triple(s) and name timestamp:1731351006878/removed.\u001b[0m\n",
      "\u001b[32m2024-11-12 10:28:21.970\u001b[0m | \u001b[34m\u001b[1mDEBUG   \u001b[0m | \u001b[36m__main__\u001b[0m:\u001b[36mcompose_insert_query_form_graph\u001b[0m:\u001b[36m26\u001b[0m - \u001b[34m\u001b[1mReturn query with 9660 triple(s) and name timestamp:1731351006878/temp.\u001b[0m\n",
      "\u001b[32m2024-11-12 10:28:28.396\u001b[0m | \u001b[34m\u001b[1mDEBUG   \u001b[0m | \u001b[36m__main__\u001b[0m:\u001b[36mcompose_insert_query_form_graph\u001b[0m:\u001b[36m26\u001b[0m - \u001b[34m\u001b[1mReturn query with 584 triple(s) and name timestamp:1731351605819/added.\u001b[0m\n",
      "\u001b[32m2024-11-12 10:28:28.711\u001b[0m | \u001b[34m\u001b[1mDEBUG   \u001b[0m | \u001b[36m__main__\u001b[0m:\u001b[36mcompose_insert_query_form_graph\u001b[0m:\u001b[36m26\u001b[0m - \u001b[34m\u001b[1mReturn query with 564 triple(s) and name timestamp:1731351605819/removed.\u001b[0m\n",
      "\u001b[32m2024-11-12 10:28:35.251\u001b[0m | \u001b[34m\u001b[1mDEBUG   \u001b[0m | \u001b[36m__main__\u001b[0m:\u001b[36mcompose_insert_query_form_graph\u001b[0m:\u001b[36m26\u001b[0m - \u001b[34m\u001b[1mReturn query with 9680 triple(s) and name timestamp:1731351605819/temp.\u001b[0m\n",
      "\u001b[32m2024-11-12 10:28:40.744\u001b[0m | \u001b[34m\u001b[1mDEBUG   \u001b[0m | \u001b[36m__main__\u001b[0m:\u001b[36mcompose_insert_query_form_graph\u001b[0m:\u001b[36m26\u001b[0m - \u001b[34m\u001b[1mReturn query with 591 triple(s) and name timestamp:1731352207197/added.\u001b[0m\n",
      "\u001b[32m2024-11-12 10:28:41.022\u001b[0m | \u001b[34m\u001b[1mDEBUG   \u001b[0m | \u001b[36m__main__\u001b[0m:\u001b[36mcompose_insert_query_form_graph\u001b[0m:\u001b[36m26\u001b[0m - \u001b[34m\u001b[1mReturn query with 561 triple(s) and name timestamp:1731352207197/removed.\u001b[0m\n",
      "\u001b[32m2024-11-12 10:28:47.388\u001b[0m | \u001b[34m\u001b[1mDEBUG   \u001b[0m | \u001b[36m__main__\u001b[0m:\u001b[36mcompose_insert_query_form_graph\u001b[0m:\u001b[36m26\u001b[0m - \u001b[34m\u001b[1mReturn query with 9710 triple(s) and name timestamp:1731352207197/temp.\u001b[0m\n",
      "\u001b[32m2024-11-12 10:28:53.075\u001b[0m | \u001b[34m\u001b[1mDEBUG   \u001b[0m | \u001b[36m__main__\u001b[0m:\u001b[36mcompose_insert_query_form_graph\u001b[0m:\u001b[36m26\u001b[0m - \u001b[34m\u001b[1mReturn query with 587 triple(s) and name timestamp:1731352806279/added.\u001b[0m\n",
      "\u001b[32m2024-11-12 10:28:53.451\u001b[0m | \u001b[34m\u001b[1mDEBUG   \u001b[0m | \u001b[36m__main__\u001b[0m:\u001b[36mcompose_insert_query_form_graph\u001b[0m:\u001b[36m26\u001b[0m - \u001b[34m\u001b[1mReturn query with 637 triple(s) and name timestamp:1731352806279/removed.\u001b[0m\n",
      "\u001b[32m2024-11-12 10:29:00.494\u001b[0m | \u001b[34m\u001b[1mDEBUG   \u001b[0m | \u001b[36m__main__\u001b[0m:\u001b[36mcompose_insert_query_form_graph\u001b[0m:\u001b[36m26\u001b[0m - \u001b[34m\u001b[1mReturn query with 9660 triple(s) and name timestamp:1731352806279/temp.\u001b[0m\n",
      "\u001b[32m2024-11-12 10:29:06.097\u001b[0m | \u001b[34m\u001b[1mDEBUG   \u001b[0m | \u001b[36m__main__\u001b[0m:\u001b[36mcompose_insert_query_form_graph\u001b[0m:\u001b[36m26\u001b[0m - \u001b[34m\u001b[1mReturn query with 585 triple(s) and name timestamp:1731353406608/added.\u001b[0m\n",
      "\u001b[32m2024-11-12 10:29:06.534\u001b[0m | \u001b[34m\u001b[1mDEBUG   \u001b[0m | \u001b[36m__main__\u001b[0m:\u001b[36mcompose_insert_query_form_graph\u001b[0m:\u001b[36m26\u001b[0m - \u001b[34m\u001b[1mReturn query with 564 triple(s) and name timestamp:1731353406608/removed.\u001b[0m\n",
      "\u001b[32m2024-11-12 10:29:15.274\u001b[0m | \u001b[34m\u001b[1mDEBUG   \u001b[0m | \u001b[36m__main__\u001b[0m:\u001b[36mcompose_insert_query_form_graph\u001b[0m:\u001b[36m26\u001b[0m - \u001b[34m\u001b[1mReturn query with 9681 triple(s) and name timestamp:1731353406608/temp.\u001b[0m\n",
      "\u001b[32m2024-11-12 10:29:21.542\u001b[0m | \u001b[34m\u001b[1mDEBUG   \u001b[0m | \u001b[36m__main__\u001b[0m:\u001b[36mcompose_insert_query_form_graph\u001b[0m:\u001b[36m26\u001b[0m - \u001b[34m\u001b[1mReturn query with 539 triple(s) and name timestamp:1731354006696/added.\u001b[0m\n",
      "\u001b[32m2024-11-12 10:29:21.942\u001b[0m | \u001b[34m\u001b[1mDEBUG   \u001b[0m | \u001b[36m__main__\u001b[0m:\u001b[36mcompose_insert_query_form_graph\u001b[0m:\u001b[36m26\u001b[0m - \u001b[34m\u001b[1mReturn query with 560 triple(s) and name timestamp:1731354006696/removed.\u001b[0m\n",
      "\u001b[32m2024-11-12 10:29:32.771\u001b[0m | \u001b[34m\u001b[1mDEBUG   \u001b[0m | \u001b[36m__main__\u001b[0m:\u001b[36mcompose_insert_query_form_graph\u001b[0m:\u001b[36m26\u001b[0m - \u001b[34m\u001b[1mReturn query with 9660 triple(s) and name timestamp:1731354006696/temp.\u001b[0m\n",
      "\u001b[32m2024-11-12 10:29:40.165\u001b[0m | \u001b[34m\u001b[1mDEBUG   \u001b[0m | \u001b[36m__main__\u001b[0m:\u001b[36mcompose_insert_query_form_graph\u001b[0m:\u001b[36m26\u001b[0m - \u001b[34m\u001b[1mReturn query with 587 triple(s) and name timestamp:1731354606800/added.\u001b[0m\n",
      "\u001b[32m2024-11-12 10:29:41.033\u001b[0m | \u001b[34m\u001b[1mDEBUG   \u001b[0m | \u001b[36m__main__\u001b[0m:\u001b[36mcompose_insert_query_form_graph\u001b[0m:\u001b[36m26\u001b[0m - \u001b[34m\u001b[1mReturn query with 587 triple(s) and name timestamp:1731354606800/removed.\u001b[0m\n",
      "\u001b[32m2024-11-12 10:30:02.344\u001b[0m | \u001b[34m\u001b[1mDEBUG   \u001b[0m | \u001b[36m__main__\u001b[0m:\u001b[36mcompose_insert_query_form_graph\u001b[0m:\u001b[36m26\u001b[0m - \u001b[34m\u001b[1mReturn query with 9660 triple(s) and name timestamp:1731354606800/temp.\u001b[0m\n",
      "\u001b[32m2024-11-12 10:30:13.539\u001b[0m | \u001b[34m\u001b[1mDEBUG   \u001b[0m | \u001b[36m__main__\u001b[0m:\u001b[36mcompose_insert_query_form_graph\u001b[0m:\u001b[36m26\u001b[0m - \u001b[34m\u001b[1mReturn query with 585 triple(s) and name timestamp:1731355206214/added.\u001b[0m\n",
      "\u001b[32m2024-11-12 10:30:15.049\u001b[0m | \u001b[34m\u001b[1mDEBUG   \u001b[0m | \u001b[36m__main__\u001b[0m:\u001b[36mcompose_insert_query_form_graph\u001b[0m:\u001b[36m26\u001b[0m - \u001b[34m\u001b[1mReturn query with 564 triple(s) and name timestamp:1731355206214/removed.\u001b[0m\n",
      "\u001b[32m2024-11-12 10:30:37.485\u001b[0m | \u001b[34m\u001b[1mDEBUG   \u001b[0m | \u001b[36m__main__\u001b[0m:\u001b[36mcompose_insert_query_form_graph\u001b[0m:\u001b[36m26\u001b[0m - \u001b[34m\u001b[1mReturn query with 9681 triple(s) and name timestamp:1731355206214/temp.\u001b[0m\n",
      "\u001b[32m2024-11-12 10:30:45.164\u001b[0m | \u001b[34m\u001b[1mDEBUG   \u001b[0m | \u001b[36m__main__\u001b[0m:\u001b[36mcompose_insert_query_form_graph\u001b[0m:\u001b[36m26\u001b[0m - \u001b[34m\u001b[1mReturn query with 589 triple(s) and name timestamp:1731355806133/added.\u001b[0m\n",
      "\u001b[32m2024-11-12 10:30:45.559\u001b[0m | \u001b[34m\u001b[1mDEBUG   \u001b[0m | \u001b[36m__main__\u001b[0m:\u001b[36mcompose_insert_query_form_graph\u001b[0m:\u001b[36m26\u001b[0m - \u001b[34m\u001b[1mReturn query with 560 triple(s) and name timestamp:1731355806133/removed.\u001b[0m\n",
      "\u001b[32m2024-11-12 10:30:54.293\u001b[0m | \u001b[34m\u001b[1mDEBUG   \u001b[0m | \u001b[36m__main__\u001b[0m:\u001b[36mcompose_insert_query_form_graph\u001b[0m:\u001b[36m26\u001b[0m - \u001b[34m\u001b[1mReturn query with 9710 triple(s) and name timestamp:1731355806133/temp.\u001b[0m\n",
      "\u001b[32m2024-11-12 10:30:59.930\u001b[0m | \u001b[34m\u001b[1mDEBUG   \u001b[0m | \u001b[36m__main__\u001b[0m:\u001b[36mcompose_insert_query_form_graph\u001b[0m:\u001b[36m26\u001b[0m - \u001b[34m\u001b[1mReturn query with 587 triple(s) and name timestamp:1731356406486/added.\u001b[0m\n",
      "\u001b[32m2024-11-12 10:31:00.433\u001b[0m | \u001b[34m\u001b[1mDEBUG   \u001b[0m | \u001b[36m__main__\u001b[0m:\u001b[36mcompose_insert_query_form_graph\u001b[0m:\u001b[36m26\u001b[0m - \u001b[34m\u001b[1mReturn query with 637 triple(s) and name timestamp:1731356406486/removed.\u001b[0m\n",
      "\u001b[32m2024-11-12 10:31:08.805\u001b[0m | \u001b[34m\u001b[1mDEBUG   \u001b[0m | \u001b[36m__main__\u001b[0m:\u001b[36mcompose_insert_query_form_graph\u001b[0m:\u001b[36m26\u001b[0m - \u001b[34m\u001b[1mReturn query with 9660 triple(s) and name timestamp:1731356406486/temp.\u001b[0m\n",
      "\u001b[32m2024-11-12 10:31:15.001\u001b[0m | \u001b[34m\u001b[1mDEBUG   \u001b[0m | \u001b[36m__main__\u001b[0m:\u001b[36mcompose_insert_query_form_graph\u001b[0m:\u001b[36m26\u001b[0m - \u001b[34m\u001b[1mReturn query with 585 triple(s) and name timestamp:1731357006589/added.\u001b[0m\n",
      "\u001b[32m2024-11-12 10:31:15.428\u001b[0m | \u001b[34m\u001b[1mDEBUG   \u001b[0m | \u001b[36m__main__\u001b[0m:\u001b[36mcompose_insert_query_form_graph\u001b[0m:\u001b[36m26\u001b[0m - \u001b[34m\u001b[1mReturn query with 564 triple(s) and name timestamp:1731357006589/removed.\u001b[0m\n",
      "\u001b[32m2024-11-12 10:31:23.927\u001b[0m | \u001b[34m\u001b[1mDEBUG   \u001b[0m | \u001b[36m__main__\u001b[0m:\u001b[36mcompose_insert_query_form_graph\u001b[0m:\u001b[36m26\u001b[0m - \u001b[34m\u001b[1mReturn query with 9681 triple(s) and name timestamp:1731357006589/temp.\u001b[0m\n",
      "\u001b[32m2024-11-12 10:31:30.832\u001b[0m | \u001b[34m\u001b[1mDEBUG   \u001b[0m | \u001b[36m__main__\u001b[0m:\u001b[36mcompose_insert_query_form_graph\u001b[0m:\u001b[36m26\u001b[0m - \u001b[34m\u001b[1mReturn query with 539 triple(s) and name timestamp:1731357606779/added.\u001b[0m\n",
      "\u001b[32m2024-11-12 10:31:31.286\u001b[0m | \u001b[34m\u001b[1mDEBUG   \u001b[0m | \u001b[36m__main__\u001b[0m:\u001b[36mcompose_insert_query_form_graph\u001b[0m:\u001b[36m26\u001b[0m - \u001b[34m\u001b[1mReturn query with 560 triple(s) and name timestamp:1731357606779/removed.\u001b[0m\n",
      "\u001b[32m2024-11-12 10:31:40.827\u001b[0m | \u001b[34m\u001b[1mDEBUG   \u001b[0m | \u001b[36m__main__\u001b[0m:\u001b[36mcompose_insert_query_form_graph\u001b[0m:\u001b[36m26\u001b[0m - \u001b[34m\u001b[1mReturn query with 9660 triple(s) and name timestamp:1731357606779/temp.\u001b[0m\n",
      "\u001b[32m2024-11-12 10:31:47.291\u001b[0m | \u001b[34m\u001b[1mDEBUG   \u001b[0m | \u001b[36m__main__\u001b[0m:\u001b[36mcompose_insert_query_form_graph\u001b[0m:\u001b[36m26\u001b[0m - \u001b[34m\u001b[1mReturn query with 587 triple(s) and name timestamp:1731358206087/added.\u001b[0m\n",
      "\u001b[32m2024-11-12 10:31:47.747\u001b[0m | \u001b[34m\u001b[1mDEBUG   \u001b[0m | \u001b[36m__main__\u001b[0m:\u001b[36mcompose_insert_query_form_graph\u001b[0m:\u001b[36m26\u001b[0m - \u001b[34m\u001b[1mReturn query with 587 triple(s) and name timestamp:1731358206087/removed.\u001b[0m\n",
      "\u001b[32m2024-11-12 10:32:00.383\u001b[0m | \u001b[34m\u001b[1mDEBUG   \u001b[0m | \u001b[36m__main__\u001b[0m:\u001b[36mcompose_insert_query_form_graph\u001b[0m:\u001b[36m26\u001b[0m - \u001b[34m\u001b[1mReturn query with 9660 triple(s) and name timestamp:1731358206087/temp.\u001b[0m\n",
      "\u001b[32m2024-11-12 10:32:08.463\u001b[0m | \u001b[34m\u001b[1mDEBUG   \u001b[0m | \u001b[36m__main__\u001b[0m:\u001b[36mcompose_insert_query_form_graph\u001b[0m:\u001b[36m26\u001b[0m - \u001b[34m\u001b[1mReturn query with 587 triple(s) and name timestamp:1731358806531/added.\u001b[0m\n",
      "\u001b[32m2024-11-12 10:32:09.260\u001b[0m | \u001b[34m\u001b[1mDEBUG   \u001b[0m | \u001b[36m__main__\u001b[0m:\u001b[36mcompose_insert_query_form_graph\u001b[0m:\u001b[36m26\u001b[0m - \u001b[34m\u001b[1mReturn query with 565 triple(s) and name timestamp:1731358806531/removed.\u001b[0m\n",
      "\u001b[32m2024-11-12 10:32:25.149\u001b[0m | \u001b[34m\u001b[1mDEBUG   \u001b[0m | \u001b[36m__main__\u001b[0m:\u001b[36mcompose_insert_query_form_graph\u001b[0m:\u001b[36m26\u001b[0m - \u001b[34m\u001b[1mReturn query with 9682 triple(s) and name timestamp:1731358806531/temp.\u001b[0m\n",
      "\u001b[32m2024-11-12 10:32:33.995\u001b[0m | \u001b[34m\u001b[1mDEBUG   \u001b[0m | \u001b[36m__main__\u001b[0m:\u001b[36mcompose_insert_query_form_graph\u001b[0m:\u001b[36m26\u001b[0m - \u001b[34m\u001b[1mReturn query with 592 triple(s) and name timestamp:1731359406304/added.\u001b[0m\n",
      "\u001b[32m2024-11-12 10:32:34.977\u001b[0m | \u001b[34m\u001b[1mDEBUG   \u001b[0m | \u001b[36m__main__\u001b[0m:\u001b[36mcompose_insert_query_form_graph\u001b[0m:\u001b[36m26\u001b[0m - \u001b[34m\u001b[1mReturn query with 564 triple(s) and name timestamp:1731359406304/removed.\u001b[0m\n",
      "\u001b[32m2024-11-12 10:32:57.955\u001b[0m | \u001b[34m\u001b[1mDEBUG   \u001b[0m | \u001b[36m__main__\u001b[0m:\u001b[36mcompose_insert_query_form_graph\u001b[0m:\u001b[36m26\u001b[0m - \u001b[34m\u001b[1mReturn query with 9710 triple(s) and name timestamp:1731359406304/temp.\u001b[0m\n",
      "\u001b[32m2024-11-12 10:33:05.657\u001b[0m | \u001b[34m\u001b[1mDEBUG   \u001b[0m | \u001b[36m__main__\u001b[0m:\u001b[36mcompose_insert_query_form_graph\u001b[0m:\u001b[36m26\u001b[0m - \u001b[34m\u001b[1mReturn query with 587 triple(s) and name timestamp:1731360006507/added.\u001b[0m\n",
      "\u001b[32m2024-11-12 10:33:06.538\u001b[0m | \u001b[34m\u001b[1mDEBUG   \u001b[0m | \u001b[36m__main__\u001b[0m:\u001b[36mcompose_insert_query_form_graph\u001b[0m:\u001b[36m26\u001b[0m - \u001b[34m\u001b[1mReturn query with 637 triple(s) and name timestamp:1731360006507/removed.\u001b[0m\n",
      "\u001b[32m2024-11-12 10:33:22.573\u001b[0m | \u001b[34m\u001b[1mDEBUG   \u001b[0m | \u001b[36m__main__\u001b[0m:\u001b[36mcompose_insert_query_form_graph\u001b[0m:\u001b[36m26\u001b[0m - \u001b[34m\u001b[1mReturn query with 9660 triple(s) and name timestamp:1731360006507/temp.\u001b[0m\n",
      "\u001b[32m2024-11-12 10:33:30.387\u001b[0m | \u001b[34m\u001b[1mDEBUG   \u001b[0m | \u001b[36m__main__\u001b[0m:\u001b[36mcompose_insert_query_form_graph\u001b[0m:\u001b[36m26\u001b[0m - \u001b[34m\u001b[1mReturn query with 585 triple(s) and name timestamp:1731360606571/added.\u001b[0m\n",
      "\u001b[32m2024-11-12 10:33:31.258\u001b[0m | \u001b[34m\u001b[1mDEBUG   \u001b[0m | \u001b[36m__main__\u001b[0m:\u001b[36mcompose_insert_query_form_graph\u001b[0m:\u001b[36m26\u001b[0m - \u001b[34m\u001b[1mReturn query with 564 triple(s) and name timestamp:1731360606571/removed.\u001b[0m\n",
      "\u001b[32m2024-11-12 10:33:45.361\u001b[0m | \u001b[34m\u001b[1mDEBUG   \u001b[0m | \u001b[36m__main__\u001b[0m:\u001b[36mcompose_insert_query_form_graph\u001b[0m:\u001b[36m26\u001b[0m - \u001b[34m\u001b[1mReturn query with 9681 triple(s) and name timestamp:1731360606571/temp.\u001b[0m\n",
      "\u001b[32m2024-11-12 10:33:52.934\u001b[0m | \u001b[34m\u001b[1mDEBUG   \u001b[0m | \u001b[36m__main__\u001b[0m:\u001b[36mcompose_insert_query_form_graph\u001b[0m:\u001b[36m26\u001b[0m - \u001b[34m\u001b[1mReturn query with 539 triple(s) and name timestamp:1731361206940/added.\u001b[0m\n",
      "\u001b[32m2024-11-12 10:33:53.567\u001b[0m | \u001b[34m\u001b[1mDEBUG   \u001b[0m | \u001b[36m__main__\u001b[0m:\u001b[36mcompose_insert_query_form_graph\u001b[0m:\u001b[36m26\u001b[0m - \u001b[34m\u001b[1mReturn query with 560 triple(s) and name timestamp:1731361206940/removed.\u001b[0m\n",
      "\u001b[32m2024-11-12 10:34:07.155\u001b[0m | \u001b[34m\u001b[1mDEBUG   \u001b[0m | \u001b[36m__main__\u001b[0m:\u001b[36mcompose_insert_query_form_graph\u001b[0m:\u001b[36m26\u001b[0m - \u001b[34m\u001b[1mReturn query with 9660 triple(s) and name timestamp:1731361206940/temp.\u001b[0m\n",
      "\u001b[32m2024-11-12 10:34:14.192\u001b[0m | \u001b[34m\u001b[1mDEBUG   \u001b[0m | \u001b[36m__main__\u001b[0m:\u001b[36mcompose_insert_query_form_graph\u001b[0m:\u001b[36m26\u001b[0m - \u001b[34m\u001b[1mReturn query with 587 triple(s) and name timestamp:1731361806269/added.\u001b[0m\n",
      "\u001b[32m2024-11-12 10:34:14.900\u001b[0m | \u001b[34m\u001b[1mDEBUG   \u001b[0m | \u001b[36m__main__\u001b[0m:\u001b[36mcompose_insert_query_form_graph\u001b[0m:\u001b[36m26\u001b[0m - \u001b[34m\u001b[1mReturn query with 587 triple(s) and name timestamp:1731361806269/removed.\u001b[0m\n",
      "\u001b[32m2024-11-12 10:34:32.424\u001b[0m | \u001b[34m\u001b[1mDEBUG   \u001b[0m | \u001b[36m__main__\u001b[0m:\u001b[36mcompose_insert_query_form_graph\u001b[0m:\u001b[36m26\u001b[0m - \u001b[34m\u001b[1mReturn query with 9660 triple(s) and name timestamp:1731361806269/temp.\u001b[0m\n",
      "\u001b[32m2024-11-12 10:34:41.353\u001b[0m | \u001b[34m\u001b[1mDEBUG   \u001b[0m | \u001b[36m__main__\u001b[0m:\u001b[36mcompose_insert_query_form_graph\u001b[0m:\u001b[36m26\u001b[0m - \u001b[34m\u001b[1mReturn query with 585 triple(s) and name timestamp:1731362406811/added.\u001b[0m\n",
      "\u001b[32m2024-11-12 10:34:42.204\u001b[0m | \u001b[34m\u001b[1mDEBUG   \u001b[0m | \u001b[36m__main__\u001b[0m:\u001b[36mcompose_insert_query_form_graph\u001b[0m:\u001b[36m26\u001b[0m - \u001b[34m\u001b[1mReturn query with 564 triple(s) and name timestamp:1731362406811/removed.\u001b[0m\n",
      "\u001b[32m2024-11-12 10:35:02.164\u001b[0m | \u001b[34m\u001b[1mDEBUG   \u001b[0m | \u001b[36m__main__\u001b[0m:\u001b[36mcompose_insert_query_form_graph\u001b[0m:\u001b[36m26\u001b[0m - \u001b[34m\u001b[1mReturn query with 9681 triple(s) and name timestamp:1731362406811/temp.\u001b[0m\n",
      "\u001b[32m2024-11-12 10:35:11.060\u001b[0m | \u001b[34m\u001b[1mDEBUG   \u001b[0m | \u001b[36m__main__\u001b[0m:\u001b[36mcompose_insert_query_form_graph\u001b[0m:\u001b[36m26\u001b[0m - \u001b[34m\u001b[1mReturn query with 592 triple(s) and name timestamp:1731363006153/added.\u001b[0m\n",
      "\u001b[32m2024-11-12 10:35:12.281\u001b[0m | \u001b[34m\u001b[1mDEBUG   \u001b[0m | \u001b[36m__main__\u001b[0m:\u001b[36mcompose_insert_query_form_graph\u001b[0m:\u001b[36m26\u001b[0m - \u001b[34m\u001b[1mReturn query with 561 triple(s) and name timestamp:1731363006153/removed.\u001b[0m\n",
      "\u001b[32m2024-11-12 10:35:33.047\u001b[0m | \u001b[34m\u001b[1mDEBUG   \u001b[0m | \u001b[36m__main__\u001b[0m:\u001b[36mcompose_insert_query_form_graph\u001b[0m:\u001b[36m26\u001b[0m - \u001b[34m\u001b[1mReturn query with 9712 triple(s) and name timestamp:1731363006153/temp.\u001b[0m\n",
      "\u001b[32m2024-11-12 10:35:42.207\u001b[0m | \u001b[34m\u001b[1mDEBUG   \u001b[0m | \u001b[36m__main__\u001b[0m:\u001b[36mcompose_insert_query_form_graph\u001b[0m:\u001b[36m26\u001b[0m - \u001b[34m\u001b[1mReturn query with 588 triple(s) and name timestamp:1731363606541/added.\u001b[0m\n",
      "\u001b[32m2024-11-12 10:35:43.453\u001b[0m | \u001b[34m\u001b[1mDEBUG   \u001b[0m | \u001b[36m__main__\u001b[0m:\u001b[36mcompose_insert_query_form_graph\u001b[0m:\u001b[36m26\u001b[0m - \u001b[34m\u001b[1mReturn query with 640 triple(s) and name timestamp:1731363606541/removed.\u001b[0m\n",
      "\u001b[32m2024-11-12 10:36:02.300\u001b[0m | \u001b[34m\u001b[1mDEBUG   \u001b[0m | \u001b[36m__main__\u001b[0m:\u001b[36mcompose_insert_query_form_graph\u001b[0m:\u001b[36m26\u001b[0m - \u001b[34m\u001b[1mReturn query with 9660 triple(s) and name timestamp:1731363606541/temp.\u001b[0m\n",
      "\u001b[32m2024-11-12 10:36:11.447\u001b[0m | \u001b[34m\u001b[1mDEBUG   \u001b[0m | \u001b[36m__main__\u001b[0m:\u001b[36mcompose_insert_query_form_graph\u001b[0m:\u001b[36m26\u001b[0m - \u001b[34m\u001b[1mReturn query with 585 triple(s) and name timestamp:1731364206796/added.\u001b[0m\n",
      "\u001b[32m2024-11-12 10:36:12.538\u001b[0m | \u001b[34m\u001b[1mDEBUG   \u001b[0m | \u001b[36m__main__\u001b[0m:\u001b[36mcompose_insert_query_form_graph\u001b[0m:\u001b[36m26\u001b[0m - \u001b[34m\u001b[1mReturn query with 564 triple(s) and name timestamp:1731364206796/removed.\u001b[0m\n",
      "\u001b[32m2024-11-12 10:36:30.594\u001b[0m | \u001b[34m\u001b[1mDEBUG   \u001b[0m | \u001b[36m__main__\u001b[0m:\u001b[36mcompose_insert_query_form_graph\u001b[0m:\u001b[36m26\u001b[0m - \u001b[34m\u001b[1mReturn query with 9681 triple(s) and name timestamp:1731364206796/temp.\u001b[0m\n",
      "\u001b[32m2024-11-12 10:36:39.785\u001b[0m | \u001b[34m\u001b[1mDEBUG   \u001b[0m | \u001b[36m__main__\u001b[0m:\u001b[36mcompose_insert_query_form_graph\u001b[0m:\u001b[36m26\u001b[0m - \u001b[34m\u001b[1mReturn query with 539 triple(s) and name timestamp:1731364806870/added.\u001b[0m\n",
      "\u001b[32m2024-11-12 10:36:40.754\u001b[0m | \u001b[34m\u001b[1mDEBUG   \u001b[0m | \u001b[36m__main__\u001b[0m:\u001b[36mcompose_insert_query_form_graph\u001b[0m:\u001b[36m26\u001b[0m - \u001b[34m\u001b[1mReturn query with 560 triple(s) and name timestamp:1731364806870/removed.\u001b[0m\n",
      "\u001b[32m2024-11-12 10:36:58.850\u001b[0m | \u001b[34m\u001b[1mDEBUG   \u001b[0m | \u001b[36m__main__\u001b[0m:\u001b[36mcompose_insert_query_form_graph\u001b[0m:\u001b[36m26\u001b[0m - \u001b[34m\u001b[1mReturn query with 9660 triple(s) and name timestamp:1731364806870/temp.\u001b[0m\n",
      "\u001b[32m2024-11-12 10:37:07.880\u001b[0m | \u001b[34m\u001b[1mDEBUG   \u001b[0m | \u001b[36m__main__\u001b[0m:\u001b[36mcompose_insert_query_form_graph\u001b[0m:\u001b[36m26\u001b[0m - \u001b[34m\u001b[1mReturn query with 587 triple(s) and name timestamp:1731365406013/added.\u001b[0m\n",
      "\u001b[32m2024-11-12 10:37:08.760\u001b[0m | \u001b[34m\u001b[1mDEBUG   \u001b[0m | \u001b[36m__main__\u001b[0m:\u001b[36mcompose_insert_query_form_graph\u001b[0m:\u001b[36m26\u001b[0m - \u001b[34m\u001b[1mReturn query with 587 triple(s) and name timestamp:1731365406013/removed.\u001b[0m\n",
      "\u001b[32m2024-11-12 10:37:26.593\u001b[0m | \u001b[34m\u001b[1mDEBUG   \u001b[0m | \u001b[36m__main__\u001b[0m:\u001b[36mcompose_insert_query_form_graph\u001b[0m:\u001b[36m26\u001b[0m - \u001b[34m\u001b[1mReturn query with 9660 triple(s) and name timestamp:1731365406013/temp.\u001b[0m\n",
      "\u001b[32m2024-11-12 10:37:35.803\u001b[0m | \u001b[34m\u001b[1mDEBUG   \u001b[0m | \u001b[36m__main__\u001b[0m:\u001b[36mcompose_insert_query_form_graph\u001b[0m:\u001b[36m26\u001b[0m - \u001b[34m\u001b[1mReturn query with 585 triple(s) and name timestamp:1731366006350/added.\u001b[0m\n",
      "\u001b[32m2024-11-12 10:37:36.651\u001b[0m | \u001b[34m\u001b[1mDEBUG   \u001b[0m | \u001b[36m__main__\u001b[0m:\u001b[36mcompose_insert_query_form_graph\u001b[0m:\u001b[36m26\u001b[0m - \u001b[34m\u001b[1mReturn query with 564 triple(s) and name timestamp:1731366006350/removed.\u001b[0m\n",
      "\u001b[32m2024-11-12 10:37:56.284\u001b[0m | \u001b[34m\u001b[1mDEBUG   \u001b[0m | \u001b[36m__main__\u001b[0m:\u001b[36mcompose_insert_query_form_graph\u001b[0m:\u001b[36m26\u001b[0m - \u001b[34m\u001b[1mReturn query with 9681 triple(s) and name timestamp:1731366006350/temp.\u001b[0m\n",
      "\u001b[32m2024-11-12 10:38:05.621\u001b[0m | \u001b[34m\u001b[1mDEBUG   \u001b[0m | \u001b[36m__main__\u001b[0m:\u001b[36mcompose_insert_query_form_graph\u001b[0m:\u001b[36m26\u001b[0m - \u001b[34m\u001b[1mReturn query with 589 triple(s) and name timestamp:1731366606348/added.\u001b[0m\n",
      "\u001b[32m2024-11-12 10:38:07.043\u001b[0m | \u001b[34m\u001b[1mDEBUG   \u001b[0m | \u001b[36m__main__\u001b[0m:\u001b[36mcompose_insert_query_form_graph\u001b[0m:\u001b[36m26\u001b[0m - \u001b[34m\u001b[1mReturn query with 560 triple(s) and name timestamp:1731366606348/removed.\u001b[0m\n",
      "\u001b[32m2024-11-12 10:38:23.143\u001b[0m | \u001b[34m\u001b[1mDEBUG   \u001b[0m | \u001b[36m__main__\u001b[0m:\u001b[36mcompose_insert_query_form_graph\u001b[0m:\u001b[36m26\u001b[0m - \u001b[34m\u001b[1mReturn query with 9710 triple(s) and name timestamp:1731366606348/temp.\u001b[0m\n",
      "\u001b[32m2024-11-12 10:38:31.991\u001b[0m | \u001b[34m\u001b[1mDEBUG   \u001b[0m | \u001b[36m__main__\u001b[0m:\u001b[36mcompose_insert_query_form_graph\u001b[0m:\u001b[36m26\u001b[0m - \u001b[34m\u001b[1mReturn query with 587 triple(s) and name timestamp:1731367206643/added.\u001b[0m\n",
      "\u001b[32m2024-11-12 10:38:32.849\u001b[0m | \u001b[34m\u001b[1mDEBUG   \u001b[0m | \u001b[36m__main__\u001b[0m:\u001b[36mcompose_insert_query_form_graph\u001b[0m:\u001b[36m26\u001b[0m - \u001b[34m\u001b[1mReturn query with 637 triple(s) and name timestamp:1731367206643/removed.\u001b[0m\n",
      "\u001b[32m2024-11-12 10:38:47.652\u001b[0m | \u001b[34m\u001b[1mDEBUG   \u001b[0m | \u001b[36m__main__\u001b[0m:\u001b[36mcompose_insert_query_form_graph\u001b[0m:\u001b[36m26\u001b[0m - \u001b[34m\u001b[1mReturn query with 9660 triple(s) and name timestamp:1731367206643/temp.\u001b[0m\n",
      "\u001b[32m2024-11-12 10:38:56.191\u001b[0m | \u001b[34m\u001b[1mDEBUG   \u001b[0m | \u001b[36m__main__\u001b[0m:\u001b[36mcompose_insert_query_form_graph\u001b[0m:\u001b[36m26\u001b[0m - \u001b[34m\u001b[1mReturn query with 585 triple(s) and name timestamp:1731367806677/added.\u001b[0m\n",
      "\u001b[32m2024-11-12 10:38:57.053\u001b[0m | \u001b[34m\u001b[1mDEBUG   \u001b[0m | \u001b[36m__main__\u001b[0m:\u001b[36mcompose_insert_query_form_graph\u001b[0m:\u001b[36m26\u001b[0m - \u001b[34m\u001b[1mReturn query with 564 triple(s) and name timestamp:1731367806677/removed.\u001b[0m\n",
      "\u001b[32m2024-11-12 10:39:20.209\u001b[0m | \u001b[34m\u001b[1mDEBUG   \u001b[0m | \u001b[36m__main__\u001b[0m:\u001b[36mcompose_insert_query_form_graph\u001b[0m:\u001b[36m26\u001b[0m - \u001b[34m\u001b[1mReturn query with 9681 triple(s) and name timestamp:1731367806677/temp.\u001b[0m\n",
      "\u001b[32m2024-11-12 10:39:33.475\u001b[0m | \u001b[34m\u001b[1mDEBUG   \u001b[0m | \u001b[36m__main__\u001b[0m:\u001b[36mcompose_insert_query_form_graph\u001b[0m:\u001b[36m26\u001b[0m - \u001b[34m\u001b[1mReturn query with 539 triple(s) and name timestamp:1731368406750/added.\u001b[0m\n",
      "\u001b[32m2024-11-12 10:39:35.013\u001b[0m | \u001b[34m\u001b[1mDEBUG   \u001b[0m | \u001b[36m__main__\u001b[0m:\u001b[36mcompose_insert_query_form_graph\u001b[0m:\u001b[36m26\u001b[0m - \u001b[34m\u001b[1mReturn query with 560 triple(s) and name timestamp:1731368406750/removed.\u001b[0m\n",
      "\u001b[32m2024-11-12 10:39:52.252\u001b[0m | \u001b[34m\u001b[1mDEBUG   \u001b[0m | \u001b[36m__main__\u001b[0m:\u001b[36mcompose_insert_query_form_graph\u001b[0m:\u001b[36m26\u001b[0m - \u001b[34m\u001b[1mReturn query with 9660 triple(s) and name timestamp:1731368406750/temp.\u001b[0m\n",
      "\u001b[32m2024-11-12 10:40:00.529\u001b[0m | \u001b[34m\u001b[1mDEBUG   \u001b[0m | \u001b[36m__main__\u001b[0m:\u001b[36mcompose_insert_query_form_graph\u001b[0m:\u001b[36m26\u001b[0m - \u001b[34m\u001b[1mReturn query with 587 triple(s) and name timestamp:1731369007156/added.\u001b[0m\n",
      "\u001b[32m2024-11-12 10:40:01.466\u001b[0m | \u001b[34m\u001b[1mDEBUG   \u001b[0m | \u001b[36m__main__\u001b[0m:\u001b[36mcompose_insert_query_form_graph\u001b[0m:\u001b[36m26\u001b[0m - \u001b[34m\u001b[1mReturn query with 587 triple(s) and name timestamp:1731369007156/removed.\u001b[0m\n",
      "\u001b[32m2024-11-12 10:40:30.604\u001b[0m | \u001b[34m\u001b[1mDEBUG   \u001b[0m | \u001b[36m__main__\u001b[0m:\u001b[36mcompose_insert_query_form_graph\u001b[0m:\u001b[36m26\u001b[0m - \u001b[34m\u001b[1mReturn query with 9660 triple(s) and name timestamp:1731369007156/temp.\u001b[0m\n",
      "\u001b[32m2024-11-12 10:40:47.322\u001b[0m | \u001b[34m\u001b[1mDEBUG   \u001b[0m | \u001b[36m__main__\u001b[0m:\u001b[36mcompose_insert_query_form_graph\u001b[0m:\u001b[36m26\u001b[0m - \u001b[34m\u001b[1mReturn query with 613 triple(s) and name timestamp:1731369606598/added.\u001b[0m\n",
      "\u001b[32m2024-11-12 10:40:48.309\u001b[0m | \u001b[34m\u001b[1mDEBUG   \u001b[0m | \u001b[36m__main__\u001b[0m:\u001b[36mcompose_insert_query_form_graph\u001b[0m:\u001b[36m26\u001b[0m - \u001b[34m\u001b[1mReturn query with 564 triple(s) and name timestamp:1731369606598/removed.\u001b[0m\n",
      "\u001b[32m2024-11-12 10:41:05.818\u001b[0m | \u001b[34m\u001b[1mDEBUG   \u001b[0m | \u001b[36m__main__\u001b[0m:\u001b[36mcompose_insert_query_form_graph\u001b[0m:\u001b[36m26\u001b[0m - \u001b[34m\u001b[1mReturn query with 9709 triple(s) and name timestamp:1731369606598/temp.\u001b[0m\n",
      "\u001b[32m2024-11-12 10:41:14.746\u001b[0m | \u001b[34m\u001b[1mDEBUG   \u001b[0m | \u001b[36m__main__\u001b[0m:\u001b[36mcompose_insert_query_form_graph\u001b[0m:\u001b[36m26\u001b[0m - \u001b[34m\u001b[1mReturn query with 595 triple(s) and name timestamp:1731370207051/added.\u001b[0m\n",
      "\u001b[32m2024-11-12 10:41:15.584\u001b[0m | \u001b[34m\u001b[1mDEBUG   \u001b[0m | \u001b[36m__main__\u001b[0m:\u001b[36mcompose_insert_query_form_graph\u001b[0m:\u001b[36m26\u001b[0m - \u001b[34m\u001b[1mReturn query with 565 triple(s) and name timestamp:1731370207051/removed.\u001b[0m\n",
      "\u001b[32m2024-11-12 10:41:39.355\u001b[0m | \u001b[34m\u001b[1mDEBUG   \u001b[0m | \u001b[36m__main__\u001b[0m:\u001b[36mcompose_insert_query_form_graph\u001b[0m:\u001b[36m26\u001b[0m - \u001b[34m\u001b[1mReturn query with 9739 triple(s) and name timestamp:1731370207051/temp.\u001b[0m\n",
      "\u001b[32m2024-11-12 10:41:50.197\u001b[0m | \u001b[34m\u001b[1mDEBUG   \u001b[0m | \u001b[36m__main__\u001b[0m:\u001b[36mcompose_insert_query_form_graph\u001b[0m:\u001b[36m26\u001b[0m - \u001b[34m\u001b[1mReturn query with 587 triple(s) and name timestamp:1731370806382/added.\u001b[0m\n",
      "\u001b[32m2024-11-12 10:41:51.462\u001b[0m | \u001b[34m\u001b[1mDEBUG   \u001b[0m | \u001b[36m__main__\u001b[0m:\u001b[36mcompose_insert_query_form_graph\u001b[0m:\u001b[36m26\u001b[0m - \u001b[34m\u001b[1mReturn query with 666 triple(s) and name timestamp:1731370806382/removed.\u001b[0m\n",
      "\u001b[32m2024-11-12 10:42:16.616\u001b[0m | \u001b[34m\u001b[1mDEBUG   \u001b[0m | \u001b[36m__main__\u001b[0m:\u001b[36mcompose_insert_query_form_graph\u001b[0m:\u001b[36m26\u001b[0m - \u001b[34m\u001b[1mReturn query with 9660 triple(s) and name timestamp:1731370806382/temp.\u001b[0m\n",
      "\u001b[32m2024-11-12 10:42:27.681\u001b[0m | \u001b[34m\u001b[1mDEBUG   \u001b[0m | \u001b[36m__main__\u001b[0m:\u001b[36mcompose_insert_query_form_graph\u001b[0m:\u001b[36m26\u001b[0m - \u001b[34m\u001b[1mReturn query with 585 triple(s) and name timestamp:1731371406447/added.\u001b[0m\n",
      "\u001b[32m2024-11-12 10:42:29.575\u001b[0m | \u001b[34m\u001b[1mDEBUG   \u001b[0m | \u001b[36m__main__\u001b[0m:\u001b[36mcompose_insert_query_form_graph\u001b[0m:\u001b[36m26\u001b[0m - \u001b[34m\u001b[1mReturn query with 564 triple(s) and name timestamp:1731371406447/removed.\u001b[0m\n",
      "\u001b[32m2024-11-12 10:42:58.839\u001b[0m | \u001b[34m\u001b[1mDEBUG   \u001b[0m | \u001b[36m__main__\u001b[0m:\u001b[36mcompose_insert_query_form_graph\u001b[0m:\u001b[36m26\u001b[0m - \u001b[34m\u001b[1mReturn query with 9681 triple(s) and name timestamp:1731371406447/temp.\u001b[0m\n",
      "\u001b[32m2024-11-12 10:43:13.464\u001b[0m | \u001b[34m\u001b[1mDEBUG   \u001b[0m | \u001b[36m__main__\u001b[0m:\u001b[36mcompose_insert_query_form_graph\u001b[0m:\u001b[36m26\u001b[0m - \u001b[34m\u001b[1mReturn query with 541 triple(s) and name timestamp:1731372006456/added.\u001b[0m\n",
      "\u001b[32m2024-11-12 10:43:16.078\u001b[0m | \u001b[34m\u001b[1mDEBUG   \u001b[0m | \u001b[36m__main__\u001b[0m:\u001b[36mcompose_insert_query_form_graph\u001b[0m:\u001b[36m26\u001b[0m - \u001b[34m\u001b[1mReturn query with 561 triple(s) and name timestamp:1731372006456/removed.\u001b[0m\n",
      "\u001b[32m2024-11-12 10:43:32.970\u001b[0m | \u001b[34m\u001b[1mDEBUG   \u001b[0m | \u001b[36m__main__\u001b[0m:\u001b[36mcompose_insert_query_form_graph\u001b[0m:\u001b[36m26\u001b[0m - \u001b[34m\u001b[1mReturn query with 9661 triple(s) and name timestamp:1731372006456/temp.\u001b[0m\n",
      "\u001b[32m2024-11-12 10:43:41.803\u001b[0m | \u001b[34m\u001b[1mDEBUG   \u001b[0m | \u001b[36m__main__\u001b[0m:\u001b[36mcompose_insert_query_form_graph\u001b[0m:\u001b[36m26\u001b[0m - \u001b[34m\u001b[1mReturn query with 588 triple(s) and name timestamp:1731372606556/added.\u001b[0m\n",
      "\u001b[32m2024-11-12 10:43:42.568\u001b[0m | \u001b[34m\u001b[1mDEBUG   \u001b[0m | \u001b[36m__main__\u001b[0m:\u001b[36mcompose_insert_query_form_graph\u001b[0m:\u001b[36m26\u001b[0m - \u001b[34m\u001b[1mReturn query with 589 triple(s) and name timestamp:1731372606556/removed.\u001b[0m\n",
      "\u001b[32m2024-11-12 10:43:55.837\u001b[0m | \u001b[34m\u001b[1mDEBUG   \u001b[0m | \u001b[36m__main__\u001b[0m:\u001b[36mcompose_insert_query_form_graph\u001b[0m:\u001b[36m26\u001b[0m - \u001b[34m\u001b[1mReturn query with 9660 triple(s) and name timestamp:1731372606556/temp.\u001b[0m\n",
      "\u001b[32m2024-11-12 10:44:06.513\u001b[0m | \u001b[34m\u001b[1mDEBUG   \u001b[0m | \u001b[36m__main__\u001b[0m:\u001b[36mcompose_insert_query_form_graph\u001b[0m:\u001b[36m26\u001b[0m - \u001b[34m\u001b[1mReturn query with 585 triple(s) and name timestamp:1731373206641/added.\u001b[0m\n",
      "\u001b[32m2024-11-12 10:44:08.277\u001b[0m | \u001b[34m\u001b[1mDEBUG   \u001b[0m | \u001b[36m__main__\u001b[0m:\u001b[36mcompose_insert_query_form_graph\u001b[0m:\u001b[36m26\u001b[0m - \u001b[34m\u001b[1mReturn query with 564 triple(s) and name timestamp:1731373206641/removed.\u001b[0m\n",
      "\u001b[32m2024-11-12 10:44:39.545\u001b[0m | \u001b[34m\u001b[1mDEBUG   \u001b[0m | \u001b[36m__main__\u001b[0m:\u001b[36mcompose_insert_query_form_graph\u001b[0m:\u001b[36m26\u001b[0m - \u001b[34m\u001b[1mReturn query with 9681 triple(s) and name timestamp:1731373206641/temp.\u001b[0m\n",
      "\u001b[32m2024-11-12 10:44:52.061\u001b[0m | \u001b[34m\u001b[1mDEBUG   \u001b[0m | \u001b[36m__main__\u001b[0m:\u001b[36mcompose_insert_query_form_graph\u001b[0m:\u001b[36m26\u001b[0m - \u001b[34m\u001b[1mReturn query with 589 triple(s) and name timestamp:1731373806483/added.\u001b[0m\n",
      "\u001b[32m2024-11-12 10:44:53.766\u001b[0m | \u001b[34m\u001b[1mDEBUG   \u001b[0m | \u001b[36m__main__\u001b[0m:\u001b[36mcompose_insert_query_form_graph\u001b[0m:\u001b[36m26\u001b[0m - \u001b[34m\u001b[1mReturn query with 560 triple(s) and name timestamp:1731373806483/removed.\u001b[0m\n",
      "\u001b[32m2024-11-12 10:45:18.375\u001b[0m | \u001b[34m\u001b[1mDEBUG   \u001b[0m | \u001b[36m__main__\u001b[0m:\u001b[36mcompose_insert_query_form_graph\u001b[0m:\u001b[36m26\u001b[0m - \u001b[34m\u001b[1mReturn query with 9710 triple(s) and name timestamp:1731373806483/temp.\u001b[0m\n",
      "\u001b[32m2024-11-12 10:45:29.907\u001b[0m | \u001b[34m\u001b[1mDEBUG   \u001b[0m | \u001b[36m__main__\u001b[0m:\u001b[36mcompose_insert_query_form_graph\u001b[0m:\u001b[36m26\u001b[0m - \u001b[34m\u001b[1mReturn query with 587 triple(s) and name timestamp:1731374406347/added.\u001b[0m\n",
      "\u001b[32m2024-11-12 10:45:31.504\u001b[0m | \u001b[34m\u001b[1mDEBUG   \u001b[0m | \u001b[36m__main__\u001b[0m:\u001b[36mcompose_insert_query_form_graph\u001b[0m:\u001b[36m26\u001b[0m - \u001b[34m\u001b[1mReturn query with 637 triple(s) and name timestamp:1731374406347/removed.\u001b[0m\n",
      "\u001b[32m2024-11-12 10:45:59.595\u001b[0m | \u001b[34m\u001b[1mDEBUG   \u001b[0m | \u001b[36m__main__\u001b[0m:\u001b[36mcompose_insert_query_form_graph\u001b[0m:\u001b[36m26\u001b[0m - \u001b[34m\u001b[1mReturn query with 9660 triple(s) and name timestamp:1731374406347/temp.\u001b[0m\n",
      "\u001b[32m2024-11-12 10:46:10.310\u001b[0m | \u001b[34m\u001b[1mDEBUG   \u001b[0m | \u001b[36m__main__\u001b[0m:\u001b[36mcompose_insert_query_form_graph\u001b[0m:\u001b[36m26\u001b[0m - \u001b[34m\u001b[1mReturn query with 585 triple(s) and name timestamp:1731375006237/added.\u001b[0m\n",
      "\u001b[32m2024-11-12 10:46:11.609\u001b[0m | \u001b[34m\u001b[1mDEBUG   \u001b[0m | \u001b[36m__main__\u001b[0m:\u001b[36mcompose_insert_query_form_graph\u001b[0m:\u001b[36m26\u001b[0m - \u001b[34m\u001b[1mReturn query with 564 triple(s) and name timestamp:1731375006237/removed.\u001b[0m\n",
      "\u001b[32m2024-11-12 10:46:45.234\u001b[0m | \u001b[34m\u001b[1mDEBUG   \u001b[0m | \u001b[36m__main__\u001b[0m:\u001b[36mcompose_insert_query_form_graph\u001b[0m:\u001b[36m26\u001b[0m - \u001b[34m\u001b[1mReturn query with 9681 triple(s) and name timestamp:1731375006237/temp.\u001b[0m\n",
      "\u001b[32m2024-11-12 10:47:00.623\u001b[0m | \u001b[34m\u001b[1mDEBUG   \u001b[0m | \u001b[36m__main__\u001b[0m:\u001b[36mcompose_insert_query_form_graph\u001b[0m:\u001b[36m26\u001b[0m - \u001b[34m\u001b[1mReturn query with 539 triple(s) and name timestamp:1731375607157/added.\u001b[0m\n",
      "\u001b[32m2024-11-12 10:47:02.214\u001b[0m | \u001b[34m\u001b[1mDEBUG   \u001b[0m | \u001b[36m__main__\u001b[0m:\u001b[36mcompose_insert_query_form_graph\u001b[0m:\u001b[36m26\u001b[0m - \u001b[34m\u001b[1mReturn query with 560 triple(s) and name timestamp:1731375607157/removed.\u001b[0m\n",
      "\u001b[32m2024-11-12 10:47:37.010\u001b[0m | \u001b[34m\u001b[1mDEBUG   \u001b[0m | \u001b[36m__main__\u001b[0m:\u001b[36mcompose_insert_query_form_graph\u001b[0m:\u001b[36m26\u001b[0m - \u001b[34m\u001b[1mReturn query with 9660 triple(s) and name timestamp:1731375607157/temp.\u001b[0m\n",
      "\u001b[32m2024-11-12 10:47:48.122\u001b[0m | \u001b[34m\u001b[1mDEBUG   \u001b[0m | \u001b[36m__main__\u001b[0m:\u001b[36mcompose_insert_query_form_graph\u001b[0m:\u001b[36m26\u001b[0m - \u001b[34m\u001b[1mReturn query with 587 triple(s) and name timestamp:1731376206623/added.\u001b[0m\n",
      "\u001b[32m2024-11-12 10:47:49.983\u001b[0m | \u001b[34m\u001b[1mDEBUG   \u001b[0m | \u001b[36m__main__\u001b[0m:\u001b[36mcompose_insert_query_form_graph\u001b[0m:\u001b[36m26\u001b[0m - \u001b[34m\u001b[1mReturn query with 587 triple(s) and name timestamp:1731376206623/removed.\u001b[0m\n",
      "\u001b[32m2024-11-12 10:48:22.320\u001b[0m | \u001b[34m\u001b[1mDEBUG   \u001b[0m | \u001b[36m__main__\u001b[0m:\u001b[36mcompose_insert_query_form_graph\u001b[0m:\u001b[36m26\u001b[0m - \u001b[34m\u001b[1mReturn query with 9660 triple(s) and name timestamp:1731376206623/temp.\u001b[0m\n",
      "\u001b[32m2024-11-12 10:48:34.315\u001b[0m | \u001b[34m\u001b[1mDEBUG   \u001b[0m | \u001b[36m__main__\u001b[0m:\u001b[36mcompose_insert_query_form_graph\u001b[0m:\u001b[36m26\u001b[0m - \u001b[34m\u001b[1mReturn query with 585 triple(s) and name timestamp:1731376807324/added.\u001b[0m\n",
      "\u001b[32m2024-11-12 10:48:35.700\u001b[0m | \u001b[34m\u001b[1mDEBUG   \u001b[0m | \u001b[36m__main__\u001b[0m:\u001b[36mcompose_insert_query_form_graph\u001b[0m:\u001b[36m26\u001b[0m - \u001b[34m\u001b[1mReturn query with 564 triple(s) and name timestamp:1731376807324/removed.\u001b[0m\n",
      "\u001b[32m2024-11-12 10:48:58.988\u001b[0m | \u001b[34m\u001b[1mDEBUG   \u001b[0m | \u001b[36m__main__\u001b[0m:\u001b[36mcompose_insert_query_form_graph\u001b[0m:\u001b[36m26\u001b[0m - \u001b[34m\u001b[1mReturn query with 9681 triple(s) and name timestamp:1731376807324/temp.\u001b[0m\n",
      "\u001b[32m2024-11-12 10:49:10.399\u001b[0m | \u001b[34m\u001b[1mDEBUG   \u001b[0m | \u001b[36m__main__\u001b[0m:\u001b[36mcompose_insert_query_form_graph\u001b[0m:\u001b[36m26\u001b[0m - \u001b[34m\u001b[1mReturn query with 589 triple(s) and name timestamp:1731377405954/added.\u001b[0m\n",
      "\u001b[32m2024-11-12 10:49:11.812\u001b[0m | \u001b[34m\u001b[1mDEBUG   \u001b[0m | \u001b[36m__main__\u001b[0m:\u001b[36mcompose_insert_query_form_graph\u001b[0m:\u001b[36m26\u001b[0m - \u001b[34m\u001b[1mReturn query with 560 triple(s) and name timestamp:1731377405954/removed.\u001b[0m\n",
      "\u001b[32m2024-11-12 10:49:38.490\u001b[0m | \u001b[34m\u001b[1mDEBUG   \u001b[0m | \u001b[36m__main__\u001b[0m:\u001b[36mcompose_insert_query_form_graph\u001b[0m:\u001b[36m26\u001b[0m - \u001b[34m\u001b[1mReturn query with 9710 triple(s) and name timestamp:1731377405954/temp.\u001b[0m\n",
      "\u001b[32m2024-11-12 10:49:49.297\u001b[0m | \u001b[34m\u001b[1mDEBUG   \u001b[0m | \u001b[36m__main__\u001b[0m:\u001b[36mcompose_insert_query_form_graph\u001b[0m:\u001b[36m26\u001b[0m - \u001b[34m\u001b[1mReturn query with 587 triple(s) and name timestamp:1731378005959/added.\u001b[0m\n",
      "\u001b[32m2024-11-12 10:49:50.524\u001b[0m | \u001b[34m\u001b[1mDEBUG   \u001b[0m | \u001b[36m__main__\u001b[0m:\u001b[36mcompose_insert_query_form_graph\u001b[0m:\u001b[36m26\u001b[0m - \u001b[34m\u001b[1mReturn query with 637 triple(s) and name timestamp:1731378005959/removed.\u001b[0m\n",
      "\u001b[32m2024-11-12 10:50:14.613\u001b[0m | \u001b[34m\u001b[1mDEBUG   \u001b[0m | \u001b[36m__main__\u001b[0m:\u001b[36mcompose_insert_query_form_graph\u001b[0m:\u001b[36m26\u001b[0m - \u001b[34m\u001b[1mReturn query with 9660 triple(s) and name timestamp:1731378005959/temp.\u001b[0m\n",
      "\u001b[32m2024-11-12 10:50:23.959\u001b[0m | \u001b[34m\u001b[1mDEBUG   \u001b[0m | \u001b[36m__main__\u001b[0m:\u001b[36mcompose_insert_query_form_graph\u001b[0m:\u001b[36m26\u001b[0m - \u001b[34m\u001b[1mReturn query with 585 triple(s) and name timestamp:1731378605749/added.\u001b[0m\n",
      "\u001b[32m2024-11-12 10:50:24.639\u001b[0m | \u001b[34m\u001b[1mDEBUG   \u001b[0m | \u001b[36m__main__\u001b[0m:\u001b[36mcompose_insert_query_form_graph\u001b[0m:\u001b[36m26\u001b[0m - \u001b[34m\u001b[1mReturn query with 564 triple(s) and name timestamp:1731378605749/removed.\u001b[0m\n",
      "\u001b[32m2024-11-12 10:50:40.937\u001b[0m | \u001b[34m\u001b[1mDEBUG   \u001b[0m | \u001b[36m__main__\u001b[0m:\u001b[36mcompose_insert_query_form_graph\u001b[0m:\u001b[36m26\u001b[0m - \u001b[34m\u001b[1mReturn query with 9681 triple(s) and name timestamp:1731378605749/temp.\u001b[0m\n",
      "\u001b[32m2024-11-12 10:50:49.951\u001b[0m | \u001b[34m\u001b[1mDEBUG   \u001b[0m | \u001b[36m__main__\u001b[0m:\u001b[36mcompose_insert_query_form_graph\u001b[0m:\u001b[36m26\u001b[0m - \u001b[34m\u001b[1mReturn query with 539 triple(s) and name timestamp:1731379206259/added.\u001b[0m\n",
      "\u001b[32m2024-11-12 10:50:50.674\u001b[0m | \u001b[34m\u001b[1mDEBUG   \u001b[0m | \u001b[36m__main__\u001b[0m:\u001b[36mcompose_insert_query_form_graph\u001b[0m:\u001b[36m26\u001b[0m - \u001b[34m\u001b[1mReturn query with 560 triple(s) and name timestamp:1731379206259/removed.\u001b[0m\n",
      "\u001b[32m2024-11-12 10:51:06.503\u001b[0m | \u001b[34m\u001b[1mDEBUG   \u001b[0m | \u001b[36m__main__\u001b[0m:\u001b[36mcompose_insert_query_form_graph\u001b[0m:\u001b[36m26\u001b[0m - \u001b[34m\u001b[1mReturn query with 9660 triple(s) and name timestamp:1731379206259/temp.\u001b[0m\n",
      "\u001b[32m2024-11-12 10:51:18.129\u001b[0m | \u001b[34m\u001b[1mDEBUG   \u001b[0m | \u001b[36m__main__\u001b[0m:\u001b[36mcompose_insert_query_form_graph\u001b[0m:\u001b[36m26\u001b[0m - \u001b[34m\u001b[1mReturn query with 587 triple(s) and name timestamp:1731379806654/added.\u001b[0m\n",
      "\u001b[32m2024-11-12 10:51:19.499\u001b[0m | \u001b[34m\u001b[1mDEBUG   \u001b[0m | \u001b[36m__main__\u001b[0m:\u001b[36mcompose_insert_query_form_graph\u001b[0m:\u001b[36m26\u001b[0m - \u001b[34m\u001b[1mReturn query with 587 triple(s) and name timestamp:1731379806654/removed.\u001b[0m\n",
      "\u001b[32m2024-11-12 10:51:46.790\u001b[0m | \u001b[34m\u001b[1mDEBUG   \u001b[0m | \u001b[36m__main__\u001b[0m:\u001b[36mcompose_insert_query_form_graph\u001b[0m:\u001b[36m26\u001b[0m - \u001b[34m\u001b[1mReturn query with 9660 triple(s) and name timestamp:1731379806654/temp.\u001b[0m\n",
      "\u001b[32m2024-11-12 10:51:59.341\u001b[0m | \u001b[34m\u001b[1mDEBUG   \u001b[0m | \u001b[36m__main__\u001b[0m:\u001b[36mcompose_insert_query_form_graph\u001b[0m:\u001b[36m26\u001b[0m - \u001b[34m\u001b[1mReturn query with 585 triple(s) and name timestamp:1731380407200/added.\u001b[0m\n",
      "\u001b[32m2024-11-12 10:52:01.034\u001b[0m | \u001b[34m\u001b[1mDEBUG   \u001b[0m | \u001b[36m__main__\u001b[0m:\u001b[36mcompose_insert_query_form_graph\u001b[0m:\u001b[36m26\u001b[0m - \u001b[34m\u001b[1mReturn query with 564 triple(s) and name timestamp:1731380407200/removed.\u001b[0m\n",
      "\u001b[32m2024-11-12 10:52:28.790\u001b[0m | \u001b[34m\u001b[1mDEBUG   \u001b[0m | \u001b[36m__main__\u001b[0m:\u001b[36mcompose_insert_query_form_graph\u001b[0m:\u001b[36m26\u001b[0m - \u001b[34m\u001b[1mReturn query with 9681 triple(s) and name timestamp:1731380407200/temp.\u001b[0m\n",
      "\u001b[32m2024-11-12 10:52:40.954\u001b[0m | \u001b[34m\u001b[1mDEBUG   \u001b[0m | \u001b[36m__main__\u001b[0m:\u001b[36mcompose_insert_query_form_graph\u001b[0m:\u001b[36m26\u001b[0m - \u001b[34m\u001b[1mReturn query with 592 triple(s) and name timestamp:1731381006842/added.\u001b[0m\n",
      "\u001b[32m2024-11-12 10:52:42.798\u001b[0m | \u001b[34m\u001b[1mDEBUG   \u001b[0m | \u001b[36m__main__\u001b[0m:\u001b[36mcompose_insert_query_form_graph\u001b[0m:\u001b[36m26\u001b[0m - \u001b[34m\u001b[1mReturn query with 561 triple(s) and name timestamp:1731381006842/removed.\u001b[0m\n",
      "\u001b[32m2024-11-12 10:53:16.867\u001b[0m | \u001b[34m\u001b[1mDEBUG   \u001b[0m | \u001b[36m__main__\u001b[0m:\u001b[36mcompose_insert_query_form_graph\u001b[0m:\u001b[36m26\u001b[0m - \u001b[34m\u001b[1mReturn query with 9712 triple(s) and name timestamp:1731381006842/temp.\u001b[0m\n",
      "\u001b[32m2024-11-12 10:53:29.388\u001b[0m | \u001b[34m\u001b[1mDEBUG   \u001b[0m | \u001b[36m__main__\u001b[0m:\u001b[36mcompose_insert_query_form_graph\u001b[0m:\u001b[36m26\u001b[0m - \u001b[34m\u001b[1mReturn query with 588 triple(s) and name timestamp:1731381606473/added.\u001b[0m\n",
      "\u001b[32m2024-11-12 10:53:30.946\u001b[0m | \u001b[34m\u001b[1mDEBUG   \u001b[0m | \u001b[36m__main__\u001b[0m:\u001b[36mcompose_insert_query_form_graph\u001b[0m:\u001b[36m26\u001b[0m - \u001b[34m\u001b[1mReturn query with 640 triple(s) and name timestamp:1731381606473/removed.\u001b[0m\n",
      "\u001b[32m2024-11-12 10:53:55.512\u001b[0m | \u001b[34m\u001b[1mDEBUG   \u001b[0m | \u001b[36m__main__\u001b[0m:\u001b[36mcompose_insert_query_form_graph\u001b[0m:\u001b[36m26\u001b[0m - \u001b[34m\u001b[1mReturn query with 9660 triple(s) and name timestamp:1731381606473/temp.\u001b[0m\n",
      "\u001b[32m2024-11-12 10:54:08.065\u001b[0m | \u001b[34m\u001b[1mDEBUG   \u001b[0m | \u001b[36m__main__\u001b[0m:\u001b[36mcompose_insert_query_form_graph\u001b[0m:\u001b[36m26\u001b[0m - \u001b[34m\u001b[1mReturn query with 585 triple(s) and name timestamp:1731382207012/added.\u001b[0m\n",
      "\u001b[32m2024-11-12 10:54:08.468\u001b[0m | \u001b[34m\u001b[1mDEBUG   \u001b[0m | \u001b[36m__main__\u001b[0m:\u001b[36mcompose_insert_query_form_graph\u001b[0m:\u001b[36m26\u001b[0m - \u001b[34m\u001b[1mReturn query with 564 triple(s) and name timestamp:1731382207012/removed.\u001b[0m\n",
      "\u001b[32m2024-11-12 10:54:16.859\u001b[0m | \u001b[34m\u001b[1mDEBUG   \u001b[0m | \u001b[36m__main__\u001b[0m:\u001b[36mcompose_insert_query_form_graph\u001b[0m:\u001b[36m26\u001b[0m - \u001b[34m\u001b[1mReturn query with 9681 triple(s) and name timestamp:1731382207012/temp.\u001b[0m\n",
      "\u001b[32m2024-11-12 10:54:22.915\u001b[0m | \u001b[34m\u001b[1mDEBUG   \u001b[0m | \u001b[36m__main__\u001b[0m:\u001b[36mcompose_insert_query_form_graph\u001b[0m:\u001b[36m26\u001b[0m - \u001b[34m\u001b[1mReturn query with 539 triple(s) and name timestamp:1731382806391/added.\u001b[0m\n",
      "\u001b[32m2024-11-12 10:54:23.307\u001b[0m | \u001b[34m\u001b[1mDEBUG   \u001b[0m | \u001b[36m__main__\u001b[0m:\u001b[36mcompose_insert_query_form_graph\u001b[0m:\u001b[36m26\u001b[0m - \u001b[34m\u001b[1mReturn query with 560 triple(s) and name timestamp:1731382806391/removed.\u001b[0m\n",
      "\u001b[32m2024-11-12 10:54:33.631\u001b[0m | \u001b[34m\u001b[1mDEBUG   \u001b[0m | \u001b[36m__main__\u001b[0m:\u001b[36mcompose_insert_query_form_graph\u001b[0m:\u001b[36m26\u001b[0m - \u001b[34m\u001b[1mReturn query with 9660 triple(s) and name timestamp:1731382806391/temp.\u001b[0m\n",
      "\u001b[32m2024-11-12 10:54:40.230\u001b[0m | \u001b[34m\u001b[1mDEBUG   \u001b[0m | \u001b[36m__main__\u001b[0m:\u001b[36mcompose_insert_query_form_graph\u001b[0m:\u001b[36m26\u001b[0m - \u001b[34m\u001b[1mReturn query with 587 triple(s) and name timestamp:1731383406784/added.\u001b[0m\n",
      "\u001b[32m2024-11-12 10:54:40.668\u001b[0m | \u001b[34m\u001b[1mDEBUG   \u001b[0m | \u001b[36m__main__\u001b[0m:\u001b[36mcompose_insert_query_form_graph\u001b[0m:\u001b[36m26\u001b[0m - \u001b[34m\u001b[1mReturn query with 587 triple(s) and name timestamp:1731383406784/removed.\u001b[0m\n",
      "\u001b[32m2024-11-12 10:54:49.349\u001b[0m | \u001b[34m\u001b[1mDEBUG   \u001b[0m | \u001b[36m__main__\u001b[0m:\u001b[36mcompose_insert_query_form_graph\u001b[0m:\u001b[36m26\u001b[0m - \u001b[34m\u001b[1mReturn query with 9660 triple(s) and name timestamp:1731383406784/temp.\u001b[0m\n",
      "\u001b[32m2024-11-12 10:54:56.077\u001b[0m | \u001b[34m\u001b[1mDEBUG   \u001b[0m | \u001b[36m__main__\u001b[0m:\u001b[36mcompose_insert_query_form_graph\u001b[0m:\u001b[36m26\u001b[0m - \u001b[34m\u001b[1mReturn query with 585 triple(s) and name timestamp:1731384006484/added.\u001b[0m\n",
      "\u001b[32m2024-11-12 10:54:56.449\u001b[0m | \u001b[34m\u001b[1mDEBUG   \u001b[0m | \u001b[36m__main__\u001b[0m:\u001b[36mcompose_insert_query_form_graph\u001b[0m:\u001b[36m26\u001b[0m - \u001b[34m\u001b[1mReturn query with 564 triple(s) and name timestamp:1731384006484/removed.\u001b[0m\n",
      "\u001b[32m2024-11-12 10:55:04.154\u001b[0m | \u001b[34m\u001b[1mDEBUG   \u001b[0m | \u001b[36m__main__\u001b[0m:\u001b[36mcompose_insert_query_form_graph\u001b[0m:\u001b[36m26\u001b[0m - \u001b[34m\u001b[1mReturn query with 9681 triple(s) and name timestamp:1731384006484/temp.\u001b[0m\n",
      "\u001b[32m2024-11-12 10:55:10.782\u001b[0m | \u001b[34m\u001b[1mDEBUG   \u001b[0m | \u001b[36m__main__\u001b[0m:\u001b[36mcompose_insert_query_form_graph\u001b[0m:\u001b[36m26\u001b[0m - \u001b[34m\u001b[1mReturn query with 589 triple(s) and name timestamp:1731384606843/added.\u001b[0m\n",
      "\u001b[32m2024-11-12 10:55:11.157\u001b[0m | \u001b[34m\u001b[1mDEBUG   \u001b[0m | \u001b[36m__main__\u001b[0m:\u001b[36mcompose_insert_query_form_graph\u001b[0m:\u001b[36m26\u001b[0m - \u001b[34m\u001b[1mReturn query with 560 triple(s) and name timestamp:1731384606843/removed.\u001b[0m\n",
      "\u001b[32m2024-11-12 10:55:19.819\u001b[0m | \u001b[34m\u001b[1mDEBUG   \u001b[0m | \u001b[36m__main__\u001b[0m:\u001b[36mcompose_insert_query_form_graph\u001b[0m:\u001b[36m26\u001b[0m - \u001b[34m\u001b[1mReturn query with 9710 triple(s) and name timestamp:1731384606843/temp.\u001b[0m\n",
      "\u001b[32m2024-11-12 10:55:26.842\u001b[0m | \u001b[34m\u001b[1mDEBUG   \u001b[0m | \u001b[36m__main__\u001b[0m:\u001b[36mcompose_insert_query_form_graph\u001b[0m:\u001b[36m26\u001b[0m - \u001b[34m\u001b[1mReturn query with 587 triple(s) and name timestamp:1731385205790/added.\u001b[0m\n",
      "\u001b[32m2024-11-12 10:55:27.352\u001b[0m | \u001b[34m\u001b[1mDEBUG   \u001b[0m | \u001b[36m__main__\u001b[0m:\u001b[36mcompose_insert_query_form_graph\u001b[0m:\u001b[36m26\u001b[0m - \u001b[34m\u001b[1mReturn query with 637 triple(s) and name timestamp:1731385205790/removed.\u001b[0m\n",
      "\u001b[32m2024-11-12 10:55:44.283\u001b[0m | \u001b[34m\u001b[1mDEBUG   \u001b[0m | \u001b[36m__main__\u001b[0m:\u001b[36mcompose_insert_query_form_graph\u001b[0m:\u001b[36m26\u001b[0m - \u001b[34m\u001b[1mReturn query with 9660 triple(s) and name timestamp:1731385205790/temp.\u001b[0m\n",
      "\u001b[32m2024-11-12 10:55:55.976\u001b[0m | \u001b[34m\u001b[1mDEBUG   \u001b[0m | \u001b[36m__main__\u001b[0m:\u001b[36mcompose_insert_query_form_graph\u001b[0m:\u001b[36m26\u001b[0m - \u001b[34m\u001b[1mReturn query with 587 triple(s) and name timestamp:1731385806488/added.\u001b[0m\n",
      "\u001b[32m2024-11-12 10:55:56.570\u001b[0m | \u001b[34m\u001b[1mDEBUG   \u001b[0m | \u001b[36m__main__\u001b[0m:\u001b[36mcompose_insert_query_form_graph\u001b[0m:\u001b[36m26\u001b[0m - \u001b[34m\u001b[1mReturn query with 565 triple(s) and name timestamp:1731385806488/removed.\u001b[0m\n",
      "\u001b[32m2024-11-12 10:56:05.853\u001b[0m | \u001b[34m\u001b[1mDEBUG   \u001b[0m | \u001b[36m__main__\u001b[0m:\u001b[36mcompose_insert_query_form_graph\u001b[0m:\u001b[36m26\u001b[0m - \u001b[34m\u001b[1mReturn query with 9682 triple(s) and name timestamp:1731385806488/temp.\u001b[0m\n",
      "\u001b[32m2024-11-12 10:56:12.244\u001b[0m | \u001b[34m\u001b[1mDEBUG   \u001b[0m | \u001b[36m__main__\u001b[0m:\u001b[36mcompose_insert_query_form_graph\u001b[0m:\u001b[36m26\u001b[0m - \u001b[34m\u001b[1mReturn query with 540 triple(s) and name timestamp:1731386406599/added.\u001b[0m\n",
      "\u001b[32m2024-11-12 10:56:12.630\u001b[0m | \u001b[34m\u001b[1mDEBUG   \u001b[0m | \u001b[36m__main__\u001b[0m:\u001b[36mcompose_insert_query_form_graph\u001b[0m:\u001b[36m26\u001b[0m - \u001b[34m\u001b[1mReturn query with 562 triple(s) and name timestamp:1731386406599/removed.\u001b[0m\n",
      "\u001b[32m2024-11-12 10:56:22.083\u001b[0m | \u001b[34m\u001b[1mDEBUG   \u001b[0m | \u001b[36m__main__\u001b[0m:\u001b[36mcompose_insert_query_form_graph\u001b[0m:\u001b[36m26\u001b[0m - \u001b[34m\u001b[1mReturn query with 9660 triple(s) and name timestamp:1731386406599/temp.\u001b[0m\n",
      "\u001b[32m2024-11-12 10:56:30.822\u001b[0m | \u001b[34m\u001b[1mDEBUG   \u001b[0m | \u001b[36m__main__\u001b[0m:\u001b[36mcompose_insert_query_form_graph\u001b[0m:\u001b[36m26\u001b[0m - \u001b[34m\u001b[1mReturn query with 587 triple(s) and name timestamp:1731387006589/added.\u001b[0m\n",
      "\u001b[32m2024-11-12 10:56:31.805\u001b[0m | \u001b[34m\u001b[1mDEBUG   \u001b[0m | \u001b[36m__main__\u001b[0m:\u001b[36mcompose_insert_query_form_graph\u001b[0m:\u001b[36m26\u001b[0m - \u001b[34m\u001b[1mReturn query with 587 triple(s) and name timestamp:1731387006589/removed.\u001b[0m\n",
      "\u001b[32m2024-11-12 10:56:51.218\u001b[0m | \u001b[34m\u001b[1mDEBUG   \u001b[0m | \u001b[36m__main__\u001b[0m:\u001b[36mcompose_insert_query_form_graph\u001b[0m:\u001b[36m26\u001b[0m - \u001b[34m\u001b[1mReturn query with 9660 triple(s) and name timestamp:1731387006589/temp.\u001b[0m\n",
      "\u001b[32m2024-11-12 10:57:02.357\u001b[0m | \u001b[34m\u001b[1mDEBUG   \u001b[0m | \u001b[36m__main__\u001b[0m:\u001b[36mcompose_insert_query_form_graph\u001b[0m:\u001b[36m26\u001b[0m - \u001b[34m\u001b[1mReturn query with 585 triple(s) and name timestamp:1731387606883/added.\u001b[0m\n",
      "\u001b[32m2024-11-12 10:57:04.366\u001b[0m | \u001b[34m\u001b[1mDEBUG   \u001b[0m | \u001b[36m__main__\u001b[0m:\u001b[36mcompose_insert_query_form_graph\u001b[0m:\u001b[36m26\u001b[0m - \u001b[34m\u001b[1mReturn query with 564 triple(s) and name timestamp:1731387606883/removed.\u001b[0m\n",
      "\u001b[32m2024-11-12 10:57:17.707\u001b[0m | \u001b[34m\u001b[1mDEBUG   \u001b[0m | \u001b[36m__main__\u001b[0m:\u001b[36mcompose_insert_query_form_graph\u001b[0m:\u001b[36m26\u001b[0m - \u001b[34m\u001b[1mReturn query with 9681 triple(s) and name timestamp:1731387606883/temp.\u001b[0m\n",
      "\u001b[32m2024-11-12 10:57:25.418\u001b[0m | \u001b[34m\u001b[1mDEBUG   \u001b[0m | \u001b[36m__main__\u001b[0m:\u001b[36mcompose_insert_query_form_graph\u001b[0m:\u001b[36m26\u001b[0m - \u001b[34m\u001b[1mReturn query with 589 triple(s) and name timestamp:1731388206000/added.\u001b[0m\n",
      "\u001b[32m2024-11-12 10:57:26.289\u001b[0m | \u001b[34m\u001b[1mDEBUG   \u001b[0m | \u001b[36m__main__\u001b[0m:\u001b[36mcompose_insert_query_form_graph\u001b[0m:\u001b[36m26\u001b[0m - \u001b[34m\u001b[1mReturn query with 560 triple(s) and name timestamp:1731388206000/removed.\u001b[0m\n",
      "\u001b[32m2024-11-12 10:57:45.391\u001b[0m | \u001b[34m\u001b[1mDEBUG   \u001b[0m | \u001b[36m__main__\u001b[0m:\u001b[36mcompose_insert_query_form_graph\u001b[0m:\u001b[36m26\u001b[0m - \u001b[34m\u001b[1mReturn query with 9710 triple(s) and name timestamp:1731388206000/temp.\u001b[0m\n",
      "\u001b[32m2024-11-12 10:57:53.841\u001b[0m | \u001b[34m\u001b[1mDEBUG   \u001b[0m | \u001b[36m__main__\u001b[0m:\u001b[36mcompose_insert_query_form_graph\u001b[0m:\u001b[36m26\u001b[0m - \u001b[34m\u001b[1mReturn query with 587 triple(s) and name timestamp:1731388806018/added.\u001b[0m\n",
      "\u001b[32m2024-11-12 10:57:54.775\u001b[0m | \u001b[34m\u001b[1mDEBUG   \u001b[0m | \u001b[36m__main__\u001b[0m:\u001b[36mcompose_insert_query_form_graph\u001b[0m:\u001b[36m26\u001b[0m - \u001b[34m\u001b[1mReturn query with 637 triple(s) and name timestamp:1731388806018/removed.\u001b[0m\n",
      "\u001b[32m2024-11-12 10:58:09.598\u001b[0m | \u001b[34m\u001b[1mDEBUG   \u001b[0m | \u001b[36m__main__\u001b[0m:\u001b[36mcompose_insert_query_form_graph\u001b[0m:\u001b[36m26\u001b[0m - \u001b[34m\u001b[1mReturn query with 9660 triple(s) and name timestamp:1731388806018/temp.\u001b[0m\n",
      "\u001b[32m2024-11-12 10:58:22.183\u001b[0m | \u001b[34m\u001b[1mDEBUG   \u001b[0m | \u001b[36m__main__\u001b[0m:\u001b[36mcompose_insert_query_form_graph\u001b[0m:\u001b[36m26\u001b[0m - \u001b[34m\u001b[1mReturn query with 584 triple(s) and name timestamp:1731389406343/added.\u001b[0m\n",
      "\u001b[32m2024-11-12 10:58:24.412\u001b[0m | \u001b[34m\u001b[1mDEBUG   \u001b[0m | \u001b[36m__main__\u001b[0m:\u001b[36mcompose_insert_query_form_graph\u001b[0m:\u001b[36m26\u001b[0m - \u001b[34m\u001b[1mReturn query with 564 triple(s) and name timestamp:1731389406343/removed.\u001b[0m\n",
      "\u001b[32m2024-11-12 10:58:47.295\u001b[0m | \u001b[34m\u001b[1mDEBUG   \u001b[0m | \u001b[36m__main__\u001b[0m:\u001b[36mcompose_insert_query_form_graph\u001b[0m:\u001b[36m26\u001b[0m - \u001b[34m\u001b[1mReturn query with 9680 triple(s) and name timestamp:1731389406343/temp.\u001b[0m\n",
      "\u001b[32m2024-11-12 10:59:00.300\u001b[0m | \u001b[34m\u001b[1mDEBUG   \u001b[0m | \u001b[36m__main__\u001b[0m:\u001b[36mcompose_insert_query_form_graph\u001b[0m:\u001b[36m26\u001b[0m - \u001b[34m\u001b[1mReturn query with 541 triple(s) and name timestamp:1731390006507/added.\u001b[0m\n",
      "\u001b[32m2024-11-12 10:59:00.976\u001b[0m | \u001b[34m\u001b[1mDEBUG   \u001b[0m | \u001b[36m__main__\u001b[0m:\u001b[36mcompose_insert_query_form_graph\u001b[0m:\u001b[36m26\u001b[0m - \u001b[34m\u001b[1mReturn query with 561 triple(s) and name timestamp:1731390006507/removed.\u001b[0m\n",
      "\u001b[32m2024-11-12 10:59:11.827\u001b[0m | \u001b[34m\u001b[1mDEBUG   \u001b[0m | \u001b[36m__main__\u001b[0m:\u001b[36mcompose_insert_query_form_graph\u001b[0m:\u001b[36m26\u001b[0m - \u001b[34m\u001b[1mReturn query with 9660 triple(s) and name timestamp:1731390006507/temp.\u001b[0m\n",
      "\u001b[32m2024-11-12 10:59:21.917\u001b[0m | \u001b[34m\u001b[1mDEBUG   \u001b[0m | \u001b[36m__main__\u001b[0m:\u001b[36mcompose_insert_query_form_graph\u001b[0m:\u001b[36m26\u001b[0m - \u001b[34m\u001b[1mReturn query with 587 triple(s) and name timestamp:1731390606744/added.\u001b[0m\n",
      "\u001b[32m2024-11-12 10:59:22.379\u001b[0m | \u001b[34m\u001b[1mDEBUG   \u001b[0m | \u001b[36m__main__\u001b[0m:\u001b[36mcompose_insert_query_form_graph\u001b[0m:\u001b[36m26\u001b[0m - \u001b[34m\u001b[1mReturn query with 587 triple(s) and name timestamp:1731390606744/removed.\u001b[0m\n",
      "\u001b[32m2024-11-12 10:59:31.497\u001b[0m | \u001b[34m\u001b[1mDEBUG   \u001b[0m | \u001b[36m__main__\u001b[0m:\u001b[36mcompose_insert_query_form_graph\u001b[0m:\u001b[36m26\u001b[0m - \u001b[34m\u001b[1mReturn query with 9660 triple(s) and name timestamp:1731390606744/temp.\u001b[0m\n",
      "\u001b[32m2024-11-12 10:59:38.038\u001b[0m | \u001b[34m\u001b[1mDEBUG   \u001b[0m | \u001b[36m__main__\u001b[0m:\u001b[36mcompose_insert_query_form_graph\u001b[0m:\u001b[36m26\u001b[0m - \u001b[34m\u001b[1mReturn query with 585 triple(s) and name timestamp:1731391206824/added.\u001b[0m\n",
      "\u001b[32m2024-11-12 10:59:38.418\u001b[0m | \u001b[34m\u001b[1mDEBUG   \u001b[0m | \u001b[36m__main__\u001b[0m:\u001b[36mcompose_insert_query_form_graph\u001b[0m:\u001b[36m26\u001b[0m - \u001b[34m\u001b[1mReturn query with 564 triple(s) and name timestamp:1731391206824/removed.\u001b[0m\n",
      "\u001b[32m2024-11-12 10:59:46.250\u001b[0m | \u001b[34m\u001b[1mDEBUG   \u001b[0m | \u001b[36m__main__\u001b[0m:\u001b[36mcompose_insert_query_form_graph\u001b[0m:\u001b[36m26\u001b[0m - \u001b[34m\u001b[1mReturn query with 9681 triple(s) and name timestamp:1731391206824/temp.\u001b[0m\n",
      "\u001b[32m2024-11-12 10:59:52.814\u001b[0m | \u001b[34m\u001b[1mDEBUG   \u001b[0m | \u001b[36m__main__\u001b[0m:\u001b[36mcompose_insert_query_form_graph\u001b[0m:\u001b[36m26\u001b[0m - \u001b[34m\u001b[1mReturn query with 589 triple(s) and name timestamp:1731391806921/added.\u001b[0m\n",
      "\u001b[32m2024-11-12 10:59:53.080\u001b[0m | \u001b[34m\u001b[1mDEBUG   \u001b[0m | \u001b[36m__main__\u001b[0m:\u001b[36mcompose_insert_query_form_graph\u001b[0m:\u001b[36m26\u001b[0m - \u001b[34m\u001b[1mReturn query with 560 triple(s) and name timestamp:1731391806921/removed.\u001b[0m\n",
      "\u001b[32m2024-11-12 10:59:59.064\u001b[0m | \u001b[34m\u001b[1mDEBUG   \u001b[0m | \u001b[36m__main__\u001b[0m:\u001b[36mcompose_insert_query_form_graph\u001b[0m:\u001b[36m26\u001b[0m - \u001b[34m\u001b[1mReturn query with 9710 triple(s) and name timestamp:1731391806921/temp.\u001b[0m\n",
      "\u001b[32m2024-11-12 11:00:04.967\u001b[0m | \u001b[34m\u001b[1mDEBUG   \u001b[0m | \u001b[36m__main__\u001b[0m:\u001b[36mcompose_insert_query_form_graph\u001b[0m:\u001b[36m26\u001b[0m - \u001b[34m\u001b[1mReturn query with 587 triple(s) and name timestamp:1731392406306/added.\u001b[0m\n",
      "\u001b[32m2024-11-12 11:00:05.308\u001b[0m | \u001b[34m\u001b[1mDEBUG   \u001b[0m | \u001b[36m__main__\u001b[0m:\u001b[36mcompose_insert_query_form_graph\u001b[0m:\u001b[36m26\u001b[0m - \u001b[34m\u001b[1mReturn query with 637 triple(s) and name timestamp:1731392406306/removed.\u001b[0m\n",
      "\u001b[32m2024-11-12 11:00:11.532\u001b[0m | \u001b[34m\u001b[1mDEBUG   \u001b[0m | \u001b[36m__main__\u001b[0m:\u001b[36mcompose_insert_query_form_graph\u001b[0m:\u001b[36m26\u001b[0m - \u001b[34m\u001b[1mReturn query with 9660 triple(s) and name timestamp:1731392406306/temp.\u001b[0m\n",
      "\u001b[32m2024-11-12 11:00:17.915\u001b[0m | \u001b[34m\u001b[1mDEBUG   \u001b[0m | \u001b[36m__main__\u001b[0m:\u001b[36mcompose_insert_query_form_graph\u001b[0m:\u001b[36m26\u001b[0m - \u001b[34m\u001b[1mReturn query with 585 triple(s) and name timestamp:1731393006777/added.\u001b[0m\n",
      "\u001b[32m2024-11-12 11:00:18.194\u001b[0m | \u001b[34m\u001b[1mDEBUG   \u001b[0m | \u001b[36m__main__\u001b[0m:\u001b[36mcompose_insert_query_form_graph\u001b[0m:\u001b[36m26\u001b[0m - \u001b[34m\u001b[1mReturn query with 564 triple(s) and name timestamp:1731393006777/removed.\u001b[0m\n",
      "\u001b[32m2024-11-12 11:00:24.132\u001b[0m | \u001b[34m\u001b[1mDEBUG   \u001b[0m | \u001b[36m__main__\u001b[0m:\u001b[36mcompose_insert_query_form_graph\u001b[0m:\u001b[36m26\u001b[0m - \u001b[34m\u001b[1mReturn query with 9681 triple(s) and name timestamp:1731393006777/temp.\u001b[0m\n",
      "\u001b[32m2024-11-12 11:00:32.322\u001b[0m | \u001b[34m\u001b[1mDEBUG   \u001b[0m | \u001b[36m__main__\u001b[0m:\u001b[36mcompose_insert_query_form_graph\u001b[0m:\u001b[36m26\u001b[0m - \u001b[34m\u001b[1mReturn query with 539 triple(s) and name timestamp:1731393607009/added.\u001b[0m\n",
      "\u001b[32m2024-11-12 11:00:32.878\u001b[0m | \u001b[34m\u001b[1mDEBUG   \u001b[0m | \u001b[36m__main__\u001b[0m:\u001b[36mcompose_insert_query_form_graph\u001b[0m:\u001b[36m26\u001b[0m - \u001b[34m\u001b[1mReturn query with 560 triple(s) and name timestamp:1731393607009/removed.\u001b[0m\n",
      "\u001b[32m2024-11-12 11:00:42.870\u001b[0m | \u001b[34m\u001b[1mDEBUG   \u001b[0m | \u001b[36m__main__\u001b[0m:\u001b[36mcompose_insert_query_form_graph\u001b[0m:\u001b[36m26\u001b[0m - \u001b[34m\u001b[1mReturn query with 9660 triple(s) and name timestamp:1731393607009/temp.\u001b[0m\n",
      "\u001b[32m2024-11-12 11:00:51.772\u001b[0m | \u001b[34m\u001b[1mDEBUG   \u001b[0m | \u001b[36m__main__\u001b[0m:\u001b[36mcompose_insert_query_form_graph\u001b[0m:\u001b[36m26\u001b[0m - \u001b[34m\u001b[1mReturn query with 589 triple(s) and name timestamp:1731394206093/added.\u001b[0m\n",
      "\u001b[32m2024-11-12 11:00:52.541\u001b[0m | \u001b[34m\u001b[1mDEBUG   \u001b[0m | \u001b[36m__main__\u001b[0m:\u001b[36mcompose_insert_query_form_graph\u001b[0m:\u001b[36m26\u001b[0m - \u001b[34m\u001b[1mReturn query with 588 triple(s) and name timestamp:1731394206093/removed.\u001b[0m\n",
      "\u001b[32m2024-11-12 11:01:05.774\u001b[0m | \u001b[34m\u001b[1mDEBUG   \u001b[0m | \u001b[36m__main__\u001b[0m:\u001b[36mcompose_insert_query_form_graph\u001b[0m:\u001b[36m26\u001b[0m - \u001b[34m\u001b[1mReturn query with 9661 triple(s) and name timestamp:1731394206093/temp.\u001b[0m\n",
      "\u001b[32m2024-11-12 11:01:14.014\u001b[0m | \u001b[34m\u001b[1mDEBUG   \u001b[0m | \u001b[36m__main__\u001b[0m:\u001b[36mcompose_insert_query_form_graph\u001b[0m:\u001b[36m26\u001b[0m - \u001b[34m\u001b[1mReturn query with 586 triple(s) and name timestamp:1731394806196/added.\u001b[0m\n",
      "\u001b[32m2024-11-12 11:01:14.848\u001b[0m | \u001b[34m\u001b[1mDEBUG   \u001b[0m | \u001b[36m__main__\u001b[0m:\u001b[36mcompose_insert_query_form_graph\u001b[0m:\u001b[36m26\u001b[0m - \u001b[34m\u001b[1mReturn query with 566 triple(s) and name timestamp:1731394806196/removed.\u001b[0m\n",
      "\u001b[32m2024-11-12 11:01:32.186\u001b[0m | \u001b[34m\u001b[1mDEBUG   \u001b[0m | \u001b[36m__main__\u001b[0m:\u001b[36mcompose_insert_query_form_graph\u001b[0m:\u001b[36m26\u001b[0m - \u001b[34m\u001b[1mReturn query with 9681 triple(s) and name timestamp:1731394806196/temp.\u001b[0m\n",
      "\u001b[32m2024-11-12 11:01:40.354\u001b[0m | \u001b[34m\u001b[1mDEBUG   \u001b[0m | \u001b[36m__main__\u001b[0m:\u001b[36mcompose_insert_query_form_graph\u001b[0m:\u001b[36m26\u001b[0m - \u001b[34m\u001b[1mReturn query with 589 triple(s) and name timestamp:1731395406331/added.\u001b[0m\n",
      "\u001b[32m2024-11-12 11:01:41.633\u001b[0m | \u001b[34m\u001b[1mDEBUG   \u001b[0m | \u001b[36m__main__\u001b[0m:\u001b[36mcompose_insert_query_form_graph\u001b[0m:\u001b[36m26\u001b[0m - \u001b[34m\u001b[1mReturn query with 560 triple(s) and name timestamp:1731395406331/removed.\u001b[0m\n",
      "\u001b[32m2024-11-12 11:01:57.479\u001b[0m | \u001b[34m\u001b[1mDEBUG   \u001b[0m | \u001b[36m__main__\u001b[0m:\u001b[36mcompose_insert_query_form_graph\u001b[0m:\u001b[36m26\u001b[0m - \u001b[34m\u001b[1mReturn query with 9710 triple(s) and name timestamp:1731395406331/temp.\u001b[0m\n",
      "\u001b[32m2024-11-12 11:02:05.500\u001b[0m | \u001b[34m\u001b[1mDEBUG   \u001b[0m | \u001b[36m__main__\u001b[0m:\u001b[36mcompose_insert_query_form_graph\u001b[0m:\u001b[36m26\u001b[0m - \u001b[34m\u001b[1mReturn query with 587 triple(s) and name timestamp:1731396006619/added.\u001b[0m\n",
      "\u001b[32m2024-11-12 11:02:06.865\u001b[0m | \u001b[34m\u001b[1mDEBUG   \u001b[0m | \u001b[36m__main__\u001b[0m:\u001b[36mcompose_insert_query_form_graph\u001b[0m:\u001b[36m26\u001b[0m - \u001b[34m\u001b[1mReturn query with 637 triple(s) and name timestamp:1731396006619/removed.\u001b[0m\n",
      "\u001b[32m2024-11-12 11:02:16.684\u001b[0m | \u001b[34m\u001b[1mDEBUG   \u001b[0m | \u001b[36m__main__\u001b[0m:\u001b[36mcompose_insert_query_form_graph\u001b[0m:\u001b[36m26\u001b[0m - \u001b[34m\u001b[1mReturn query with 9660 triple(s) and name timestamp:1731396006619/temp.\u001b[0m\n",
      "\u001b[32m2024-11-12 11:02:23.546\u001b[0m | \u001b[34m\u001b[1mDEBUG   \u001b[0m | \u001b[36m__main__\u001b[0m:\u001b[36mcompose_insert_query_form_graph\u001b[0m:\u001b[36m26\u001b[0m - \u001b[34m\u001b[1mReturn query with 585 triple(s) and name timestamp:1731396607117/added.\u001b[0m\n",
      "\u001b[32m2024-11-12 11:02:24.145\u001b[0m | \u001b[34m\u001b[1mDEBUG   \u001b[0m | \u001b[36m__main__\u001b[0m:\u001b[36mcompose_insert_query_form_graph\u001b[0m:\u001b[36m26\u001b[0m - \u001b[34m\u001b[1mReturn query with 564 triple(s) and name timestamp:1731396607117/removed.\u001b[0m\n",
      "\u001b[32m2024-11-12 11:02:32.905\u001b[0m | \u001b[34m\u001b[1mDEBUG   \u001b[0m | \u001b[36m__main__\u001b[0m:\u001b[36mcompose_insert_query_form_graph\u001b[0m:\u001b[36m26\u001b[0m - \u001b[34m\u001b[1mReturn query with 9681 triple(s) and name timestamp:1731396607117/temp.\u001b[0m\n",
      "\u001b[32m2024-11-12 11:02:39.688\u001b[0m | \u001b[34m\u001b[1mDEBUG   \u001b[0m | \u001b[36m__main__\u001b[0m:\u001b[36mcompose_insert_query_form_graph\u001b[0m:\u001b[36m26\u001b[0m - \u001b[34m\u001b[1mReturn query with 539 triple(s) and name timestamp:1731397206165/added.\u001b[0m\n",
      "\u001b[32m2024-11-12 11:02:40.066\u001b[0m | \u001b[34m\u001b[1mDEBUG   \u001b[0m | \u001b[36m__main__\u001b[0m:\u001b[36mcompose_insert_query_form_graph\u001b[0m:\u001b[36m26\u001b[0m - \u001b[34m\u001b[1mReturn query with 560 triple(s) and name timestamp:1731397206165/removed.\u001b[0m\n",
      "\u001b[32m2024-11-12 11:02:50.125\u001b[0m | \u001b[34m\u001b[1mDEBUG   \u001b[0m | \u001b[36m__main__\u001b[0m:\u001b[36mcompose_insert_query_form_graph\u001b[0m:\u001b[36m26\u001b[0m - \u001b[34m\u001b[1mReturn query with 9660 triple(s) and name timestamp:1731397206165/temp.\u001b[0m\n",
      "\u001b[32m2024-11-12 11:02:55.991\u001b[0m | \u001b[34m\u001b[1mDEBUG   \u001b[0m | \u001b[36m__main__\u001b[0m:\u001b[36mcompose_insert_query_form_graph\u001b[0m:\u001b[36m26\u001b[0m - \u001b[34m\u001b[1mReturn query with 587 triple(s) and name timestamp:1731397806075/added.\u001b[0m\n",
      "\u001b[32m2024-11-12 11:02:56.361\u001b[0m | \u001b[34m\u001b[1mDEBUG   \u001b[0m | \u001b[36m__main__\u001b[0m:\u001b[36mcompose_insert_query_form_graph\u001b[0m:\u001b[36m26\u001b[0m - \u001b[34m\u001b[1mReturn query with 587 triple(s) and name timestamp:1731397806075/removed.\u001b[0m\n",
      "\u001b[32m2024-11-12 11:03:04.452\u001b[0m | \u001b[34m\u001b[1mDEBUG   \u001b[0m | \u001b[36m__main__\u001b[0m:\u001b[36mcompose_insert_query_form_graph\u001b[0m:\u001b[36m26\u001b[0m - \u001b[34m\u001b[1mReturn query with 9660 triple(s) and name timestamp:1731397806075/temp.\u001b[0m\n",
      "\u001b[32m2024-11-12 11:03:10.247\u001b[0m | \u001b[34m\u001b[1mDEBUG   \u001b[0m | \u001b[36m__main__\u001b[0m:\u001b[36mcompose_insert_query_form_graph\u001b[0m:\u001b[36m26\u001b[0m - \u001b[34m\u001b[1mReturn query with 587 triple(s) and name timestamp:1731398406106/added.\u001b[0m\n",
      "\u001b[32m2024-11-12 11:03:10.620\u001b[0m | \u001b[34m\u001b[1mDEBUG   \u001b[0m | \u001b[36m__main__\u001b[0m:\u001b[36mcompose_insert_query_form_graph\u001b[0m:\u001b[36m26\u001b[0m - \u001b[34m\u001b[1mReturn query with 565 triple(s) and name timestamp:1731398406106/removed.\u001b[0m\n",
      "\u001b[32m2024-11-12 11:03:19.439\u001b[0m | \u001b[34m\u001b[1mDEBUG   \u001b[0m | \u001b[36m__main__\u001b[0m:\u001b[36mcompose_insert_query_form_graph\u001b[0m:\u001b[36m26\u001b[0m - \u001b[34m\u001b[1mReturn query with 9682 triple(s) and name timestamp:1731398406106/temp.\u001b[0m\n",
      "\u001b[32m2024-11-12 11:03:27.023\u001b[0m | \u001b[34m\u001b[1mDEBUG   \u001b[0m | \u001b[36m__main__\u001b[0m:\u001b[36mcompose_insert_query_form_graph\u001b[0m:\u001b[36m26\u001b[0m - \u001b[34m\u001b[1mReturn query with 590 triple(s) and name timestamp:1731399005966/added.\u001b[0m\n",
      "\u001b[32m2024-11-12 11:03:27.563\u001b[0m | \u001b[34m\u001b[1mDEBUG   \u001b[0m | \u001b[36m__main__\u001b[0m:\u001b[36mcompose_insert_query_form_graph\u001b[0m:\u001b[36m26\u001b[0m - \u001b[34m\u001b[1mReturn query with 562 triple(s) and name timestamp:1731399005966/removed.\u001b[0m\n",
      "\u001b[32m2024-11-12 11:03:39.007\u001b[0m | \u001b[34m\u001b[1mDEBUG   \u001b[0m | \u001b[36m__main__\u001b[0m:\u001b[36mcompose_insert_query_form_graph\u001b[0m:\u001b[36m26\u001b[0m - \u001b[34m\u001b[1mReturn query with 9710 triple(s) and name timestamp:1731399005966/temp.\u001b[0m\n",
      "\u001b[32m2024-11-12 11:03:49.111\u001b[0m | \u001b[34m\u001b[1mDEBUG   \u001b[0m | \u001b[36m__main__\u001b[0m:\u001b[36mcompose_insert_query_form_graph\u001b[0m:\u001b[36m26\u001b[0m - \u001b[34m\u001b[1mReturn query with 587 triple(s) and name timestamp:1731399605978/added.\u001b[0m\n",
      "\u001b[32m2024-11-12 11:03:49.718\u001b[0m | \u001b[34m\u001b[1mDEBUG   \u001b[0m | \u001b[36m__main__\u001b[0m:\u001b[36mcompose_insert_query_form_graph\u001b[0m:\u001b[36m26\u001b[0m - \u001b[34m\u001b[1mReturn query with 637 triple(s) and name timestamp:1731399605978/removed.\u001b[0m\n",
      "\u001b[32m2024-11-12 11:04:11.206\u001b[0m | \u001b[34m\u001b[1mDEBUG   \u001b[0m | \u001b[36m__main__\u001b[0m:\u001b[36mcompose_insert_query_form_graph\u001b[0m:\u001b[36m26\u001b[0m - \u001b[34m\u001b[1mReturn query with 9660 triple(s) and name timestamp:1731399605978/temp.\u001b[0m\n",
      "\u001b[32m2024-11-12 11:04:20.056\u001b[0m | \u001b[34m\u001b[1mDEBUG   \u001b[0m | \u001b[36m__main__\u001b[0m:\u001b[36mcompose_insert_query_form_graph\u001b[0m:\u001b[36m26\u001b[0m - \u001b[34m\u001b[1mReturn query with 664 triple(s) and name timestamp:1731400206166/added.\u001b[0m\n",
      "\u001b[32m2024-11-12 11:04:21.239\u001b[0m | \u001b[34m\u001b[1mDEBUG   \u001b[0m | \u001b[36m__main__\u001b[0m:\u001b[36mcompose_insert_query_form_graph\u001b[0m:\u001b[36m26\u001b[0m - \u001b[34m\u001b[1mReturn query with 565 triple(s) and name timestamp:1731400206166/removed.\u001b[0m\n",
      "\u001b[32m2024-11-12 11:04:42.454\u001b[0m | \u001b[34m\u001b[1mDEBUG   \u001b[0m | \u001b[36m__main__\u001b[0m:\u001b[36mcompose_insert_query_form_graph\u001b[0m:\u001b[36m26\u001b[0m - \u001b[34m\u001b[1mReturn query with 9759 triple(s) and name timestamp:1731400206166/temp.\u001b[0m\n",
      "\u001b[32m2024-11-12 11:04:51.139\u001b[0m | \u001b[34m\u001b[1mDEBUG   \u001b[0m | \u001b[36m__main__\u001b[0m:\u001b[36mcompose_insert_query_form_graph\u001b[0m:\u001b[36m26\u001b[0m - \u001b[34m\u001b[1mReturn query with 540 triple(s) and name timestamp:1731400806135/added.\u001b[0m\n",
      "\u001b[32m2024-11-12 11:04:52.664\u001b[0m | \u001b[34m\u001b[1mDEBUG   \u001b[0m | \u001b[36m__main__\u001b[0m:\u001b[36mcompose_insert_query_form_graph\u001b[0m:\u001b[36m26\u001b[0m - \u001b[34m\u001b[1mReturn query with 898 triple(s) and name timestamp:1731400806135/removed.\u001b[0m\n",
      "\u001b[32m2024-11-12 11:05:10.385\u001b[0m | \u001b[34m\u001b[1mDEBUG   \u001b[0m | \u001b[36m__main__\u001b[0m:\u001b[36mcompose_insert_query_form_graph\u001b[0m:\u001b[36m26\u001b[0m - \u001b[34m\u001b[1mReturn query with 9401 triple(s) and name timestamp:1731400806135/temp.\u001b[0m\n",
      "\u001b[32m2024-11-12 11:05:18.312\u001b[0m | \u001b[34m\u001b[1mDEBUG   \u001b[0m | \u001b[36m__main__\u001b[0m:\u001b[36mcompose_insert_query_form_graph\u001b[0m:\u001b[36m26\u001b[0m - \u001b[34m\u001b[1mReturn query with 586 triple(s) and name timestamp:1731401406228/added.\u001b[0m\n",
      "\u001b[32m2024-11-12 11:05:19.302\u001b[0m | \u001b[34m\u001b[1mDEBUG   \u001b[0m | \u001b[36m__main__\u001b[0m:\u001b[36mcompose_insert_query_form_graph\u001b[0m:\u001b[36m26\u001b[0m - \u001b[34m\u001b[1mReturn query with 586 triple(s) and name timestamp:1731401406228/removed.\u001b[0m\n",
      "\u001b[32m2024-11-12 11:05:35.786\u001b[0m | \u001b[34m\u001b[1mDEBUG   \u001b[0m | \u001b[36m__main__\u001b[0m:\u001b[36mcompose_insert_query_form_graph\u001b[0m:\u001b[36m26\u001b[0m - \u001b[34m\u001b[1mReturn query with 9401 triple(s) and name timestamp:1731401406228/temp.\u001b[0m\n",
      "\u001b[32m2024-11-12 11:05:42.369\u001b[0m | \u001b[34m\u001b[1mDEBUG   \u001b[0m | \u001b[36m__main__\u001b[0m:\u001b[36mcompose_insert_query_form_graph\u001b[0m:\u001b[36m26\u001b[0m - \u001b[34m\u001b[1mReturn query with 584 triple(s) and name timestamp:1731402006161/added.\u001b[0m\n",
      "\u001b[32m2024-11-12 11:05:42.818\u001b[0m | \u001b[34m\u001b[1mDEBUG   \u001b[0m | \u001b[36m__main__\u001b[0m:\u001b[36mcompose_insert_query_form_graph\u001b[0m:\u001b[36m26\u001b[0m - \u001b[34m\u001b[1mReturn query with 563 triple(s) and name timestamp:1731402006161/removed.\u001b[0m\n",
      "\u001b[32m2024-11-12 11:05:52.431\u001b[0m | \u001b[34m\u001b[1mDEBUG   \u001b[0m | \u001b[36m__main__\u001b[0m:\u001b[36mcompose_insert_query_form_graph\u001b[0m:\u001b[36m26\u001b[0m - \u001b[34m\u001b[1mReturn query with 9422 triple(s) and name timestamp:1731402006161/temp.\u001b[0m\n"
     ]
    }
   ],
   "source": [
    "for i in range(3, len(timestamps_integration)):\n",
    "    write_timestamp_to_database(timestamps_integration[i])"
   ]
  },
  {
   "cell_type": "code",
   "execution_count": 27,
   "metadata": {},
   "outputs": [
    {
     "data": {
      "text/plain": [
       "array([], dtype=float64)"
      ]
     },
     "execution_count": 27,
     "metadata": {},
     "output_type": "execute_result"
    }
   ],
   "source": [
    "timestamps"
   ]
  },
  {
   "cell_type": "code",
   "execution_count": 64,
   "metadata": {},
   "outputs": [],
   "source": [
    "# write the reconstruction function based on the timestamp\n",
    "\n",
    "def reconstruct_graph(timestamp_reconstruct):\n",
    "    time_steps_on_LSL, timestamps_LSL = count_time_steps_on_lsl_server()\n",
    "    \n",
    "    ts_rec = int(timestamp_reconstruct.split(\":\")[-1])\n",
    "    print(\"ts_rec\", ts_rec)\n",
    "    \n",
    "    added_ts = []\n",
    "    removed_ts = []\n",
    "    base_ts=''\n",
    "    \n",
    "    for timestamp in timestamps_LSL:\n",
    "        \n",
    "        ts = int(timestamp.split(\":\")[-1].split(\"/\")[0])\n",
    "        \n",
    "        if ts<=ts_rec: \n",
    "            if '/added' in timestamp:\n",
    "                added_ts.append(timestamp)\n",
    "            elif '/removed' in timestamp:\n",
    "                removed_ts.append(timestamp)\n",
    "            elif '/base' in timestamp:\n",
    "                base_ts=timestamp\n",
    "                \n",
    "    added_ts.sort(key=lambda x: int(x.split(\":\")[-1].split(\"/\")[0]))\n",
    "    removed_ts.sort(key=lambda x: int(x.split(\":\")[-1].split(\"/\")[0]))\n",
    "    \n",
    "    g = read_graph_from_time_stamp(base_ts, fuseki)\n",
    "    \n",
    "    for i in range(len(added_ts)):\n",
    "        g+=read_graph_from_time_stamp(added_ts[i], fuseki)\n",
    "        g-=read_graph_from_time_stamp(removed_ts[i], fuseki)\n",
    "        \n",
    "    return g\n",
    "                \n",
    "    #return base_ts, added_ts, removed_ts"
   ]
  },
  {
   "cell_type": "code",
   "execution_count": 65,
   "metadata": {},
   "outputs": [
    {
     "name": "stdout",
     "output_type": "stream",
     "text": [
      "ts_rec 1731319206571\n"
     ]
    }
   ],
   "source": [
    "g_rec = reconstruct_graph(timestamps_integration[7])"
   ]
  },
  {
   "cell_type": "code",
   "execution_count": 66,
   "metadata": {},
   "outputs": [],
   "source": [
    "g_pure = read_graph_from_time_stamp(timestamps_integration[7], fuseki_integration)"
   ]
  },
  {
   "cell_type": "code",
   "execution_count": 67,
   "metadata": {},
   "outputs": [
    {
     "data": {
      "text/plain": [
       "0"
      ]
     },
     "execution_count": 67,
     "metadata": {},
     "output_type": "execute_result"
    }
   ],
   "source": [
    "len(g_pure-g_rec)"
   ]
  },
  {
   "cell_type": "code",
   "execution_count": 78,
   "metadata": {},
   "outputs": [],
   "source": [
    "def write_timestamp_to_database_new(timestamp):\n",
    "\n",
    "    # read graph for the input\n",
    "    g = read_graph_from_time_stamp(timestamp, fuseki_integration)\n",
    "    # check how many graphs are there on the LSL server and what are they\n",
    "    time_steps_on_LSL, timestamps_LSL = count_time_steps_on_lsl_server()\n",
    "\n",
    "    # if there are no graphs yet\n",
    "    if time_steps_on_LSL == 0:\n",
    "        # write the very first graph with a suffix /base\n",
    "        query_g_0 = compose_insert_query_form_graph(g, timestamp + \"/base\")\n",
    "        fuseki.update_query(query_g_0)\n",
    "    # if there is just one\n",
    "    else :\n",
    "        # here is the most common case\n",
    "        # find where the previous time stamp is completely (temporarily) stored\n",
    "        timestamp_previous = find_temp(timestamps_LSL)\n",
    "        \n",
    "        if timestamp_previous=='none':\n",
    "            timestamp_previous=find_base(timestamps_LSL)\n",
    "        # read the previous (n-1) time stamp\n",
    "        \n",
    "        print(timestamp_previous)\n",
    "        g0 = read_graph_from_time_stamp(timestamp_previous, fuseki)\n",
    "        \n",
    "        # compute deltas\n",
    "        delta_plus = g - g0\n",
    "        delta_minus = g0 - g\n",
    "        \n",
    "        # compose a query for added\n",
    "        query_plus = compose_insert_query_form_graph(\n",
    "            delta_plus, timestamp + \"/added\"\n",
    "        )\n",
    "        # compose a query for removed\n",
    "        query_minus = compose_insert_query_form_graph(\n",
    "            delta_minus, timestamp + \"/removed\"\n",
    "        )\n",
    "\n",
    "        # write added to LSL fuseki\n",
    "        fuseki.update_query(query_plus)\n",
    "        # write removed to LSL fuseki\n",
    "        fuseki.update_query(query_minus)\n",
    "        \n",
    "        #remove previous temp graph\n",
    "        if 'temp' in timestamp_previous:\n",
    "            query_delete = f\"DROP GRAPH <{timestamp_previous}>\" \n",
    "            fuseki.update_query(query_delete)\n",
    "        \n",
    "        # add new temporal graph\n",
    "        query_temp = compose_insert_query_form_graph(\n",
    "            g, timestamp + \"/temp\"\n",
    "        )\n",
    "        \n",
    "        fuseki.update_query(query_temp)\n",
    "\n",
    "        "
   ]
  },
  {
   "cell_type": "code",
   "execution_count": 70,
   "metadata": {},
   "outputs": [],
   "source": [
    "time_steps_on_LSL, timestamps_LSL = count_time_steps_on_lsl_server()\n",
    "for timestamp in timestamps_LSL:\n",
    "    fuseki.update_query(f\"DROP GRAPH <{timestamp}>\")"
   ]
  },
  {
   "cell_type": "code",
   "execution_count": 79,
   "metadata": {},
   "outputs": [
    {
     "name": "stdout",
     "output_type": "stream",
     "text": [
      "timestamp:1731315005935/base\n"
     ]
    },
    {
     "name": "stderr",
     "output_type": "stream",
     "text": [
      "\u001b[32m2024-11-12 14:25:43.621\u001b[0m | \u001b[34m\u001b[1mDEBUG   \u001b[0m | \u001b[36m__main__\u001b[0m:\u001b[36mcompose_insert_query_form_graph\u001b[0m:\u001b[36m26\u001b[0m - \u001b[34m\u001b[1mReturn query with 587 triple(s) and name timestamp:1731315605957/added.\u001b[0m\n",
      "\u001b[32m2024-11-12 14:25:43.975\u001b[0m | \u001b[34m\u001b[1mDEBUG   \u001b[0m | \u001b[36m__main__\u001b[0m:\u001b[36mcompose_insert_query_form_graph\u001b[0m:\u001b[36m26\u001b[0m - \u001b[34m\u001b[1mReturn query with 614 triple(s) and name timestamp:1731315605957/removed.\u001b[0m\n",
      "\u001b[32m2024-11-12 14:25:49.981\u001b[0m | \u001b[34m\u001b[1mDEBUG   \u001b[0m | \u001b[36m__main__\u001b[0m:\u001b[36mcompose_insert_query_form_graph\u001b[0m:\u001b[36m26\u001b[0m - \u001b[34m\u001b[1mReturn query with 9146 triple(s) and name timestamp:1731315605957/temp.\u001b[0m\n"
     ]
    },
    {
     "name": "stdout",
     "output_type": "stream",
     "text": [
      "timestamp:1731315605957/temp\n"
     ]
    },
    {
     "name": "stderr",
     "output_type": "stream",
     "text": [
      "\u001b[32m2024-11-12 14:25:55.470\u001b[0m | \u001b[34m\u001b[1mDEBUG   \u001b[0m | \u001b[36m__main__\u001b[0m:\u001b[36mcompose_insert_query_form_graph\u001b[0m:\u001b[36m26\u001b[0m - \u001b[34m\u001b[1mReturn query with 590 triple(s) and name timestamp:1731316206383/added.\u001b[0m\n",
      "\u001b[32m2024-11-12 14:25:55.945\u001b[0m | \u001b[34m\u001b[1mDEBUG   \u001b[0m | \u001b[36m__main__\u001b[0m:\u001b[36mcompose_insert_query_form_graph\u001b[0m:\u001b[36m26\u001b[0m - \u001b[34m\u001b[1mReturn query with 589 triple(s) and name timestamp:1731316206383/removed.\u001b[0m\n",
      "\u001b[32m2024-11-12 14:26:01.795\u001b[0m | \u001b[34m\u001b[1mDEBUG   \u001b[0m | \u001b[36m__main__\u001b[0m:\u001b[36mcompose_insert_query_form_graph\u001b[0m:\u001b[36m26\u001b[0m - \u001b[34m\u001b[1mReturn query with 9147 triple(s) and name timestamp:1731316206383/temp.\u001b[0m\n"
     ]
    },
    {
     "name": "stdout",
     "output_type": "stream",
     "text": [
      "timestamp:1731316206383/temp\n"
     ]
    },
    {
     "name": "stderr",
     "output_type": "stream",
     "text": [
      "\u001b[32m2024-11-12 14:26:07.745\u001b[0m | \u001b[34m\u001b[1mDEBUG   \u001b[0m | \u001b[36m__main__\u001b[0m:\u001b[36mcompose_insert_query_form_graph\u001b[0m:\u001b[36m26\u001b[0m - \u001b[34m\u001b[1mReturn query with 586 triple(s) and name timestamp:1731316806531/added.\u001b[0m\n",
      "\u001b[32m2024-11-12 14:26:08.063\u001b[0m | \u001b[34m\u001b[1mDEBUG   \u001b[0m | \u001b[36m__main__\u001b[0m:\u001b[36mcompose_insert_query_form_graph\u001b[0m:\u001b[36m26\u001b[0m - \u001b[34m\u001b[1mReturn query with 636 triple(s) and name timestamp:1731316806531/removed.\u001b[0m\n",
      "\u001b[32m2024-11-12 14:26:14.081\u001b[0m | \u001b[34m\u001b[1mDEBUG   \u001b[0m | \u001b[36m__main__\u001b[0m:\u001b[36mcompose_insert_query_form_graph\u001b[0m:\u001b[36m26\u001b[0m - \u001b[34m\u001b[1mReturn query with 9097 triple(s) and name timestamp:1731316806531/temp.\u001b[0m\n"
     ]
    },
    {
     "name": "stdout",
     "output_type": "stream",
     "text": [
      "timestamp:1731316806531/temp\n"
     ]
    },
    {
     "name": "stderr",
     "output_type": "stream",
     "text": [
      "\u001b[32m2024-11-12 14:26:20.739\u001b[0m | \u001b[34m\u001b[1mDEBUG   \u001b[0m | \u001b[36m__main__\u001b[0m:\u001b[36mcompose_insert_query_form_graph\u001b[0m:\u001b[36m26\u001b[0m - \u001b[34m\u001b[1mReturn query with 609 triple(s) and name timestamp:1731317406346/added.\u001b[0m\n",
      "\u001b[32m2024-11-12 14:26:21.018\u001b[0m | \u001b[34m\u001b[1mDEBUG   \u001b[0m | \u001b[36m__main__\u001b[0m:\u001b[36mcompose_insert_query_form_graph\u001b[0m:\u001b[36m26\u001b[0m - \u001b[34m\u001b[1mReturn query with 563 triple(s) and name timestamp:1731317406346/removed.\u001b[0m\n",
      "\u001b[32m2024-11-12 14:26:27.009\u001b[0m | \u001b[34m\u001b[1mDEBUG   \u001b[0m | \u001b[36m__main__\u001b[0m:\u001b[36mcompose_insert_query_form_graph\u001b[0m:\u001b[36m26\u001b[0m - \u001b[34m\u001b[1mReturn query with 9143 triple(s) and name timestamp:1731317406346/temp.\u001b[0m\n"
     ]
    },
    {
     "name": "stdout",
     "output_type": "stream",
     "text": [
      "timestamp:1731317406346/temp\n"
     ]
    },
    {
     "name": "stderr",
     "output_type": "stream",
     "text": [
      "\u001b[32m2024-11-12 14:26:32.098\u001b[0m | \u001b[34m\u001b[1mDEBUG   \u001b[0m | \u001b[36m__main__\u001b[0m:\u001b[36mcompose_insert_query_form_graph\u001b[0m:\u001b[36m26\u001b[0m - \u001b[34m\u001b[1mReturn query with 538 triple(s) and name timestamp:1731318006958/added.\u001b[0m\n",
      "\u001b[32m2024-11-12 14:26:32.571\u001b[0m | \u001b[34m\u001b[1mDEBUG   \u001b[0m | \u001b[36m__main__\u001b[0m:\u001b[36mcompose_insert_query_form_graph\u001b[0m:\u001b[36m26\u001b[0m - \u001b[34m\u001b[1mReturn query with 584 triple(s) and name timestamp:1731318006958/removed.\u001b[0m\n",
      "\u001b[32m2024-11-12 14:26:38.221\u001b[0m | \u001b[34m\u001b[1mDEBUG   \u001b[0m | \u001b[36m__main__\u001b[0m:\u001b[36mcompose_insert_query_form_graph\u001b[0m:\u001b[36m26\u001b[0m - \u001b[34m\u001b[1mReturn query with 9097 triple(s) and name timestamp:1731318006958/temp.\u001b[0m\n"
     ]
    },
    {
     "name": "stdout",
     "output_type": "stream",
     "text": [
      "timestamp:1731318006958/temp\n"
     ]
    },
    {
     "name": "stderr",
     "output_type": "stream",
     "text": [
      "\u001b[32m2024-11-12 14:26:44.220\u001b[0m | \u001b[34m\u001b[1mDEBUG   \u001b[0m | \u001b[36m__main__\u001b[0m:\u001b[36mcompose_insert_query_form_graph\u001b[0m:\u001b[36m26\u001b[0m - \u001b[34m\u001b[1mReturn query with 586 triple(s) and name timestamp:1731318606197/added.\u001b[0m\n",
      "\u001b[32m2024-11-12 14:26:44.517\u001b[0m | \u001b[34m\u001b[1mDEBUG   \u001b[0m | \u001b[36m__main__\u001b[0m:\u001b[36mcompose_insert_query_form_graph\u001b[0m:\u001b[36m26\u001b[0m - \u001b[34m\u001b[1mReturn query with 586 triple(s) and name timestamp:1731318606197/removed.\u001b[0m\n",
      "\u001b[32m2024-11-12 14:26:51.225\u001b[0m | \u001b[34m\u001b[1mDEBUG   \u001b[0m | \u001b[36m__main__\u001b[0m:\u001b[36mcompose_insert_query_form_graph\u001b[0m:\u001b[36m26\u001b[0m - \u001b[34m\u001b[1mReturn query with 9097 triple(s) and name timestamp:1731318606197/temp.\u001b[0m\n"
     ]
    },
    {
     "name": "stdout",
     "output_type": "stream",
     "text": [
      "timestamp:1731318606197/temp\n"
     ]
    },
    {
     "name": "stderr",
     "output_type": "stream",
     "text": [
      "\u001b[32m2024-11-12 14:26:57.638\u001b[0m | \u001b[34m\u001b[1mDEBUG   \u001b[0m | \u001b[36m__main__\u001b[0m:\u001b[36mcompose_insert_query_form_graph\u001b[0m:\u001b[36m26\u001b[0m - \u001b[34m\u001b[1mReturn query with 584 triple(s) and name timestamp:1731319206571/added.\u001b[0m\n",
      "\u001b[32m2024-11-12 14:26:57.930\u001b[0m | \u001b[34m\u001b[1mDEBUG   \u001b[0m | \u001b[36m__main__\u001b[0m:\u001b[36mcompose_insert_query_form_graph\u001b[0m:\u001b[36m26\u001b[0m - \u001b[34m\u001b[1mReturn query with 563 triple(s) and name timestamp:1731319206571/removed.\u001b[0m\n",
      "\u001b[32m2024-11-12 14:27:03.813\u001b[0m | \u001b[34m\u001b[1mDEBUG   \u001b[0m | \u001b[36m__main__\u001b[0m:\u001b[36mcompose_insert_query_form_graph\u001b[0m:\u001b[36m26\u001b[0m - \u001b[34m\u001b[1mReturn query with 9118 triple(s) and name timestamp:1731319206571/temp.\u001b[0m\n"
     ]
    },
    {
     "name": "stdout",
     "output_type": "stream",
     "text": [
      "timestamp:1731319206571/temp\n"
     ]
    },
    {
     "name": "stderr",
     "output_type": "stream",
     "text": [
      "\u001b[32m2024-11-12 14:27:08.867\u001b[0m | \u001b[34m\u001b[1mDEBUG   \u001b[0m | \u001b[36m__main__\u001b[0m:\u001b[36mcompose_insert_query_form_graph\u001b[0m:\u001b[36m26\u001b[0m - \u001b[34m\u001b[1mReturn query with 588 triple(s) and name timestamp:1731319806282/added.\u001b[0m\n",
      "\u001b[32m2024-11-12 14:27:09.171\u001b[0m | \u001b[34m\u001b[1mDEBUG   \u001b[0m | \u001b[36m__main__\u001b[0m:\u001b[36mcompose_insert_query_form_graph\u001b[0m:\u001b[36m26\u001b[0m - \u001b[34m\u001b[1mReturn query with 559 triple(s) and name timestamp:1731319806282/removed.\u001b[0m\n",
      "\u001b[32m2024-11-12 14:27:15.178\u001b[0m | \u001b[34m\u001b[1mDEBUG   \u001b[0m | \u001b[36m__main__\u001b[0m:\u001b[36mcompose_insert_query_form_graph\u001b[0m:\u001b[36m26\u001b[0m - \u001b[34m\u001b[1mReturn query with 9147 triple(s) and name timestamp:1731319806282/temp.\u001b[0m\n"
     ]
    },
    {
     "name": "stdout",
     "output_type": "stream",
     "text": [
      "timestamp:1731319806282/temp\n"
     ]
    },
    {
     "name": "stderr",
     "output_type": "stream",
     "text": [
      "\u001b[32m2024-11-12 14:27:20.950\u001b[0m | \u001b[34m\u001b[1mDEBUG   \u001b[0m | \u001b[36m__main__\u001b[0m:\u001b[36mcompose_insert_query_form_graph\u001b[0m:\u001b[36m26\u001b[0m - \u001b[34m\u001b[1mReturn query with 586 triple(s) and name timestamp:1731320406188/added.\u001b[0m\n",
      "\u001b[32m2024-11-12 14:27:21.267\u001b[0m | \u001b[34m\u001b[1mDEBUG   \u001b[0m | \u001b[36m__main__\u001b[0m:\u001b[36mcompose_insert_query_form_graph\u001b[0m:\u001b[36m26\u001b[0m - \u001b[34m\u001b[1mReturn query with 636 triple(s) and name timestamp:1731320406188/removed.\u001b[0m\n",
      "\u001b[32m2024-11-12 14:27:27.558\u001b[0m | \u001b[34m\u001b[1mDEBUG   \u001b[0m | \u001b[36m__main__\u001b[0m:\u001b[36mcompose_insert_query_form_graph\u001b[0m:\u001b[36m26\u001b[0m - \u001b[34m\u001b[1mReturn query with 9097 triple(s) and name timestamp:1731320406188/temp.\u001b[0m\n"
     ]
    },
    {
     "name": "stdout",
     "output_type": "stream",
     "text": [
      "timestamp:1731320406188/temp\n"
     ]
    },
    {
     "name": "stderr",
     "output_type": "stream",
     "text": [
      "\u001b[32m2024-11-12 14:27:33.646\u001b[0m | \u001b[34m\u001b[1mDEBUG   \u001b[0m | \u001b[36m__main__\u001b[0m:\u001b[36mcompose_insert_query_form_graph\u001b[0m:\u001b[36m26\u001b[0m - \u001b[34m\u001b[1mReturn query with 584 triple(s) and name timestamp:1731321006001/added.\u001b[0m\n",
      "\u001b[32m2024-11-12 14:27:34.271\u001b[0m | \u001b[34m\u001b[1mDEBUG   \u001b[0m | \u001b[36m__main__\u001b[0m:\u001b[36mcompose_insert_query_form_graph\u001b[0m:\u001b[36m26\u001b[0m - \u001b[34m\u001b[1mReturn query with 563 triple(s) and name timestamp:1731321006001/removed.\u001b[0m\n",
      "\u001b[32m2024-11-12 14:27:41.780\u001b[0m | \u001b[34m\u001b[1mDEBUG   \u001b[0m | \u001b[36m__main__\u001b[0m:\u001b[36mcompose_insert_query_form_graph\u001b[0m:\u001b[36m26\u001b[0m - \u001b[34m\u001b[1mReturn query with 9118 triple(s) and name timestamp:1731321006001/temp.\u001b[0m\n"
     ]
    },
    {
     "name": "stdout",
     "output_type": "stream",
     "text": [
      "timestamp:1731321006001/temp\n"
     ]
    },
    {
     "name": "stderr",
     "output_type": "stream",
     "text": [
      "\u001b[32m2024-11-12 14:27:47.909\u001b[0m | \u001b[34m\u001b[1mDEBUG   \u001b[0m | \u001b[36m__main__\u001b[0m:\u001b[36mcompose_insert_query_form_graph\u001b[0m:\u001b[36m26\u001b[0m - \u001b[34m\u001b[1mReturn query with 538 triple(s) and name timestamp:1731321605814/added.\u001b[0m\n",
      "\u001b[32m2024-11-12 14:27:48.364\u001b[0m | \u001b[34m\u001b[1mDEBUG   \u001b[0m | \u001b[36m__main__\u001b[0m:\u001b[36mcompose_insert_query_form_graph\u001b[0m:\u001b[36m26\u001b[0m - \u001b[34m\u001b[1mReturn query with 559 triple(s) and name timestamp:1731321605814/removed.\u001b[0m\n",
      "\u001b[32m2024-11-12 14:28:01.501\u001b[0m | \u001b[34m\u001b[1mDEBUG   \u001b[0m | \u001b[36m__main__\u001b[0m:\u001b[36mcompose_insert_query_form_graph\u001b[0m:\u001b[36m26\u001b[0m - \u001b[34m\u001b[1mReturn query with 9097 triple(s) and name timestamp:1731321605814/temp.\u001b[0m\n"
     ]
    },
    {
     "name": "stdout",
     "output_type": "stream",
     "text": [
      "timestamp:1731321605814/temp\n"
     ]
    },
    {
     "name": "stderr",
     "output_type": "stream",
     "text": [
      "\u001b[32m2024-11-12 14:28:09.061\u001b[0m | \u001b[34m\u001b[1mDEBUG   \u001b[0m | \u001b[36m__main__\u001b[0m:\u001b[36mcompose_insert_query_form_graph\u001b[0m:\u001b[36m26\u001b[0m - \u001b[34m\u001b[1mReturn query with 586 triple(s) and name timestamp:1731322205739/added.\u001b[0m\n",
      "\u001b[32m2024-11-12 14:28:09.603\u001b[0m | \u001b[34m\u001b[1mDEBUG   \u001b[0m | \u001b[36m__main__\u001b[0m:\u001b[36mcompose_insert_query_form_graph\u001b[0m:\u001b[36m26\u001b[0m - \u001b[34m\u001b[1mReturn query with 586 triple(s) and name timestamp:1731322205739/removed.\u001b[0m\n",
      "\u001b[32m2024-11-12 14:28:22.854\u001b[0m | \u001b[34m\u001b[1mDEBUG   \u001b[0m | \u001b[36m__main__\u001b[0m:\u001b[36mcompose_insert_query_form_graph\u001b[0m:\u001b[36m26\u001b[0m - \u001b[34m\u001b[1mReturn query with 9097 triple(s) and name timestamp:1731322205739/temp.\u001b[0m\n"
     ]
    },
    {
     "name": "stdout",
     "output_type": "stream",
     "text": [
      "timestamp:1731322205739/temp\n"
     ]
    },
    {
     "name": "stderr",
     "output_type": "stream",
     "text": [
      "\u001b[32m2024-11-12 14:28:29.651\u001b[0m | \u001b[34m\u001b[1mDEBUG   \u001b[0m | \u001b[36m__main__\u001b[0m:\u001b[36mcompose_insert_query_form_graph\u001b[0m:\u001b[36m26\u001b[0m - \u001b[34m\u001b[1mReturn query with 632 triple(s) and name timestamp:1731322805480/added.\u001b[0m\n",
      "\u001b[32m2024-11-12 14:28:30.225\u001b[0m | \u001b[34m\u001b[1mDEBUG   \u001b[0m | \u001b[36m__main__\u001b[0m:\u001b[36mcompose_insert_query_form_graph\u001b[0m:\u001b[36m26\u001b[0m - \u001b[34m\u001b[1mReturn query with 565 triple(s) and name timestamp:1731322805480/removed.\u001b[0m\n",
      "\u001b[32m2024-11-12 14:28:38.211\u001b[0m | \u001b[34m\u001b[1mDEBUG   \u001b[0m | \u001b[36m__main__\u001b[0m:\u001b[36mcompose_insert_query_form_graph\u001b[0m:\u001b[36m26\u001b[0m - \u001b[34m\u001b[1mReturn query with 9164 triple(s) and name timestamp:1731322805480/temp.\u001b[0m\n"
     ]
    },
    {
     "name": "stdout",
     "output_type": "stream",
     "text": [
      "timestamp:1731322805480/temp\n"
     ]
    },
    {
     "name": "stderr",
     "output_type": "stream",
     "text": [
      "\u001b[32m2024-11-12 14:28:44.079\u001b[0m | \u001b[34m\u001b[1mDEBUG   \u001b[0m | \u001b[36m__main__\u001b[0m:\u001b[36mcompose_insert_query_form_graph\u001b[0m:\u001b[36m26\u001b[0m - \u001b[34m\u001b[1mReturn query with 592 triple(s) and name timestamp:1731323406254/added.\u001b[0m\n",
      "\u001b[32m2024-11-12 14:28:44.371\u001b[0m | \u001b[34m\u001b[1mDEBUG   \u001b[0m | \u001b[36m__main__\u001b[0m:\u001b[36mcompose_insert_query_form_graph\u001b[0m:\u001b[36m26\u001b[0m - \u001b[34m\u001b[1mReturn query with 562 triple(s) and name timestamp:1731323406254/removed.\u001b[0m\n",
      "\u001b[32m2024-11-12 14:28:49.917\u001b[0m | \u001b[34m\u001b[1mDEBUG   \u001b[0m | \u001b[36m__main__\u001b[0m:\u001b[36mcompose_insert_query_form_graph\u001b[0m:\u001b[36m26\u001b[0m - \u001b[34m\u001b[1mReturn query with 9194 triple(s) and name timestamp:1731323406254/temp.\u001b[0m\n"
     ]
    },
    {
     "name": "stdout",
     "output_type": "stream",
     "text": [
      "timestamp:1731323406254/temp\n"
     ]
    },
    {
     "name": "stderr",
     "output_type": "stream",
     "text": [
      "\u001b[32m2024-11-12 14:28:55.819\u001b[0m | \u001b[34m\u001b[1mDEBUG   \u001b[0m | \u001b[36m__main__\u001b[0m:\u001b[36mcompose_insert_query_form_graph\u001b[0m:\u001b[36m26\u001b[0m - \u001b[34m\u001b[1mReturn query with 586 triple(s) and name timestamp:1731324006064/added.\u001b[0m\n",
      "\u001b[32m2024-11-12 14:28:56.124\u001b[0m | \u001b[34m\u001b[1mDEBUG   \u001b[0m | \u001b[36m__main__\u001b[0m:\u001b[36mcompose_insert_query_form_graph\u001b[0m:\u001b[36m26\u001b[0m - \u001b[34m\u001b[1mReturn query with 636 triple(s) and name timestamp:1731324006064/removed.\u001b[0m\n",
      "\u001b[32m2024-11-12 14:29:01.756\u001b[0m | \u001b[34m\u001b[1mDEBUG   \u001b[0m | \u001b[36m__main__\u001b[0m:\u001b[36mcompose_insert_query_form_graph\u001b[0m:\u001b[36m26\u001b[0m - \u001b[34m\u001b[1mReturn query with 9144 triple(s) and name timestamp:1731324006064/temp.\u001b[0m\n"
     ]
    },
    {
     "name": "stdout",
     "output_type": "stream",
     "text": [
      "timestamp:1731324006064/temp\n"
     ]
    },
    {
     "name": "stderr",
     "output_type": "stream",
     "text": [
      "\u001b[32m2024-11-12 14:29:07.609\u001b[0m | \u001b[34m\u001b[1mDEBUG   \u001b[0m | \u001b[36m__main__\u001b[0m:\u001b[36mcompose_insert_query_form_graph\u001b[0m:\u001b[36m26\u001b[0m - \u001b[34m\u001b[1mReturn query with 583 triple(s) and name timestamp:1731324606015/added.\u001b[0m\n",
      "\u001b[32m2024-11-12 14:29:08.102\u001b[0m | \u001b[34m\u001b[1mDEBUG   \u001b[0m | \u001b[36m__main__\u001b[0m:\u001b[36mcompose_insert_query_form_graph\u001b[0m:\u001b[36m26\u001b[0m - \u001b[34m\u001b[1mReturn query with 563 triple(s) and name timestamp:1731324606015/removed.\u001b[0m\n",
      "\u001b[32m2024-11-12 14:29:13.600\u001b[0m | \u001b[34m\u001b[1mDEBUG   \u001b[0m | \u001b[36m__main__\u001b[0m:\u001b[36mcompose_insert_query_form_graph\u001b[0m:\u001b[36m26\u001b[0m - \u001b[34m\u001b[1mReturn query with 9164 triple(s) and name timestamp:1731324606015/temp.\u001b[0m\n"
     ]
    },
    {
     "name": "stdout",
     "output_type": "stream",
     "text": [
      "timestamp:1731324606015/temp\n"
     ]
    },
    {
     "name": "stderr",
     "output_type": "stream",
     "text": [
      "\u001b[32m2024-11-12 14:29:20.378\u001b[0m | \u001b[34m\u001b[1mDEBUG   \u001b[0m | \u001b[36m__main__\u001b[0m:\u001b[36mcompose_insert_query_form_graph\u001b[0m:\u001b[36m26\u001b[0m - \u001b[34m\u001b[1mReturn query with 540 triple(s) and name timestamp:1731325205758/added.\u001b[0m\n",
      "\u001b[32m2024-11-12 14:29:20.667\u001b[0m | \u001b[34m\u001b[1mDEBUG   \u001b[0m | \u001b[36m__main__\u001b[0m:\u001b[36mcompose_insert_query_form_graph\u001b[0m:\u001b[36m26\u001b[0m - \u001b[34m\u001b[1mReturn query with 560 triple(s) and name timestamp:1731325205758/removed.\u001b[0m\n",
      "\u001b[32m2024-11-12 14:29:26.564\u001b[0m | \u001b[34m\u001b[1mDEBUG   \u001b[0m | \u001b[36m__main__\u001b[0m:\u001b[36mcompose_insert_query_form_graph\u001b[0m:\u001b[36m26\u001b[0m - \u001b[34m\u001b[1mReturn query with 9144 triple(s) and name timestamp:1731325205758/temp.\u001b[0m\n"
     ]
    },
    {
     "name": "stdout",
     "output_type": "stream",
     "text": [
      "timestamp:1731325205758/temp\n"
     ]
    },
    {
     "name": "stderr",
     "output_type": "stream",
     "text": [
      "\u001b[32m2024-11-12 14:29:36.726\u001b[0m | \u001b[34m\u001b[1mDEBUG   \u001b[0m | \u001b[36m__main__\u001b[0m:\u001b[36mcompose_insert_query_form_graph\u001b[0m:\u001b[36m26\u001b[0m - \u001b[34m\u001b[1mReturn query with 5952 triple(s) and name timestamp:1731326409536/added.\u001b[0m\n",
      "\u001b[32m2024-11-12 14:29:37.293\u001b[0m | \u001b[34m\u001b[1mDEBUG   \u001b[0m | \u001b[36m__main__\u001b[0m:\u001b[36mcompose_insert_query_form_graph\u001b[0m:\u001b[36m26\u001b[0m - \u001b[34m\u001b[1mReturn query with 1145 triple(s) and name timestamp:1731326409536/removed.\u001b[0m\n",
      "\u001b[32m2024-11-12 14:29:46.933\u001b[0m | \u001b[34m\u001b[1mDEBUG   \u001b[0m | \u001b[36m__main__\u001b[0m:\u001b[36mcompose_insert_query_form_graph\u001b[0m:\u001b[36m26\u001b[0m - \u001b[34m\u001b[1mReturn query with 13951 triple(s) and name timestamp:1731326409536/temp.\u001b[0m\n"
     ]
    },
    {
     "name": "stdout",
     "output_type": "stream",
     "text": [
      "timestamp:1731326409536/temp\n"
     ]
    },
    {
     "name": "stderr",
     "output_type": "stream",
     "text": [
      "\u001b[32m2024-11-12 14:29:54.832\u001b[0m | \u001b[34m\u001b[1mDEBUG   \u001b[0m | \u001b[36m__main__\u001b[0m:\u001b[36mcompose_insert_query_form_graph\u001b[0m:\u001b[36m26\u001b[0m - \u001b[34m\u001b[1mReturn query with 1515 triple(s) and name timestamp:1731327007180/added.\u001b[0m\n",
      "\u001b[32m2024-11-12 14:29:58.006\u001b[0m | \u001b[34m\u001b[1mDEBUG   \u001b[0m | \u001b[36m__main__\u001b[0m:\u001b[36mcompose_insert_query_form_graph\u001b[0m:\u001b[36m26\u001b[0m - \u001b[34m\u001b[1mReturn query with 5626 triple(s) and name timestamp:1731327007180/removed.\u001b[0m\n",
      "\u001b[32m2024-11-12 14:30:07.001\u001b[0m | \u001b[34m\u001b[1mDEBUG   \u001b[0m | \u001b[36m__main__\u001b[0m:\u001b[36mcompose_insert_query_form_graph\u001b[0m:\u001b[36m26\u001b[0m - \u001b[34m\u001b[1mReturn query with 9840 triple(s) and name timestamp:1731327007180/temp.\u001b[0m\n"
     ]
    },
    {
     "name": "stdout",
     "output_type": "stream",
     "text": [
      "timestamp:1731327007180/temp\n"
     ]
    },
    {
     "name": "stderr",
     "output_type": "stream",
     "text": [
      "\u001b[32m2024-11-12 14:30:13.797\u001b[0m | \u001b[34m\u001b[1mDEBUG   \u001b[0m | \u001b[36m__main__\u001b[0m:\u001b[36mcompose_insert_query_form_graph\u001b[0m:\u001b[36m26\u001b[0m - \u001b[34m\u001b[1mReturn query with 596 triple(s) and name timestamp:1731327606052/added.\u001b[0m\n",
      "\u001b[32m2024-11-12 14:30:14.680\u001b[0m | \u001b[34m\u001b[1mDEBUG   \u001b[0m | \u001b[36m__main__\u001b[0m:\u001b[36mcompose_insert_query_form_graph\u001b[0m:\u001b[36m26\u001b[0m - \u001b[34m\u001b[1mReturn query with 1003 triple(s) and name timestamp:1731327606052/removed.\u001b[0m\n",
      "\u001b[32m2024-11-12 14:30:22.268\u001b[0m | \u001b[34m\u001b[1mDEBUG   \u001b[0m | \u001b[36m__main__\u001b[0m:\u001b[36mcompose_insert_query_form_graph\u001b[0m:\u001b[36m26\u001b[0m - \u001b[34m\u001b[1mReturn query with 9433 triple(s) and name timestamp:1731327606052/temp.\u001b[0m\n"
     ]
    },
    {
     "name": "stdout",
     "output_type": "stream",
     "text": [
      "timestamp:1731327606052/temp\n"
     ]
    },
    {
     "name": "stderr",
     "output_type": "stream",
     "text": [
      "\u001b[32m2024-11-12 14:30:28.524\u001b[0m | \u001b[34m\u001b[1mDEBUG   \u001b[0m | \u001b[36m__main__\u001b[0m:\u001b[36mcompose_insert_query_form_graph\u001b[0m:\u001b[36m26\u001b[0m - \u001b[34m\u001b[1mReturn query with 586 triple(s) and name timestamp:1731328206109/added.\u001b[0m\n",
      "\u001b[32m2024-11-12 14:30:29.237\u001b[0m | \u001b[34m\u001b[1mDEBUG   \u001b[0m | \u001b[36m__main__\u001b[0m:\u001b[36mcompose_insert_query_form_graph\u001b[0m:\u001b[36m26\u001b[0m - \u001b[34m\u001b[1mReturn query with 597 triple(s) and name timestamp:1731328206109/removed.\u001b[0m\n",
      "\u001b[32m2024-11-12 14:30:37.404\u001b[0m | \u001b[34m\u001b[1mDEBUG   \u001b[0m | \u001b[36m__main__\u001b[0m:\u001b[36mcompose_insert_query_form_graph\u001b[0m:\u001b[36m26\u001b[0m - \u001b[34m\u001b[1mReturn query with 9422 triple(s) and name timestamp:1731328206109/temp.\u001b[0m\n"
     ]
    },
    {
     "name": "stdout",
     "output_type": "stream",
     "text": [
      "timestamp:1731328206109/temp\n"
     ]
    },
    {
     "name": "stderr",
     "output_type": "stream",
     "text": [
      "\u001b[32m2024-11-12 14:30:43.954\u001b[0m | \u001b[34m\u001b[1mDEBUG   \u001b[0m | \u001b[36m__main__\u001b[0m:\u001b[36mcompose_insert_query_form_graph\u001b[0m:\u001b[36m26\u001b[0m - \u001b[34m\u001b[1mReturn query with 542 triple(s) and name timestamp:1731328806057/added.\u001b[0m\n",
      "\u001b[32m2024-11-12 14:30:44.422\u001b[0m | \u001b[34m\u001b[1mDEBUG   \u001b[0m | \u001b[36m__main__\u001b[0m:\u001b[36mcompose_insert_query_form_graph\u001b[0m:\u001b[36m26\u001b[0m - \u001b[34m\u001b[1mReturn query with 562 triple(s) and name timestamp:1731328806057/removed.\u001b[0m\n",
      "\u001b[32m2024-11-12 14:30:52.129\u001b[0m | \u001b[34m\u001b[1mDEBUG   \u001b[0m | \u001b[36m__main__\u001b[0m:\u001b[36mcompose_insert_query_form_graph\u001b[0m:\u001b[36m26\u001b[0m - \u001b[34m\u001b[1mReturn query with 9402 triple(s) and name timestamp:1731328806057/temp.\u001b[0m\n"
     ]
    },
    {
     "name": "stdout",
     "output_type": "stream",
     "text": [
      "timestamp:1731328806057/temp\n"
     ]
    },
    {
     "name": "stderr",
     "output_type": "stream",
     "text": [
      "\u001b[32m2024-11-12 14:30:58.004\u001b[0m | \u001b[34m\u001b[1mDEBUG   \u001b[0m | \u001b[36m__main__\u001b[0m:\u001b[36mcompose_insert_query_form_graph\u001b[0m:\u001b[36m26\u001b[0m - \u001b[34m\u001b[1mReturn query with 589 triple(s) and name timestamp:1731329406166/added.\u001b[0m\n",
      "\u001b[32m2024-11-12 14:30:58.399\u001b[0m | \u001b[34m\u001b[1mDEBUG   \u001b[0m | \u001b[36m__main__\u001b[0m:\u001b[36mcompose_insert_query_form_graph\u001b[0m:\u001b[36m26\u001b[0m - \u001b[34m\u001b[1mReturn query with 589 triple(s) and name timestamp:1731329406166/removed.\u001b[0m\n",
      "\u001b[32m2024-11-12 14:31:05.605\u001b[0m | \u001b[34m\u001b[1mDEBUG   \u001b[0m | \u001b[36m__main__\u001b[0m:\u001b[36mcompose_insert_query_form_graph\u001b[0m:\u001b[36m26\u001b[0m - \u001b[34m\u001b[1mReturn query with 9402 triple(s) and name timestamp:1731329406166/temp.\u001b[0m\n"
     ]
    },
    {
     "name": "stdout",
     "output_type": "stream",
     "text": [
      "timestamp:1731329406166/temp\n"
     ]
    },
    {
     "name": "stderr",
     "output_type": "stream",
     "text": [
      "\u001b[32m2024-11-12 14:31:11.636\u001b[0m | \u001b[34m\u001b[1mDEBUG   \u001b[0m | \u001b[36m__main__\u001b[0m:\u001b[36mcompose_insert_query_form_graph\u001b[0m:\u001b[36m26\u001b[0m - \u001b[34m\u001b[1mReturn query with 587 triple(s) and name timestamp:1731330006072/added.\u001b[0m\n",
      "\u001b[32m2024-11-12 14:31:11.927\u001b[0m | \u001b[34m\u001b[1mDEBUG   \u001b[0m | \u001b[36m__main__\u001b[0m:\u001b[36mcompose_insert_query_form_graph\u001b[0m:\u001b[36m26\u001b[0m - \u001b[34m\u001b[1mReturn query with 567 triple(s) and name timestamp:1731330006072/removed.\u001b[0m\n",
      "\u001b[32m2024-11-12 14:31:17.784\u001b[0m | \u001b[34m\u001b[1mDEBUG   \u001b[0m | \u001b[36m__main__\u001b[0m:\u001b[36mcompose_insert_query_form_graph\u001b[0m:\u001b[36m26\u001b[0m - \u001b[34m\u001b[1mReturn query with 9422 triple(s) and name timestamp:1731330006072/temp.\u001b[0m\n"
     ]
    },
    {
     "name": "stdout",
     "output_type": "stream",
     "text": [
      "timestamp:1731330006072/temp\n"
     ]
    },
    {
     "name": "stderr",
     "output_type": "stream",
     "text": [
      "\u001b[32m2024-11-12 14:31:23.706\u001b[0m | \u001b[34m\u001b[1mDEBUG   \u001b[0m | \u001b[36m__main__\u001b[0m:\u001b[36mcompose_insert_query_form_graph\u001b[0m:\u001b[36m26\u001b[0m - \u001b[34m\u001b[1mReturn query with 595 triple(s) and name timestamp:1731330606804/added.\u001b[0m\n",
      "\u001b[32m2024-11-12 14:31:24.223\u001b[0m | \u001b[34m\u001b[1mDEBUG   \u001b[0m | \u001b[36m__main__\u001b[0m:\u001b[36mcompose_insert_query_form_graph\u001b[0m:\u001b[36m26\u001b[0m - \u001b[34m\u001b[1mReturn query with 563 triple(s) and name timestamp:1731330606804/removed.\u001b[0m\n",
      "\u001b[32m2024-11-12 14:31:29.690\u001b[0m | \u001b[34m\u001b[1mDEBUG   \u001b[0m | \u001b[36m__main__\u001b[0m:\u001b[36mcompose_insert_query_form_graph\u001b[0m:\u001b[36m26\u001b[0m - \u001b[34m\u001b[1mReturn query with 9454 triple(s) and name timestamp:1731330606804/temp.\u001b[0m\n"
     ]
    },
    {
     "name": "stdout",
     "output_type": "stream",
     "text": [
      "timestamp:1731330606804/temp\n"
     ]
    },
    {
     "name": "stderr",
     "output_type": "stream",
     "text": [
      "\u001b[32m2024-11-12 14:31:37.031\u001b[0m | \u001b[34m\u001b[1mDEBUG   \u001b[0m | \u001b[36m__main__\u001b[0m:\u001b[36mcompose_insert_query_form_graph\u001b[0m:\u001b[36m26\u001b[0m - \u001b[34m\u001b[1mReturn query with 2760 triple(s) and name timestamp:1731331209345/added.\u001b[0m\n",
      "\u001b[32m2024-11-12 14:31:37.751\u001b[0m | \u001b[34m\u001b[1mDEBUG   \u001b[0m | \u001b[36m__main__\u001b[0m:\u001b[36mcompose_insert_query_form_graph\u001b[0m:\u001b[36m26\u001b[0m - \u001b[34m\u001b[1mReturn query with 1017 triple(s) and name timestamp:1731331209345/removed.\u001b[0m\n",
      "\u001b[32m2024-11-12 14:31:44.947\u001b[0m | \u001b[34m\u001b[1mDEBUG   \u001b[0m | \u001b[36m__main__\u001b[0m:\u001b[36mcompose_insert_query_form_graph\u001b[0m:\u001b[36m26\u001b[0m - \u001b[34m\u001b[1mReturn query with 11197 triple(s) and name timestamp:1731331209345/temp.\u001b[0m\n"
     ]
    },
    {
     "name": "stdout",
     "output_type": "stream",
     "text": [
      "timestamp:1731331209345/temp\n"
     ]
    },
    {
     "name": "stderr",
     "output_type": "stream",
     "text": [
      "\u001b[32m2024-11-12 14:31:52.133\u001b[0m | \u001b[34m\u001b[1mDEBUG   \u001b[0m | \u001b[36m__main__\u001b[0m:\u001b[36mcompose_insert_query_form_graph\u001b[0m:\u001b[36m26\u001b[0m - \u001b[34m\u001b[1mReturn query with 2185 triple(s) and name timestamp:1731331806990/added.\u001b[0m\n",
      "\u001b[32m2024-11-12 14:31:53.842\u001b[0m | \u001b[34m\u001b[1mDEBUG   \u001b[0m | \u001b[36m__main__\u001b[0m:\u001b[36mcompose_insert_query_form_graph\u001b[0m:\u001b[36m26\u001b[0m - \u001b[34m\u001b[1mReturn query with 2884 triple(s) and name timestamp:1731331806990/removed.\u001b[0m\n",
      "\u001b[32m2024-11-12 14:32:01.028\u001b[0m | \u001b[34m\u001b[1mDEBUG   \u001b[0m | \u001b[36m__main__\u001b[0m:\u001b[36mcompose_insert_query_form_graph\u001b[0m:\u001b[36m26\u001b[0m - \u001b[34m\u001b[1mReturn query with 10498 triple(s) and name timestamp:1731331806990/temp.\u001b[0m\n"
     ]
    },
    {
     "name": "stdout",
     "output_type": "stream",
     "text": [
      "timestamp:1731331806990/temp\n"
     ]
    },
    {
     "name": "stderr",
     "output_type": "stream",
     "text": [
      "\u001b[32m2024-11-12 14:32:07.846\u001b[0m | \u001b[34m\u001b[1mDEBUG   \u001b[0m | \u001b[36m__main__\u001b[0m:\u001b[36mcompose_insert_query_form_graph\u001b[0m:\u001b[36m26\u001b[0m - \u001b[34m\u001b[1mReturn query with 547 triple(s) and name timestamp:1731332406099/added.\u001b[0m\n",
      "\u001b[32m2024-11-12 14:32:08.561\u001b[0m | \u001b[34m\u001b[1mDEBUG   \u001b[0m | \u001b[36m__main__\u001b[0m:\u001b[36mcompose_insert_query_form_graph\u001b[0m:\u001b[36m26\u001b[0m - \u001b[34m\u001b[1mReturn query with 1390 triple(s) and name timestamp:1731332406099/removed.\u001b[0m\n",
      "\u001b[32m2024-11-12 14:32:14.641\u001b[0m | \u001b[34m\u001b[1mDEBUG   \u001b[0m | \u001b[36m__main__\u001b[0m:\u001b[36mcompose_insert_query_form_graph\u001b[0m:\u001b[36m26\u001b[0m - \u001b[34m\u001b[1mReturn query with 9655 triple(s) and name timestamp:1731332406099/temp.\u001b[0m\n"
     ]
    },
    {
     "name": "stdout",
     "output_type": "stream",
     "text": [
      "timestamp:1731332406099/temp\n"
     ]
    },
    {
     "name": "stderr",
     "output_type": "stream",
     "text": [
      "\u001b[32m2024-11-12 14:32:20.407\u001b[0m | \u001b[34m\u001b[1mDEBUG   \u001b[0m | \u001b[36m__main__\u001b[0m:\u001b[36mcompose_insert_query_form_graph\u001b[0m:\u001b[36m26\u001b[0m - \u001b[34m\u001b[1mReturn query with 588 triple(s) and name timestamp:1731333006076/added.\u001b[0m\n",
      "\u001b[32m2024-11-12 14:32:20.702\u001b[0m | \u001b[34m\u001b[1mDEBUG   \u001b[0m | \u001b[36m__main__\u001b[0m:\u001b[36mcompose_insert_query_form_graph\u001b[0m:\u001b[36m26\u001b[0m - \u001b[34m\u001b[1mReturn query with 612 triple(s) and name timestamp:1731333006076/removed.\u001b[0m\n",
      "\u001b[32m2024-11-12 14:32:26.653\u001b[0m | \u001b[34m\u001b[1mDEBUG   \u001b[0m | \u001b[36m__main__\u001b[0m:\u001b[36mcompose_insert_query_form_graph\u001b[0m:\u001b[36m26\u001b[0m - \u001b[34m\u001b[1mReturn query with 9631 triple(s) and name timestamp:1731333006076/temp.\u001b[0m\n"
     ]
    }
   ],
   "source": [
    "for i in range(1,30):\n",
    "    write_timestamp_to_database_new(timestamps_integration[i])"
   ]
  },
  {
   "cell_type": "code",
   "execution_count": 80,
   "metadata": {},
   "outputs": [
    {
     "name": "stdout",
     "output_type": "stream",
     "text": [
      "ts_rec 1731319206571\n"
     ]
    },
    {
     "data": {
      "text/plain": [
       "0"
      ]
     },
     "execution_count": 80,
     "metadata": {},
     "output_type": "execute_result"
    }
   ],
   "source": [
    "g_rec = reconstruct_graph(timestamps_integration[7])\n",
    "g_pure = read_graph_from_time_stamp(timestamps_integration[7], fuseki_integration)\n",
    "len(g_pure-g_rec)"
   ]
  },
  {
   "cell_type": "code",
   "execution_count": null,
   "metadata": {},
   "outputs": [],
   "source": []
  }
 ],
 "metadata": {
  "kernelspec": {
   "display_name": "Python 3",
   "language": "python",
   "name": "python3"
  },
  "language_info": {
   "codemirror_mode": {
    "name": "ipython",
    "version": 3
   },
   "file_extension": ".py",
   "mimetype": "text/x-python",
   "name": "python",
   "nbconvert_exporter": "python",
   "pygments_lexer": "ipython3",
   "version": "3.12.7"
  }
 },
 "nbformat": 4,
 "nbformat_minor": 2
}

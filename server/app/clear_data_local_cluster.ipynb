{
 "cells": [
  {
   "cell_type": "code",
   "execution_count": 8,
   "metadata": {},
   "outputs": [],
   "source": [
    "from FusekiCommunicator import FusekiCommunicatior\n",
    "import numpy as np\n",
    "import matplotlib.pyplot as plt\n",
    "from typing import Any, Dict\n",
    "from pydantic import BaseModel\n",
    "from rdflib import Graph, URIRef, Literal\n",
    "\n",
    "class ResponseHead(BaseModel):\n",
    "    vars: list[str]\n",
    "\n",
    "class ResponseResults(BaseModel):\n",
    "    bindings: list[Dict[str, Any]]\n",
    "\n",
    "class SearchResponse(BaseModel):\n",
    "    head: ResponseHead\n",
    "    results: ResponseResults\n",
    "    \n",
    "from starlette.responses import RedirectResponse\n",
    "from starlette.status import (\n",
    "    HTTP_303_SEE_OTHER,\n",
    "    HTTP_400_BAD_REQUEST,\n",
    "    HTTP_500_INTERNAL_SERVER_ERROR,\n",
    ")\n",
    "from fastapi import APIRouter, HTTPException\n",
    "from loguru import logger\n",
    "\n",
    "from datetime import datetime, timedelta\n"
   ]
  },
  {
   "cell_type": "code",
   "execution_count": 134,
   "metadata": {},
   "outputs": [
    {
     "name": "stdout",
     "output_type": "stream",
     "text": [
      "http://127.0.0.1:8000/slice\n"
     ]
    }
   ],
   "source": [
    "fuseki_jena_url = \"192.168.4.26\"\n",
    "fuseki_jena_port = \"30731\"\n",
    "fuseki_jena_dataset_name = \"slice\"\n",
    "fuseki = FusekiCommunicatior(\n",
    "    fuseki_jena_url, fuseki_jena_port, fuseki_jena_dataset_name\n",
    ")"
   ]
  },
  {
   "cell_type": "code",
   "execution_count": 9,
   "metadata": {},
   "outputs": [],
   "source": [
    "# def delete_old_graphs(fuseki):\n",
    "\n",
    "#     try:\n",
    "#         # Calculate the timestamp for 24 hours ago\n",
    "#         now = datetime.utcnow()\n",
    "#         cutoff_time = now - timedelta(days=1)\n",
    "#         cutoff_timestamp = cutoff_time.strftime(\"%Y-%m-%dT%H:%M:%SZ\")\n",
    "\n",
    "#         # SPARQL update query to delete named graphs older than cutoff_timestamp\n",
    "#         delete_query = f\"\"\"\n",
    "#             PREFIX xsd: <http://www.w3.org/2001/XMLSchema#>\n",
    "#             DELETE WHERE {{\n",
    "#               GRAPH ?g {{\n",
    "#                 ?s ?p ?o .\n",
    "#               }}\n",
    "#               FILTER (str(?g) < \"{cutoff_timestamp}\"^^xsd:dateTime)\n",
    "#             }}\n",
    "#             \"\"\"\n",
    "\n",
    "#         # Execute the SPARQL update\n",
    "#         fuseki.query()\n",
    "\n",
    "#         print(f\"Deleted graphs older than {cutoff_timestamp}\")\n",
    "\n",
    "#     except Exception as e:\n",
    "#         print(f\"An error occurred during cleanup: {e}\")"
   ]
  },
  {
   "cell_type": "code",
   "execution_count": 28,
   "metadata": {},
   "outputs": [],
   "source": [
    "import requests\n",
    "from datetime import datetime, timedelta\n",
    "\n",
    "\n",
    "def delete_old_graphs(fuseki, cutoff_timestamp):\n",
    "    \"\"\"\n",
    "    Deletes graphs in Apache Jena with IDs (graph URIs) before the given Unix timestamp.\n",
    "\n",
    "    Args:\n",
    "    - base_url: The base URL of the Apache Jena server (e.g., 'http://localhost:3030/dataset').\n",
    "    - cutoff_timestamp: The Unix timestamp before which graphs should be deleted.\n",
    "    \"\"\"\n",
    "    # Construct the SPARQL update query\n",
    "    \n",
    "    sparql_update_query = f\"\"\"\n",
    "    DELETE WHERE {{\n",
    "        GRAPH ?g {{\n",
    "            ?s ?p ?o\n",
    "        }}\n",
    "        FILTER (xsd:integer(STRAFTER(STR(?g), 'timestamp:')) < {cutoff_timestamp})\n",
    "    }}\n",
    "    \"\"\"\n",
    "    \n",
    "\n",
    "\n",
    "    print(sparql_update_query)\n",
    "    fuseki.update_query(sparql_update_query)\n",
    "\n",
    "\n",
    "\n"
   ]
  },
  {
   "cell_type": "code",
   "execution_count": 29,
   "metadata": {},
   "outputs": [
    {
     "name": "stdout",
     "output_type": "stream",
     "text": [
      "\n",
      "    DELETE WHERE {\n",
      "        GRAPH ?g {\n",
      "            ?s ?p ?o\n",
      "        }\n",
      "        FILTER (xsd:integer(STRAFTER(STR(?g), 'timestamp:')) < 1730911494)\n",
      "    }\n",
      "    \n",
      "QueryBadFormed: A bad request has been sent to the endpoint: probably the SPARQL query is badly formed. \n",
      "\n",
      "Response:\n",
      "b'Encountered \" \"filter\" \"FILTER \"\" at line 6, column 9.\\nWas expecting one of:\\n    <IRIref> ...\\n    <PNAME_NS> ...\\n    <PNAME_LN> ...\\n    <BLANK_NODE_LABEL> ...\\n    <VAR1> ...\\n    <VAR2> ...\\n    \"graph\" ...\\n    \"true\" ...\\n    \"false\" ...\\n    <INTEGER> ...\\n    <DECIMAL> ...\\n    <DOUBLE> ...\\n    <INTEGER_POSITIVE> ...\\n    <DECIMAL_POSITIVE> ...\\n    <DOUBLE_POSITIVE> ...\\n    <INTEGER_NEGATIVE> ...\\n    <DECIMAL_NEGATIVE> ...\\n    <DOUBLE_NEGATIVE> ...\\n    <STRING_LITERAL1> ...\\n    <STRING_LITERAL2> ...\\n    <STRING_LITERAL_LONG1> ...\\n    <STRING_LITERAL_LONG2> ...\\n    \"(\" ...\\n    <NIL> ...\\n    \"}\" ...\\n    \"[\" ...\\n    <ANON> ...\\n    \".\" ...\\n    \"<<\" ...\\n    \\n'\n"
     ]
    }
   ],
   "source": [
    "cutoff_time = datetime.now() - timedelta(days=1)\n",
    "cutoff_timestamp = int(cutoff_time.timestamp())\n",
    "delete_old_graphs(fuseki, cutoff_timestamp)"
   ]
  },
  {
   "cell_type": "code",
   "execution_count": 16,
   "metadata": {},
   "outputs": [
    {
     "data": {
      "text/plain": [
       "1730911175"
      ]
     },
     "execution_count": 16,
     "metadata": {},
     "output_type": "execute_result"
    }
   ],
   "source": [
    "cutoff_timestamp"
   ]
  },
  {
   "cell_type": "code",
   "execution_count": null,
   "metadata": {},
   "outputs": [],
   "source": [
    "\n",
    "# if __name__ == \"__main__\":\n",
    "#     # Base URL of the Apache Jena server\n",
    "#     base_url = 'http://localhost:3030/dataset'\n",
    "\n",
    "#     # Define the cutoff time (e.g., 1 day ago)\n",
    "#     cutoff_time = datetime.now() - timedelta(days=1)\n",
    "#     cutoff_timestamp = int(cutoff_time.timestamp())\n",
    "\n",
    "#     # Delete old graphs\n",
    "#     delete_old_graphs(base_url, cutoff_timestamp)"
   ]
  },
  {
   "cell_type": "code",
   "execution_count": 34,
   "metadata": {},
   "outputs": [
    {
     "data": {
      "text/plain": [
       "<SPARQLWrapper.Wrapper.QueryResult at 0x147752fb320>"
      ]
     },
     "execution_count": 34,
     "metadata": {},
     "output_type": "execute_result"
    }
   ],
   "source": [
    "# print(cutoff_timestamp)\n",
    "\n",
    "# sparql_update_query = f\"\"\"\n",
    "# DELETE WHERE {{\n",
    "#     GRAPH ?g {{\n",
    "#         ?s ?p ?o\n",
    "#     }}\n",
    "#     FILTER (xsd:integer(STRAFTER(STR(?g), 'timestamp:')) < {cutoff_timestamp})\n",
    "# }}\n",
    "# \"\"\"\n",
    "\n",
    "fuseki.update_query(\"DROP GRAPH <timestamp:1730279403441>\")\n"
   ]
  },
  {
   "cell_type": "code",
   "execution_count": 37,
   "metadata": {},
   "outputs": [],
   "source": [
    "def read_file(fname):\n",
    "    with open(fname, \"r\") as f:\n",
    "        return f.read()\n",
    "\n",
    "def perform_query(query, fuseki):\n",
    "    valid, msg = fuseki.validate_sparql(query, \"query\")\n",
    "    if valid:\n",
    "        result = fuseki.read_query(query)\n",
    "        bindings = []\n",
    "        for item in result.bindings:\n",
    "            new_item: Dict[str, Any] = {}\n",
    "            for key in item:\n",
    "                new_item[key] = {}\n",
    "                for property in item[key].__dict__:\n",
    "                    if (\n",
    "                        property != \"variable\"\n",
    "                        and item[key].__dict__[property] is not None\n",
    "                    ):\n",
    "                        new_item[key][property] = item[key].__dict__[property]\n",
    "                        if property == \"lang\":\n",
    "                            new_item[key][\"xml:lang\"] = new_item[key].pop(\"lang\")\n",
    "            bindings.append(new_item)\n",
    "        return SearchResponse(\n",
    "                head=ResponseHead(vars=result.head[\"vars\"]),\n",
    "                results=ResponseResults(bindings=bindings),\n",
    "            )\n",
    "    print(msg)\n",
    "    return None"
   ]
  },
  {
   "cell_type": "code",
   "execution_count": 135,
   "metadata": {},
   "outputs": [
    {
     "name": "stdout",
     "output_type": "stream",
     "text": [
      "EndPointNotFound: It was not possible to connect to the given endpoint: check it is correct. \n",
      "\n",
      "Response:\n",
      "b'{\"detail\":\"Not Found\"}'\n"
     ]
    },
    {
     "ename": "AttributeError",
     "evalue": "'NoneType' object has no attribute 'bindings'",
     "output_type": "error",
     "traceback": [
      "\u001b[1;31m---------------------------------------------------------------------------\u001b[0m",
      "\u001b[1;31mAttributeError\u001b[0m                            Traceback (most recent call last)",
      "Cell \u001b[1;32mIn[135], line 4\u001b[0m\n\u001b[0;32m      1\u001b[0m timestamps \u001b[38;5;241m=\u001b[39m np\u001b[38;5;241m.\u001b[39marray(\n\u001b[0;32m      2\u001b[0m     [\n\u001b[0;32m      3\u001b[0m         timestamp[\u001b[38;5;124m\"\u001b[39m\u001b[38;5;124mgraphURI\u001b[39m\u001b[38;5;124m\"\u001b[39m][\u001b[38;5;124m\"\u001b[39m\u001b[38;5;124mvalue\u001b[39m\u001b[38;5;124m\"\u001b[39m]\n\u001b[1;32m----> 4\u001b[0m         \u001b[38;5;28;01mfor\u001b[39;00m timestamp \u001b[38;5;129;01min\u001b[39;00m \u001b[43mperform_query\u001b[49m\u001b[43m(\u001b[49m\n\u001b[0;32m      5\u001b[0m \u001b[43m            \u001b[49m\u001b[43mread_file\u001b[49m\u001b[43m(\u001b[49m\u001b[38;5;124;43m\"\u001b[39;49m\u001b[38;5;124;43mquery_timestamps.txt\u001b[39;49m\u001b[38;5;124;43m\"\u001b[39;49m\u001b[43m)\u001b[49m\u001b[43m,\u001b[49m\u001b[43m \u001b[49m\u001b[43mfuseki\u001b[49m\n\u001b[0;32m      6\u001b[0m \u001b[43m        \u001b[49m\u001b[43m)\u001b[49m\u001b[38;5;241m.\u001b[39mresults\u001b[38;5;241m.\u001b[39mbindings\n\u001b[0;32m      7\u001b[0m     ]\n\u001b[0;32m      8\u001b[0m )\n\u001b[0;32m     10\u001b[0m \u001b[38;5;28;01mfor\u001b[39;00m ts \u001b[38;5;129;01min\u001b[39;00m timestamps:\n\u001b[0;32m     11\u001b[0m     \u001b[38;5;28mprint\u001b[39m(ts)\n",
      "Cell \u001b[1;32mIn[37], line 10\u001b[0m, in \u001b[0;36mperform_query\u001b[1;34m(query, fuseki)\u001b[0m\n\u001b[0;32m      8\u001b[0m result \u001b[38;5;241m=\u001b[39m fuseki\u001b[38;5;241m.\u001b[39mread_query(query)\n\u001b[0;32m      9\u001b[0m bindings \u001b[38;5;241m=\u001b[39m []\n\u001b[1;32m---> 10\u001b[0m \u001b[38;5;28;01mfor\u001b[39;00m item \u001b[38;5;129;01min\u001b[39;00m \u001b[43mresult\u001b[49m\u001b[38;5;241;43m.\u001b[39;49m\u001b[43mbindings\u001b[49m:\n\u001b[0;32m     11\u001b[0m     new_item: Dict[\u001b[38;5;28mstr\u001b[39m, Any] \u001b[38;5;241m=\u001b[39m {}\n\u001b[0;32m     12\u001b[0m     \u001b[38;5;28;01mfor\u001b[39;00m key \u001b[38;5;129;01min\u001b[39;00m item:\n",
      "\u001b[1;31mAttributeError\u001b[0m: 'NoneType' object has no attribute 'bindings'"
     ]
    }
   ],
   "source": [
    "timestamps = np.array(\n",
    "    [\n",
    "        timestamp[\"graphURI\"][\"value\"]\n",
    "        for timestamp in perform_query(\n",
    "            read_file(\"query_timestamps.txt\"), fuseki\n",
    "        ).results.bindings\n",
    "    ]\n",
    ")\n",
    "\n",
    "for ts in timestamps:\n",
    "    print(ts)"
   ]
  },
  {
   "cell_type": "code",
   "execution_count": 64,
   "metadata": {},
   "outputs": [],
   "source": [
    "def drop_old_graphs(fuseki):\n",
    "    timestamps = np.array(\n",
    "        [\n",
    "            timestamp[\"graphURI\"][\"value\"]\n",
    "            for timestamp in perform_query(\n",
    "                read_file(\"query_timestamps.txt\"), fuseki\n",
    "            ).results.bindings\n",
    "        ]\n",
    "    )\n",
    "    print(f\"{timestamps.size} timestamps retreived.\")\n",
    "    # Define the cutoff time (e.g., 1 day ago)\n",
    "    cutoff_time = datetime.now() - timedelta(days=1)\n",
    "    cutoff_timestamp = int(cutoff_time.timestamp())*1000\n",
    "\n",
    "    for i in range(len(timestamps)):\n",
    "        ts = int(timestamps[i].split(':')[-1])\n",
    "        \n",
    "        if ts<cutoff_timestamp:\n",
    "            fuseki.update_query(\"DROP GRAPH <\" + timestamps[i]+'>')\n",
    "            print(\"dropped \"+timestamps[i])\n"
   ]
  },
  {
   "cell_type": "code",
   "execution_count": 66,
   "metadata": {},
   "outputs": [
    {
     "name": "stdout",
     "output_type": "stream",
     "text": [
      "3 timestamps retreived.\n"
     ]
    }
   ],
   "source": [
    "drop_old_graphs(fuseki)"
   ]
  },
  {
   "cell_type": "code",
   "execution_count": 107,
   "metadata": {},
   "outputs": [],
   "source": [
    "from urllib.parse import urlencode\n",
    "\n",
    "import requests\n",
    "def local_query(query: str | None = None) -> Any:\n",
    "    \"\"\"\n",
    "    Queries Local Metadata service\n",
    "    \"\"\"\n",
    "    \n",
    "    if query == None:\n",
    "        query=query\n",
    "\n",
    "    params = {\"query\": query}\n",
    "    encoded_query = urlencode(params)\n",
    "    base_url = \"http://192.168.4.26:32732/api/v0/graph\"\n",
    "    full_url = f\"{base_url}?{encoded_query}\"\n",
    "\n",
    "    print(\"full_url =\", full_url)\n",
    "\n",
    "    response = requests.get(full_url)\n",
    "\n",
    "    return response.json()"
   ]
  },
  {
   "cell_type": "code",
   "execution_count": 125,
   "metadata": {},
   "outputs": [],
   "source": [
    "def local_update_query(query: str | None = None) -> Any:\n",
    "    \"\"\"\n",
    "    Queries Local Metadata service\n",
    "    \"\"\"\n",
    "    \n",
    "    if query == None:\n",
    "        query=query\n",
    "\n",
    "    params = {\"body\": query}\n",
    "    encoded_query = urlencode(params)\n",
    "    base_url = \"http://192.168.4.26:32732/api/v0/graph\"\n",
    "    full_url = f\"{base_url}?{encoded_query}\"\n",
    "\n",
    "    print(\"full_url =\", full_url)\n",
    "\n",
    "    response = requests.patch(full_url)\n",
    "\n",
    "    return response.json()"
   ]
  },
  {
   "cell_type": "code",
   "execution_count": 110,
   "metadata": {},
   "outputs": [
    {
     "name": "stdout",
     "output_type": "stream",
     "text": [
      "PREFIX xsd: <http://www.w3.org/2001/XMLSchema#>\n",
      "\n",
      "SELECT ?graphURI WHERE {\n",
      "  GRAPH ?graphURI {}\n",
      "  FILTER regex(str(?graphURI), \"^timestamp:\")\n",
      "}\n",
      "ORDER BY ASC(xsd:integer(replace(str(?graphURI), \"^timestamp:\", \"\")))\n",
      "# LIMIT 100\n",
      "\n"
     ]
    }
   ],
   "source": [
    "query=read_file(\"query_timestamps.txt\")\n",
    "print(query)"
   ]
  },
  {
   "cell_type": "code",
   "execution_count": 112,
   "metadata": {},
   "outputs": [
    {
     "name": "stdout",
     "output_type": "stream",
     "text": [
      "full_url = http://192.168.4.26:32732/api/v0/graph?query=PREFIX+xsd%3A+%3Chttp%3A%2F%2Fwww.w3.org%2F2001%2FXMLSchema%23%3E%0A%0ASELECT+%3FgraphURI+WHERE+%7B%0A++GRAPH+%3FgraphURI+%7B%7D%0A++FILTER+regex%28str%28%3FgraphURI%29%2C+%22%5Etimestamp%3A%22%29%0A%7D%0AORDER+BY+ASC%28xsd%3Ainteger%28replace%28str%28%3FgraphURI%29%2C+%22%5Etimestamp%3A%22%2C+%22%22%29%29%29%0A%23+LIMIT+100%0A\n"
     ]
    },
    {
     "data": {
      "text/plain": [
       "{'head': {'vars': ['graphURI']},\n",
       " 'results': {'bindings': [{'graphURI': {'value': 'timestamp:1730989204949',\n",
       "     'type': 'uri'}},\n",
       "   {'graphURI': {'value': 'timestamp:1731019205919', 'type': 'uri'}},\n",
       "   {'graphURI': {'value': 'timestamp:1731049205972', 'type': 'uri'}}]}}"
      ]
     },
     "execution_count": 112,
     "metadata": {},
     "output_type": "execute_result"
    }
   ],
   "source": [
    "local_query(query)"
   ]
  },
  {
   "cell_type": "code",
   "execution_count": 113,
   "metadata": {},
   "outputs": [
    {
     "name": "stdout",
     "output_type": "stream",
     "text": [
      "full_url = http://192.168.4.26:32732/api/v0/graph?query=PREFIX+xsd%3A+%3Chttp%3A%2F%2Fwww.w3.org%2F2001%2FXMLSchema%23%3E%0A%0ASELECT+%3FgraphURI+WHERE+%7B%0A++GRAPH+%3FgraphURI+%7B%7D%0A++FILTER+regex%28str%28%3FgraphURI%29%2C+%22%5Etimestamp%3A%22%29%0A%7D%0AORDER+BY+ASC%28xsd%3Ainteger%28replace%28str%28%3FgraphURI%29%2C+%22%5Etimestamp%3A%22%2C+%22%22%29%29%29%0A%23+LIMIT+100%0A\n"
     ]
    }
   ],
   "source": [
    "timestamps = np.array(\n",
    "    [\n",
    "        timestamp[\"graphURI\"][\"value\"]\n",
    "        for timestamp in local_query(\n",
    "            read_file(\"query_timestamps.txt\")\n",
    "        )['results']['bindings']\n",
    "    ]\n",
    ")"
   ]
  },
  {
   "cell_type": "code",
   "execution_count": 114,
   "metadata": {},
   "outputs": [
    {
     "data": {
      "text/plain": [
       "3"
      ]
     },
     "execution_count": 114,
     "metadata": {},
     "output_type": "execute_result"
    }
   ],
   "source": [
    "len(timestamps)"
   ]
  },
  {
   "cell_type": "code",
   "execution_count": 126,
   "metadata": {},
   "outputs": [],
   "source": [
    "def clear_data():\n",
    "\n",
    "    timestamps = np.array(\n",
    "        [\n",
    "            timestamp[\"graphURI\"][\"value\"]\n",
    "            for timestamp in local_query(\n",
    "                read_file(\"query_timestamps.txt\")\n",
    "            )['results']['bindings']\n",
    "        ]\n",
    "    )\n",
    "    \n",
    "    cutoff_time = datetime.now() - timedelta(days=0)\n",
    "    cutoff_timestamp = int(cutoff_time.timestamp())*1000\n",
    "\n",
    "    for i in range(len(timestamps)):\n",
    "        ts = int(timestamps[i].split(':')[-1])\n",
    "        \n",
    "        if ts<cutoff_timestamp:\n",
    "            res=local_update_query(\"DROP GRAPH <\" + timestamps[i]+'>')\n",
    "            print(res)\n",
    "            # print(\"dropped \"+timestamps[i])"
   ]
  },
  {
   "cell_type": "code",
   "execution_count": 127,
   "metadata": {},
   "outputs": [
    {
     "name": "stdout",
     "output_type": "stream",
     "text": [
      "full_url = http://192.168.4.26:32732/api/v0/graph?query=PREFIX+xsd%3A+%3Chttp%3A%2F%2Fwww.w3.org%2F2001%2FXMLSchema%23%3E%0A%0ASELECT+%3FgraphURI+WHERE+%7B%0A++GRAPH+%3FgraphURI+%7B%7D%0A++FILTER+regex%28str%28%3FgraphURI%29%2C+%22%5Etimestamp%3A%22%29%0A%7D%0AORDER+BY+ASC%28xsd%3Ainteger%28replace%28str%28%3FgraphURI%29%2C+%22%5Etimestamp%3A%22%2C+%22%22%29%29%29%0A%23+LIMIT+100%0A\n",
      "full_url = http://192.168.4.26:32732/api/v0/graph?body=DROP+GRAPH+%3Ctimestamp%3A1730989204949%3E\n",
      "{'detail': [{'type': 'missing', 'loc': ['body'], 'msg': 'Field required', 'input': None, 'url': 'https://errors.pydantic.dev/2.6/v/missing'}]}\n",
      "full_url = http://192.168.4.26:32732/api/v0/graph?body=DROP+GRAPH+%3Ctimestamp%3A1731019205919%3E\n",
      "{'detail': [{'type': 'missing', 'loc': ['body'], 'msg': 'Field required', 'input': None, 'url': 'https://errors.pydantic.dev/2.6/v/missing'}]}\n",
      "full_url = http://192.168.4.26:32732/api/v0/graph?body=DROP+GRAPH+%3Ctimestamp%3A1731049205972%3E\n",
      "{'detail': [{'type': 'missing', 'loc': ['body'], 'msg': 'Field required', 'input': None, 'url': 'https://errors.pydantic.dev/2.6/v/missing'}]}\n"
     ]
    }
   ],
   "source": [
    "clear_data()"
   ]
  },
  {
   "cell_type": "code",
   "execution_count": 132,
   "metadata": {},
   "outputs": [],
   "source": [
    "sparql_endpoint = \"http://192.168.4.26:32732/api/v0/graph\"\n",
    "\n",
    "sparql_update_query = \"DROP GRAPH <\" + timestamps[0]+\">\"\n",
    "\n",
    "response = requests.patch(sparql_endpoint, data={'update': sparql_update_query},\n",
    "                             headers={'Content-Type': 'application/x-www-form-urlencoded'})"
   ]
  },
  {
   "cell_type": "code",
   "execution_count": 133,
   "metadata": {},
   "outputs": [
    {
     "data": {
      "text/plain": [
       "<Response [422]>"
      ]
     },
     "execution_count": 133,
     "metadata": {},
     "output_type": "execute_result"
    }
   ],
   "source": [
    "response"
   ]
  },
  {
   "cell_type": "code",
   "execution_count": 128,
   "metadata": {},
   "outputs": [],
   "source": [
    "headers = {'Content-Type': 'application/x-www-form-urlencoded'}\n",
    "response = requests.post(sparql_endpoint, data=sparql_update_query, headers=headers)"
   ]
  },
  {
   "cell_type": "code",
   "execution_count": 129,
   "metadata": {},
   "outputs": [
    {
     "data": {
      "text/plain": [
       "<Response [405]>"
      ]
     },
     "execution_count": 129,
     "metadata": {},
     "output_type": "execute_result"
    }
   ],
   "source": [
    "response"
   ]
  },
  {
   "cell_type": "code",
   "execution_count": 138,
   "metadata": {},
   "outputs": [],
   "source": [
    "from urllib.parse import urlencode\n",
    "\n",
    "import requests\n",
    "def super_local_query(query: str | None = None) -> Any:\n",
    "    \"\"\"\n",
    "    Queries Local Metadata service\n",
    "    \"\"\"\n",
    "    \n",
    "    if query == None:\n",
    "        query=query\n",
    "\n",
    "    params = {\"query\": query}\n",
    "    encoded_query = urlencode(params)\n",
    "    base_url = \"http://127.0.0.1:8000/api/v0/graph\"\n",
    "    full_url = f\"{base_url}?{encoded_query}\"\n",
    "\n",
    "    print(\"full_url =\", full_url)\n",
    "\n",
    "    response = requests.get(full_url)\n",
    "\n",
    "    return response.json()"
   ]
  },
  {
   "cell_type": "code",
   "execution_count": 139,
   "metadata": {},
   "outputs": [
    {
     "name": "stdout",
     "output_type": "stream",
     "text": [
      "full_url = http://127.0.0.1:8000/api/v0/graph?query=PREFIX+xsd%3A+%3Chttp%3A%2F%2Fwww.w3.org%2F2001%2FXMLSchema%23%3E%0A%0ASELECT+%3FgraphURI+WHERE+%7B%0A++GRAPH+%3FgraphURI+%7B%7D%0A++FILTER+regex%28str%28%3FgraphURI%29%2C+%22%5Etimestamp%3A%22%29%0A%7D%0AORDER+BY+ASC%28xsd%3Ainteger%28replace%28str%28%3FgraphURI%29%2C+%22%5Etimestamp%3A%22%2C+%22%22%29%29%29%0A%23+LIMIT+100%0A\n"
     ]
    }
   ],
   "source": [
    "timestamps = np.array(\n",
    "    [\n",
    "        timestamp[\"graphURI\"][\"value\"]\n",
    "        for timestamp in super_local_query(\n",
    "            read_file(\"query_timestamps.txt\")\n",
    "        )['results']['bindings']\n",
    "    ]\n",
    ")"
   ]
  },
  {
   "cell_type": "code",
   "execution_count": 140,
   "metadata": {},
   "outputs": [
    {
     "name": "stdout",
     "output_type": "stream",
     "text": [
      "['timestamp:1730989204949' 'timestamp:1731019205919'\n",
      " 'timestamp:1731049205972']\n"
     ]
    }
   ],
   "source": [
    "print(timestamps)"
   ]
  },
  {
   "cell_type": "code",
   "execution_count": null,
   "metadata": {},
   "outputs": [],
   "source": []
  }
 ],
 "metadata": {
  "language_info": {
   "name": "python"
  }
 },
 "nbformat": 4,
 "nbformat_minor": 2
}

{
 "cells": [
  {
   "cell_type": "code",
   "execution_count": 104,
   "metadata": {},
   "outputs": [],
   "source": [
    "from FusekiCommunicator import FusekiCommunicatior\n",
    "import numpy as np\n",
    "import matplotlib.pyplot as plt\n",
    "from typing import Any, Dict\n",
    "from pydantic import BaseModel\n",
    "from rdflib import Graph, URIRef, Literal, BNode\n",
    "\n",
    "class ResponseHead(BaseModel):\n",
    "    vars: list[str]\n",
    "\n",
    "class ResponseResults(BaseModel):\n",
    "    bindings: list[Dict[str, Any]]\n",
    "\n",
    "class SearchResponse(BaseModel):\n",
    "    head: ResponseHead\n",
    "    results: ResponseResults\n",
    "    \n",
    "from starlette.responses import RedirectResponse\n",
    "from starlette.status import (\n",
    "    HTTP_303_SEE_OTHER,\n",
    "    HTTP_400_BAD_REQUEST,\n",
    "    HTTP_500_INTERNAL_SERVER_ERROR,\n",
    ")\n",
    "from fastapi import APIRouter, HTTPException\n",
    "from loguru import logger\n",
    "\n",
    "import datetime"
   ]
  },
  {
   "cell_type": "code",
   "execution_count": 105,
   "metadata": {},
   "outputs": [],
   "source": [
    "triple_type = {\n",
    "    'uri': URIRef,\n",
    "    'literal': Literal,\n",
    "    'bnode': BNode\n",
    "}"
   ]
  },
  {
   "cell_type": "code",
   "execution_count": 30,
   "metadata": {},
   "outputs": [
    {
     "name": "stdout",
     "output_type": "stream",
     "text": [
      "http://192.168.4.26:30731/slice\n"
     ]
    }
   ],
   "source": [
    "fuseki_jena_url = \"192.168.4.26\"\n",
    "fuseki_jena_port = \"30731\"\n",
    "fuseki_jena_dataset_name = \"slice\"\n",
    "fuseki = FusekiCommunicatior(\n",
    "    fuseki_jena_url, fuseki_jena_port, fuseki_jena_dataset_name\n",
    ")"
   ]
  },
  {
   "cell_type": "code",
   "execution_count": 4,
   "metadata": {},
   "outputs": [],
   "source": [
    "def read_file(fname):\n",
    "    with open(fname, \"r\") as f:\n",
    "        return f.read()\n",
    "\n",
    "def perform_query(query):\n",
    "    valid, msg = fuseki.validate_sparql(query, \"query\")\n",
    "    if valid:\n",
    "        result = fuseki.read_query(query)\n",
    "        bindings = []\n",
    "        for item in result.bindings:\n",
    "            new_item: Dict[str, Any] = {}\n",
    "            for key in item:\n",
    "                new_item[key] = {}\n",
    "                for property in item[key].__dict__:\n",
    "                    if (\n",
    "                        property != \"variable\"\n",
    "                        and item[key].__dict__[property] is not None\n",
    "                    ):\n",
    "                        new_item[key][property] = item[key].__dict__[property]\n",
    "                        if property == \"lang\":\n",
    "                            new_item[key][\"xml:lang\"] = new_item[key].pop(\"lang\")\n",
    "            bindings.append(new_item)\n",
    "        return SearchResponse(\n",
    "                head=ResponseHead(vars=result.head[\"vars\"]),\n",
    "                results=ResponseResults(bindings=bindings),\n",
    "            )\n",
    "    print(msg)\n",
    "    return None"
   ]
  },
  {
   "cell_type": "code",
   "execution_count": 5,
   "metadata": {},
   "outputs": [
    {
     "name": "stdout",
     "output_type": "stream",
     "text": [
      "http://jena-fuseki.integration/slice\n"
     ]
    }
   ],
   "source": [
    "fuseki_jena_url_integration = \"jena-fuseki.integration\"\n",
    "fuseki_jena_port_integration = None\n",
    "fuseki_jena_dataset_name_integration = \"slice\"\n",
    "fuseki_integration = FusekiCommunicatior(\n",
    "    fuseki_jena_url_integration, fuseki_jena_port_integration, fuseki_jena_dataset_name_integration\n",
    ")"
   ]
  },
  {
   "cell_type": "code",
   "execution_count": 6,
   "metadata": {},
   "outputs": [],
   "source": [
    "def read_file(fname):\n",
    "    with open(fname, \"r\") as f:\n",
    "        return f.read()\n",
    "\n",
    "def perform_query(query, fuseki):\n",
    "    valid, msg = fuseki.validate_sparql(query, \"query\")\n",
    "    if valid:\n",
    "        result = fuseki.read_query(query)\n",
    "        bindings = []\n",
    "        for item in result.bindings:\n",
    "            new_item: Dict[str, Any] = {}\n",
    "            for key in item:\n",
    "                new_item[key] = {}\n",
    "                for property in item[key].__dict__:\n",
    "                    if (\n",
    "                        property != \"variable\"\n",
    "                        and item[key].__dict__[property] is not None\n",
    "                    ):\n",
    "                        new_item[key][property] = item[key].__dict__[property]\n",
    "                        if property == \"lang\":\n",
    "                            new_item[key][\"xml:lang\"] = new_item[key].pop(\"lang\")\n",
    "            bindings.append(new_item)\n",
    "        return SearchResponse(\n",
    "                head=ResponseHead(vars=result.head[\"vars\"]),\n",
    "                results=ResponseResults(bindings=bindings),\n",
    "            )\n",
    "    print(msg)\n",
    "    return None"
   ]
  },
  {
   "cell_type": "code",
   "execution_count": 120,
   "metadata": {},
   "outputs": [
    {
     "name": "stdout",
     "output_type": "stream",
     "text": [
      "2319 timestamps retreived.\n",
      "Getting the size of the named graphs.\n",
      "100.00%\r"
     ]
    }
   ],
   "source": [
    "timestamps = np.array(\n",
    "    [\n",
    "        timestamp[\"graphURI\"][\"value\"]\n",
    "        for timestamp in perform_query(\n",
    "            read_file(\"query_timestamps.txt\"), fuseki_integration\n",
    "        ).results.bindings\n",
    "    ]\n",
    ")\n",
    "print(f\"{timestamps.size} timestamps retreived.\")\n",
    "\n",
    "print(\"Getting the size of the named graphs.\")\n",
    "graph_sizes = []\n",
    "for i in range(timestamps.size):\n",
    "    print(f\"{i/(timestamps.size-1)*100:.2f}%\", end=\"\\r\")\n",
    "    # graph_sizes.append(number_of_triples(timestamps[i]))\n",
    "graph_sizes = np.array(graph_sizes)"
   ]
  },
  {
   "cell_type": "code",
   "execution_count": 89,
   "metadata": {},
   "outputs": [],
   "source": [
    "milisec_in_24h = 24*60*60*1000"
   ]
  },
  {
   "cell_type": "code",
   "execution_count": 90,
   "metadata": {},
   "outputs": [
    {
     "data": {
      "text/plain": [
       "1730889006137"
      ]
     },
     "execution_count": 90,
     "metadata": {},
     "output_type": "execute_result"
    }
   ],
   "source": [
    "1730975406137-milisec_in_24h"
   ]
  },
  {
   "cell_type": "code",
   "execution_count": 97,
   "metadata": {},
   "outputs": [
    {
     "name": "stdout",
     "output_type": "stream",
     "text": [
      "Formatted time: 2024-11-07 11:30:06\n"
     ]
    }
   ],
   "source": [
    "unix_timestamp=int(timestamps[-1].split(':')[-1])/1000\n",
    "dt_object = datetime.datetime.fromtimestamp(unix_timestamp)\n",
    "formatted_time = dt_object.strftime('%Y-%m-%d %H:%M:%S')\n",
    "print(\"Formatted time:\", formatted_time)\n"
   ]
  },
  {
   "cell_type": "code",
   "execution_count": 111,
   "metadata": {},
   "outputs": [
    {
     "name": "stdout",
     "output_type": "stream",
     "text": [
      "2024-11-07 11:30:06.137000\n"
     ]
    }
   ],
   "source": [
    "print(dt_object)"
   ]
  },
  {
   "cell_type": "code",
   "execution_count": 94,
   "metadata": {},
   "outputs": [
    {
     "data": {
      "text/plain": [
       "1730975406137"
      ]
     },
     "execution_count": 94,
     "metadata": {},
     "output_type": "execute_result"
    }
   ],
   "source": [
    "unix_timestamp"
   ]
  },
  {
   "cell_type": "code",
   "execution_count": 93,
   "metadata": {},
   "outputs": [
    {
     "data": {
      "text/plain": [
       "1730975406137"
      ]
     },
     "execution_count": 93,
     "metadata": {},
     "output_type": "execute_result"
    }
   ],
   "source": [
    "unix_timestamp"
   ]
  },
  {
   "cell_type": "code",
   "execution_count": 87,
   "metadata": {},
   "outputs": [
    {
     "data": {
      "text/plain": [
       "np.str_('timestamp:1730975406137')"
      ]
     },
     "execution_count": 87,
     "metadata": {},
     "output_type": "execute_result"
    }
   ],
   "source": [
    "timestamps[-1]"
   ]
  },
  {
   "cell_type": "code",
   "execution_count": 9,
   "metadata": {},
   "outputs": [
    {
     "data": {
      "text/plain": [
       "1419"
      ]
     },
     "execution_count": 9,
     "metadata": {},
     "output_type": "execute_result"
    }
   ],
   "source": [
    "len(timestamps)"
   ]
  },
  {
   "cell_type": "code",
   "execution_count": 10,
   "metadata": {},
   "outputs": [
    {
     "data": {
      "text/plain": [
       "8950.04515"
      ]
     },
     "execution_count": 10,
     "metadata": {},
     "output_type": "execute_result"
    }
   ],
   "source": [
    "((int(timestamps[-1].split(':')[-1])-int(timestamps[0].split(':')[-1]))/1000)/60"
   ]
  },
  {
   "cell_type": "code",
   "execution_count": 11,
   "metadata": {},
   "outputs": [],
   "source": [
    "def tti(timestamp):\n",
    "    return int(timestamp.split(':')[-1])"
   ]
  },
  {
   "cell_type": "code",
   "execution_count": 12,
   "metadata": {},
   "outputs": [],
   "source": [
    "diffs = np.zeros(len(timestamps)-1)\n",
    "for i in range(1,len(timestamps)):\n",
    "    diffs[i-1] = (tti(timestamps[i])-tti(timestamps[i-1]))/(600*1000)"
   ]
  },
  {
   "cell_type": "code",
   "execution_count": 13,
   "metadata": {},
   "outputs": [
    {
     "data": {
      "text/plain": [
       "[<matplotlib.lines.Line2D at 0x21fb58411c0>]"
      ]
     },
     "execution_count": 13,
     "metadata": {},
     "output_type": "execute_result"
    },
    {
     "data": {
      "image/png": "[encoded data removed]",
      "text/plain": [
       "<Figure size 640x480 with 1 Axes>"
      ]
     },
     "metadata": {},
     "output_type": "display_data"
    }
   ],
   "source": [
    "plt.plot(diffs)"
   ]
  },
  {
   "cell_type": "code",
   "execution_count": 14,
   "metadata": {},
   "outputs": [
    {
     "data": {
      "text/plain": [
       "20.0"
      ]
     },
     "execution_count": 14,
     "metadata": {},
     "output_type": "execute_result"
    }
   ],
   "source": [
    "120*10/60"
   ]
  },
  {
   "cell_type": "code",
   "execution_count": 15,
   "metadata": {},
   "outputs": [],
   "source": [
    "def get_graph_from_bindings(bindings):\n",
    "    g = Graph()\n",
    "\n",
    "    for binding in bindings: #response.results.bindings:\n",
    "        g.add((triple_type[binding['s']['type']](binding['s']['value']), triple_type[binding['p']['type']](binding['p']['value']), triple_type[binding['o']['type']](binding['o']['value'])))\n",
    "    \n",
    "    return g"
   ]
  },
  {
   "cell_type": "code",
   "execution_count": 16,
   "metadata": {},
   "outputs": [],
   "source": [
    "fname = \"simple_query.txt\"\n",
    "\n",
    "query = read_file(fname).replace(\"graph1\", timestamps[0]) #.replace(\"graph2\", timestamps[1])\n",
    "response = perform_query(query, fuseki_integration)\n",
    "g0 = get_graph_from_bindings(response.results.bindings)\n"
   ]
  },
  {
   "cell_type": "code",
   "execution_count": 45,
   "metadata": {},
   "outputs": [
    {
     "data": {
      "text/plain": [
       "<Graph identifier=N16fc6af624ca486186e8398942dfebe1 (<class 'rdflib.graph.Graph'>)>"
      ]
     },
     "execution_count": 45,
     "metadata": {},
     "output_type": "execute_result"
    }
   ],
   "source": [
    "g0"
   ]
  },
  {
   "cell_type": "code",
   "execution_count": 49,
   "metadata": {},
   "outputs": [],
   "source": [
    "def read_graph_from_time_stamp(timestamp):\n",
    "    fname = \"simple_query.txt\"\n",
    "\n",
    "    query = read_file(fname).replace(\"graph1\", timestamp)\n",
    "    response = perform_query(query, fuseki_integration)\n",
    "    g = get_graph_from_bindings(response.results.bindings)\n",
    "\n",
    "    return g"
   ]
  },
  {
   "cell_type": "code",
   "execution_count": 54,
   "metadata": {},
   "outputs": [],
   "source": [
    "def compose_insert_query_form_graph(g: Graph, graph_name: str) -> str:\n",
    "    n_triples = 0\n",
    "    query = \"INSERT DATA {\\n\"\n",
    "    query += \"\\tGRAPH <\" + graph_name + \"> {\\n\"  # \"\\tGRAPH <timestamp:%d> {\\n\" % ts\n",
    "    for s, p, o in g.triples((None, None, None)):\n",
    "        if hasattr(s, \"n3\") and hasattr(p, \"n3\") and hasattr(o, \"n3\"):\n",
    "            query += f\"\\t\\t{s.n3()} {p.n3()} {o.n3()} .\\n\"\n",
    "            n_triples += 1\n",
    "        else:\n",
    "            raise HTTPException(\n",
    "                HTTP_500_INTERNAL_SERVER_ERROR, \"Error in parsing JSON-LD.\"\n",
    "            )\n",
    "    query += \"\\t}\\n\"\n",
    "    query += \"}\"\n",
    "\n",
    "    valid, msg = fuseki.validate_sparql(query, \"update\")\n",
    "    \n",
    "    # return query, valid, msg\n",
    "    if n_triples == 0:\n",
    "        logger.error(\"No triples could be extracted from Graph\")\n",
    "        raise HTTPException(\n",
    "            HTTP_400_BAD_REQUEST, \"No triples could be extracted from Graph.\"\n",
    "        )\n",
    "        \n",
    "    elif valid:\n",
    "        logger.debug(f\"Return query with {n_triples} triple(s) and name {graph_name}.\")\n",
    "        return query        \n",
    "    else:\n",
    "        logger.error(msg)\n",
    "        logger.debug(f\"The query:\\n{query}\")\n",
    "        raise HTTPException(HTTP_500_INTERNAL_SERVER_ERROR, msg)\n"
   ]
  },
  {
   "cell_type": "code",
   "execution_count": 37,
   "metadata": {},
   "outputs": [],
   "source": [
    "n_triples = 0\n",
    "query = \"INSERT DATA {\\n\"\n",
    "query += \"\\tGRAPH <\"+timestamps[0] + \"> {\\n\"  #\"\\tGRAPH <timestamp:%d> {\\n\" % ts\n",
    "for s, p, o in g0.triples((None, None, None)):\n",
    "    if hasattr(s, \"n3\") and hasattr(p, \"n3\") and hasattr(o, \"n3\"):\n",
    "        query += f\"\\t\\t{s.n3()} {p.n3()} {o.n3()} .\\n\"\n",
    "        n_triples += 1\n",
    "    else:\n",
    "        raise HTTPException(\n",
    "            HTTP_500_INTERNAL_SERVER_ERROR, \"Error in parsing JSON-LD.\"\n",
    "        )\n",
    "query += \"\\t}\\n\"\n",
    "query += \"}\"\n",
    "\n",
    "valid, msg = fuseki.validate_sparql(query, \"update\")\n"
   ]
  },
  {
   "cell_type": "code",
   "execution_count": 55,
   "metadata": {},
   "outputs": [],
   "source": [
    "def write_to_Jena_with_deltas(g: Graph, timestamp: str):\n",
    "    \n",
    "    added_data_graph  = g-g0\n",
    "    removed_data_graph  = g0-g\n",
    "    \n",
    "    added_graph_label = timestamp+'/added'\n",
    "    removed_graph_label = timestamp+'/removed'\n",
    "    \n",
    "    query_insert_added = compose_insert_query_form_graph(added_data_graph, added_graph_label)\n",
    "    query_insert_removed = compose_insert_query_form_graph(removed_data_graph, removed_graph_label)\n",
    "    fuseki.update_query(query_insert_added)\n",
    "    fuseki.update_query(query_insert_removed)\n",
    "    "
   ]
  },
  {
   "cell_type": "code",
   "execution_count": 98,
   "metadata": {},
   "outputs": [
    {
     "data": {
      "text/plain": [
       "0"
      ]
     },
     "execution_count": 98,
     "metadata": {},
     "output_type": "execute_result"
    }
   ],
   "source": [
    "100 % 50"
   ]
  },
  {
   "cell_type": "code",
   "execution_count": 121,
   "metadata": {},
   "outputs": [
    {
     "name": "stdout",
     "output_type": "stream",
     "text": [
      "0  of  2319\n"
     ]
    },
    {
     "name": "stderr",
     "output_type": "stream",
     "text": [
      "\u001b[32m2024-11-08 11:05:58.731\u001b[0m | \u001b[34m\u001b[1mDEBUG   \u001b[0m | \u001b[36m__main__\u001b[0m:\u001b[36mcompose_insert_query_form_graph\u001b[0m:\u001b[36m26\u001b[0m - \u001b[34m\u001b[1mReturn query with 8464 triple(s) and name timestamp:1730279403441.\u001b[0m\n"
     ]
    },
    {
     "name": "stdout",
     "output_type": "stream",
     "text": [
      "50  of  2319\n"
     ]
    },
    {
     "name": "stderr",
     "output_type": "stream",
     "text": [
      "\u001b[32m2024-11-08 11:06:18.053\u001b[0m | \u001b[34m\u001b[1mDEBUG   \u001b[0m | \u001b[36m__main__\u001b[0m:\u001b[36mcompose_insert_query_form_graph\u001b[0m:\u001b[36m26\u001b[0m - \u001b[34m\u001b[1mReturn query with 8437 triple(s) and name timestamp:1730309403375.\u001b[0m\n"
     ]
    },
    {
     "name": "stdout",
     "output_type": "stream",
     "text": [
      "100  of  2319\n"
     ]
    },
    {
     "name": "stderr",
     "output_type": "stream",
     "text": [
      "\u001b[32m2024-11-08 11:06:42.464\u001b[0m | \u001b[34m\u001b[1mDEBUG   \u001b[0m | \u001b[36m__main__\u001b[0m:\u001b[36mcompose_insert_query_form_graph\u001b[0m:\u001b[36m26\u001b[0m - \u001b[34m\u001b[1mReturn query with 8464 triple(s) and name timestamp:1730339403478.\u001b[0m\n"
     ]
    },
    {
     "name": "stdout",
     "output_type": "stream",
     "text": [
      "150  of  2319\n"
     ]
    },
    {
     "name": "stderr",
     "output_type": "stream",
     "text": [
      "\u001b[32m2024-11-08 11:07:08.005\u001b[0m | \u001b[34m\u001b[1mDEBUG   \u001b[0m | \u001b[36m__main__\u001b[0m:\u001b[36mcompose_insert_query_form_graph\u001b[0m:\u001b[36m26\u001b[0m - \u001b[34m\u001b[1mReturn query with 8466 triple(s) and name timestamp:1730369402920.\u001b[0m\n"
     ]
    },
    {
     "name": "stdout",
     "output_type": "stream",
     "text": [
      "200  of  2319\n"
     ]
    },
    {
     "name": "stderr",
     "output_type": "stream",
     "text": [
      "\u001b[32m2024-11-08 11:07:29.331\u001b[0m | \u001b[34m\u001b[1mDEBUG   \u001b[0m | \u001b[36m__main__\u001b[0m:\u001b[36mcompose_insert_query_form_graph\u001b[0m:\u001b[36m26\u001b[0m - \u001b[34m\u001b[1mReturn query with 8437 triple(s) and name timestamp:1730399402885.\u001b[0m\n"
     ]
    },
    {
     "name": "stdout",
     "output_type": "stream",
     "text": [
      "250  of  2319\n"
     ]
    },
    {
     "name": "stderr",
     "output_type": "stream",
     "text": [
      "\u001b[32m2024-11-08 11:07:54.164\u001b[0m | \u001b[34m\u001b[1mDEBUG   \u001b[0m | \u001b[36m__main__\u001b[0m:\u001b[36mcompose_insert_query_form_graph\u001b[0m:\u001b[36m26\u001b[0m - \u001b[34m\u001b[1mReturn query with 8466 triple(s) and name timestamp:1730429403089.\u001b[0m\n"
     ]
    },
    {
     "name": "stdout",
     "output_type": "stream",
     "text": [
      "300  of  2319\n"
     ]
    },
    {
     "name": "stderr",
     "output_type": "stream",
     "text": [
      "\u001b[32m2024-11-08 11:08:15.375\u001b[0m | \u001b[34m\u001b[1mDEBUG   \u001b[0m | \u001b[36m__main__\u001b[0m:\u001b[36mcompose_insert_query_form_graph\u001b[0m:\u001b[36m26\u001b[0m - \u001b[34m\u001b[1mReturn query with 8466 triple(s) and name timestamp:1730459403187.\u001b[0m\n"
     ]
    },
    {
     "name": "stdout",
     "output_type": "stream",
     "text": [
      "350  of  2319\n"
     ]
    },
    {
     "name": "stderr",
     "output_type": "stream",
     "text": [
      "\u001b[32m2024-11-08 11:08:37.070\u001b[0m | \u001b[34m\u001b[1mDEBUG   \u001b[0m | \u001b[36m__main__\u001b[0m:\u001b[36mcompose_insert_query_form_graph\u001b[0m:\u001b[36m26\u001b[0m - \u001b[34m\u001b[1mReturn query with 8435 triple(s) and name timestamp:1730489403171.\u001b[0m\n"
     ]
    },
    {
     "name": "stdout",
     "output_type": "stream",
     "text": [
      "400  of  2319\n"
     ]
    },
    {
     "name": "stderr",
     "output_type": "stream",
     "text": [
      "\u001b[32m2024-11-08 11:09:01.292\u001b[0m | \u001b[34m\u001b[1mDEBUG   \u001b[0m | \u001b[36m__main__\u001b[0m:\u001b[36mcompose_insert_query_form_graph\u001b[0m:\u001b[36m26\u001b[0m - \u001b[34m\u001b[1mReturn query with 8466 triple(s) and name timestamp:1730519403314.\u001b[0m\n"
     ]
    },
    {
     "name": "stdout",
     "output_type": "stream",
     "text": [
      "450  of  2319\n"
     ]
    },
    {
     "name": "stderr",
     "output_type": "stream",
     "text": [
      "\u001b[32m2024-11-08 11:09:30.955\u001b[0m | \u001b[34m\u001b[1mDEBUG   \u001b[0m | \u001b[36m__main__\u001b[0m:\u001b[36mcompose_insert_query_form_graph\u001b[0m:\u001b[36m26\u001b[0m - \u001b[34m\u001b[1mReturn query with 8464 triple(s) and name timestamp:1730549403406.\u001b[0m\n"
     ]
    },
    {
     "name": "stdout",
     "output_type": "stream",
     "text": [
      "500  of  2319\n"
     ]
    },
    {
     "name": "stderr",
     "output_type": "stream",
     "text": [
      "\u001b[32m2024-11-08 11:09:54.337\u001b[0m | \u001b[34m\u001b[1mDEBUG   \u001b[0m | \u001b[36m__main__\u001b[0m:\u001b[36mcompose_insert_query_form_graph\u001b[0m:\u001b[36m26\u001b[0m - \u001b[34m\u001b[1mReturn query with 8437 triple(s) and name timestamp:1730579403994.\u001b[0m\n"
     ]
    },
    {
     "name": "stdout",
     "output_type": "stream",
     "text": [
      "550  of  2319\n"
     ]
    },
    {
     "name": "stderr",
     "output_type": "stream",
     "text": [
      "\u001b[32m2024-11-08 11:10:11.554\u001b[0m | \u001b[34m\u001b[1mDEBUG   \u001b[0m | \u001b[36m__main__\u001b[0m:\u001b[36mcompose_insert_query_form_graph\u001b[0m:\u001b[36m26\u001b[0m - \u001b[34m\u001b[1mReturn query with 8464 triple(s) and name timestamp:1730609404171.\u001b[0m\n"
     ]
    },
    {
     "name": "stdout",
     "output_type": "stream",
     "text": [
      "600  of  2319\n"
     ]
    },
    {
     "name": "stderr",
     "output_type": "stream",
     "text": [
      "\u001b[32m2024-11-08 11:10:28.022\u001b[0m | \u001b[34m\u001b[1mDEBUG   \u001b[0m | \u001b[36m__main__\u001b[0m:\u001b[36mcompose_insert_query_form_graph\u001b[0m:\u001b[36m26\u001b[0m - \u001b[34m\u001b[1mReturn query with 8464 triple(s) and name timestamp:1730639403681.\u001b[0m\n"
     ]
    },
    {
     "name": "stdout",
     "output_type": "stream",
     "text": [
      "650  of  2319\n"
     ]
    },
    {
     "name": "stderr",
     "output_type": "stream",
     "text": [
      "\u001b[32m2024-11-08 11:10:45.467\u001b[0m | \u001b[34m\u001b[1mDEBUG   \u001b[0m | \u001b[36m__main__\u001b[0m:\u001b[36mcompose_insert_query_form_graph\u001b[0m:\u001b[36m26\u001b[0m - \u001b[34m\u001b[1mReturn query with 8732 triple(s) and name timestamp:1730740204747.\u001b[0m\n"
     ]
    },
    {
     "name": "stdout",
     "output_type": "stream",
     "text": [
      "700  of  2319\n"
     ]
    },
    {
     "name": "stderr",
     "output_type": "stream",
     "text": [
      "\u001b[32m2024-11-08 11:11:02.882\u001b[0m | \u001b[34m\u001b[1mDEBUG   \u001b[0m | \u001b[36m__main__\u001b[0m:\u001b[36mcompose_insert_query_form_graph\u001b[0m:\u001b[36m26\u001b[0m - \u001b[34m\u001b[1mReturn query with 8731 triple(s) and name timestamp:1730770205095.\u001b[0m\n"
     ]
    },
    {
     "name": "stdout",
     "output_type": "stream",
     "text": [
      "750  of  2319\n"
     ]
    },
    {
     "name": "stderr",
     "output_type": "stream",
     "text": [
      "\u001b[32m2024-11-08 11:11:20.735\u001b[0m | \u001b[34m\u001b[1mDEBUG   \u001b[0m | \u001b[36m__main__\u001b[0m:\u001b[36mcompose_insert_query_form_graph\u001b[0m:\u001b[36m26\u001b[0m - \u001b[34m\u001b[1mReturn query with 8525 triple(s) and name timestamp:1730800205044.\u001b[0m\n"
     ]
    },
    {
     "name": "stdout",
     "output_type": "stream",
     "text": [
      "800  of  2319\n"
     ]
    },
    {
     "name": "stderr",
     "output_type": "stream",
     "text": [
      "\u001b[32m2024-11-08 11:11:23.115\u001b[0m | \u001b[34m\u001b[1mDEBUG   \u001b[0m | \u001b[36m__main__\u001b[0m:\u001b[36mcompose_insert_query_form_graph\u001b[0m:\u001b[36m26\u001b[0m - \u001b[34m\u001b[1mReturn query with 171 triple(s) and name timestamp:1730814646732.\u001b[0m\n"
     ]
    },
    {
     "name": "stdout",
     "output_type": "stream",
     "text": [
      "850  of  2319\n"
     ]
    },
    {
     "name": "stderr",
     "output_type": "stream",
     "text": [
      "\u001b[32m2024-11-08 11:11:23.657\u001b[0m | \u001b[34m\u001b[1mDEBUG   \u001b[0m | \u001b[36m__main__\u001b[0m:\u001b[36mcompose_insert_query_form_graph\u001b[0m:\u001b[36m26\u001b[0m - \u001b[34m\u001b[1mReturn query with 147 triple(s) and name timestamp:1730814723146.\u001b[0m\n"
     ]
    },
    {
     "name": "stdout",
     "output_type": "stream",
     "text": [
      "900  of  2319\n"
     ]
    },
    {
     "name": "stderr",
     "output_type": "stream",
     "text": [
      "\u001b[32m2024-11-08 11:11:24.181\u001b[0m | \u001b[34m\u001b[1mDEBUG   \u001b[0m | \u001b[36m__main__\u001b[0m:\u001b[36mcompose_insert_query_form_graph\u001b[0m:\u001b[36m26\u001b[0m - \u001b[34m\u001b[1mReturn query with 117 triple(s) and name timestamp:1730814824900.\u001b[0m\n"
     ]
    },
    {
     "name": "stdout",
     "output_type": "stream",
     "text": [
      "950  of  2319\n"
     ]
    },
    {
     "name": "stderr",
     "output_type": "stream",
     "text": [
      "\u001b[32m2024-11-08 11:11:24.808\u001b[0m | \u001b[34m\u001b[1mDEBUG   \u001b[0m | \u001b[36m__main__\u001b[0m:\u001b[36mcompose_insert_query_form_graph\u001b[0m:\u001b[36m26\u001b[0m - \u001b[34m\u001b[1mReturn query with 171 triple(s) and name timestamp:1730815371657.\u001b[0m\n"
     ]
    },
    {
     "name": "stdout",
     "output_type": "stream",
     "text": [
      "1000  of  2319\n"
     ]
    },
    {
     "name": "stderr",
     "output_type": "stream",
     "text": [
      "\u001b[32m2024-11-08 11:11:25.393\u001b[0m | \u001b[34m\u001b[1mDEBUG   \u001b[0m | \u001b[36m__main__\u001b[0m:\u001b[36mcompose_insert_query_form_graph\u001b[0m:\u001b[36m26\u001b[0m - \u001b[34m\u001b[1mReturn query with 147 triple(s) and name timestamp:1730815413175.\u001b[0m\n"
     ]
    },
    {
     "name": "stdout",
     "output_type": "stream",
     "text": [
      "1050  of  2319\n"
     ]
    },
    {
     "name": "stderr",
     "output_type": "stream",
     "text": [
      "\u001b[32m2024-11-08 11:11:26.026\u001b[0m | \u001b[34m\u001b[1mDEBUG   \u001b[0m | \u001b[36m__main__\u001b[0m:\u001b[36mcompose_insert_query_form_graph\u001b[0m:\u001b[36m26\u001b[0m - \u001b[34m\u001b[1mReturn query with 117 triple(s) and name timestamp:1730815452946.\u001b[0m\n"
     ]
    },
    {
     "name": "stdout",
     "output_type": "stream",
     "text": [
      "1100  of  2319\n"
     ]
    },
    {
     "name": "stderr",
     "output_type": "stream",
     "text": [
      "\u001b[32m2024-11-08 11:11:26.576\u001b[0m | \u001b[34m\u001b[1mDEBUG   \u001b[0m | \u001b[36m__main__\u001b[0m:\u001b[36mcompose_insert_query_form_graph\u001b[0m:\u001b[36m26\u001b[0m - \u001b[34m\u001b[1mReturn query with 117 triple(s) and name timestamp:1730815488869.\u001b[0m\n"
     ]
    },
    {
     "name": "stdout",
     "output_type": "stream",
     "text": [
      "1150  of  2319\n"
     ]
    },
    {
     "name": "stderr",
     "output_type": "stream",
     "text": [
      "\u001b[32m2024-11-08 11:11:27.245\u001b[0m | \u001b[34m\u001b[1mDEBUG   \u001b[0m | \u001b[36m__main__\u001b[0m:\u001b[36mcompose_insert_query_form_graph\u001b[0m:\u001b[36m26\u001b[0m - \u001b[34m\u001b[1mReturn query with 171 triple(s) and name timestamp:1730815519746.\u001b[0m\n"
     ]
    },
    {
     "name": "stdout",
     "output_type": "stream",
     "text": [
      "1200  of  2319\n"
     ]
    },
    {
     "name": "stderr",
     "output_type": "stream",
     "text": [
      "\u001b[32m2024-11-08 11:11:27.859\u001b[0m | \u001b[34m\u001b[1mDEBUG   \u001b[0m | \u001b[36m__main__\u001b[0m:\u001b[36mcompose_insert_query_form_graph\u001b[0m:\u001b[36m26\u001b[0m - \u001b[34m\u001b[1mReturn query with 147 triple(s) and name timestamp:1730815565704.\u001b[0m\n"
     ]
    },
    {
     "name": "stdout",
     "output_type": "stream",
     "text": [
      "1250  of  2319\n"
     ]
    },
    {
     "name": "stderr",
     "output_type": "stream",
     "text": [
      "\u001b[32m2024-11-08 11:11:28.619\u001b[0m | \u001b[34m\u001b[1mDEBUG   \u001b[0m | \u001b[36m__main__\u001b[0m:\u001b[36mcompose_insert_query_form_graph\u001b[0m:\u001b[36m26\u001b[0m - \u001b[34m\u001b[1mReturn query with 219 triple(s) and name timestamp:1730815617889.\u001b[0m\n"
     ]
    },
    {
     "name": "stdout",
     "output_type": "stream",
     "text": [
      "1300  of  2319\n"
     ]
    },
    {
     "name": "stderr",
     "output_type": "stream",
     "text": [
      "\u001b[32m2024-11-08 11:11:29.322\u001b[0m | \u001b[34m\u001b[1mDEBUG   \u001b[0m | \u001b[36m__main__\u001b[0m:\u001b[36mcompose_insert_query_form_graph\u001b[0m:\u001b[36m26\u001b[0m - \u001b[34m\u001b[1mReturn query with 195 triple(s) and name timestamp:1730815734878.\u001b[0m\n"
     ]
    },
    {
     "name": "stdout",
     "output_type": "stream",
     "text": [
      "1350  of  2319\n"
     ]
    },
    {
     "name": "stderr",
     "output_type": "stream",
     "text": [
      "\u001b[32m2024-11-08 11:11:46.464\u001b[0m | \u001b[34m\u001b[1mDEBUG   \u001b[0m | \u001b[36m__main__\u001b[0m:\u001b[36mcompose_insert_query_form_graph\u001b[0m:\u001b[36m26\u001b[0m - \u001b[34m\u001b[1mReturn query with 8664 triple(s) and name timestamp:1730815823788.\u001b[0m\n"
     ]
    },
    {
     "name": "stdout",
     "output_type": "stream",
     "text": [
      "1400  of  2319\n"
     ]
    },
    {
     "name": "stderr",
     "output_type": "stream",
     "text": [
      "\u001b[32m2024-11-08 11:11:48.953\u001b[0m | \u001b[34m\u001b[1mDEBUG   \u001b[0m | \u001b[36m__main__\u001b[0m:\u001b[36mcompose_insert_query_form_graph\u001b[0m:\u001b[36m26\u001b[0m - \u001b[34m\u001b[1mReturn query with 147 triple(s) and name timestamp:1730815890989.\u001b[0m\n"
     ]
    },
    {
     "name": "stdout",
     "output_type": "stream",
     "text": [
      "1450  of  2319\n"
     ]
    },
    {
     "name": "stderr",
     "output_type": "stream",
     "text": [
      "\u001b[32m2024-11-08 11:12:18.512\u001b[0m | \u001b[34m\u001b[1mDEBUG   \u001b[0m | \u001b[36m__main__\u001b[0m:\u001b[36mcompose_insert_query_form_graph\u001b[0m:\u001b[36m26\u001b[0m - \u001b[34m\u001b[1mReturn query with 8671 triple(s) and name timestamp:1730836205329.\u001b[0m\n"
     ]
    },
    {
     "name": "stdout",
     "output_type": "stream",
     "text": [
      "1500  of  2319\n"
     ]
    },
    {
     "name": "stderr",
     "output_type": "stream",
     "text": [
      "\u001b[32m2024-11-08 11:12:46.095\u001b[0m | \u001b[34m\u001b[1mDEBUG   \u001b[0m | \u001b[36m__main__\u001b[0m:\u001b[36mcompose_insert_query_form_graph\u001b[0m:\u001b[36m26\u001b[0m - \u001b[34m\u001b[1mReturn query with 8645 triple(s) and name timestamp:1730866204796.\u001b[0m\n"
     ]
    },
    {
     "name": "stdout",
     "output_type": "stream",
     "text": [
      "1550  of  2319\n"
     ]
    },
    {
     "name": "stderr",
     "output_type": "stream",
     "text": [
      "\u001b[32m2024-11-08 11:13:07.053\u001b[0m | \u001b[34m\u001b[1mDEBUG   \u001b[0m | \u001b[36m__main__\u001b[0m:\u001b[36mcompose_insert_query_form_graph\u001b[0m:\u001b[36m26\u001b[0m - \u001b[34m\u001b[1mReturn query with 8645 triple(s) and name timestamp:1730895605342.\u001b[0m\n"
     ]
    },
    {
     "name": "stdout",
     "output_type": "stream",
     "text": [
      "1600  of  2319\n"
     ]
    },
    {
     "name": "stderr",
     "output_type": "stream",
     "text": [
      "\u001b[32m2024-11-08 11:13:29.805\u001b[0m | \u001b[34m\u001b[1mDEBUG   \u001b[0m | \u001b[36m__main__\u001b[0m:\u001b[36mcompose_insert_query_form_graph\u001b[0m:\u001b[36m26\u001b[0m - \u001b[34m\u001b[1mReturn query with 8708 triple(s) and name timestamp:1730925604861.\u001b[0m\n"
     ]
    },
    {
     "name": "stdout",
     "output_type": "stream",
     "text": [
      "1650  of  2319\n"
     ]
    },
    {
     "name": "stderr",
     "output_type": "stream",
     "text": [
      "\u001b[32m2024-11-08 11:13:48.452\u001b[0m | \u001b[34m\u001b[1mDEBUG   \u001b[0m | \u001b[36m__main__\u001b[0m:\u001b[36mcompose_insert_query_form_graph\u001b[0m:\u001b[36m26\u001b[0m - \u001b[34m\u001b[1mReturn query with 8708 triple(s) and name timestamp:1730956214894.\u001b[0m\n"
     ]
    },
    {
     "name": "stdout",
     "output_type": "stream",
     "text": [
      "1700  of  2319\n"
     ]
    },
    {
     "name": "stderr",
     "output_type": "stream",
     "text": [
      "\u001b[32m2024-11-08 11:13:50.895\u001b[0m | \u001b[34m\u001b[1mDEBUG   \u001b[0m | \u001b[36m__main__\u001b[0m:\u001b[36mcompose_insert_query_form_graph\u001b[0m:\u001b[36m26\u001b[0m - \u001b[34m\u001b[1mReturn query with 184 triple(s) and name timestamp:1730973556596.\u001b[0m\n"
     ]
    },
    {
     "name": "stdout",
     "output_type": "stream",
     "text": [
      "1750  of  2319\n"
     ]
    },
    {
     "name": "stderr",
     "output_type": "stream",
     "text": [
      "\u001b[32m2024-11-08 11:13:51.626\u001b[0m | \u001b[34m\u001b[1mDEBUG   \u001b[0m | \u001b[36m__main__\u001b[0m:\u001b[36mcompose_insert_query_form_graph\u001b[0m:\u001b[36m26\u001b[0m - \u001b[34m\u001b[1mReturn query with 184 triple(s) and name timestamp:1730973585322.\u001b[0m\n"
     ]
    },
    {
     "name": "stdout",
     "output_type": "stream",
     "text": [
      "1800  of  2319\n"
     ]
    },
    {
     "name": "stderr",
     "output_type": "stream",
     "text": [
      "\u001b[32m2024-11-08 11:13:52.157\u001b[0m | \u001b[34m\u001b[1mDEBUG   \u001b[0m | \u001b[36m__main__\u001b[0m:\u001b[36mcompose_insert_query_form_graph\u001b[0m:\u001b[36m26\u001b[0m - \u001b[34m\u001b[1mReturn query with 113 triple(s) and name timestamp:1730973618548.\u001b[0m\n"
     ]
    },
    {
     "name": "stdout",
     "output_type": "stream",
     "text": [
      "1850  of  2319\n"
     ]
    },
    {
     "name": "stderr",
     "output_type": "stream",
     "text": [
      "\u001b[32m2024-11-08 11:13:52.660\u001b[0m | \u001b[34m\u001b[1mDEBUG   \u001b[0m | \u001b[36m__main__\u001b[0m:\u001b[36mcompose_insert_query_form_graph\u001b[0m:\u001b[36m26\u001b[0m - \u001b[34m\u001b[1mReturn query with 113 triple(s) and name timestamp:1730973640635.\u001b[0m\n"
     ]
    },
    {
     "name": "stdout",
     "output_type": "stream",
     "text": [
      "1900  of  2319\n"
     ]
    },
    {
     "name": "stderr",
     "output_type": "stream",
     "text": [
      "\u001b[32m2024-11-08 11:13:53.292\u001b[0m | \u001b[34m\u001b[1mDEBUG   \u001b[0m | \u001b[36m__main__\u001b[0m:\u001b[36mcompose_insert_query_form_graph\u001b[0m:\u001b[36m26\u001b[0m - \u001b[34m\u001b[1mReturn query with 152 triple(s) and name timestamp:1730973663234.\u001b[0m\n"
     ]
    },
    {
     "name": "stdout",
     "output_type": "stream",
     "text": [
      "1950  of  2319\n"
     ]
    },
    {
     "name": "stderr",
     "output_type": "stream",
     "text": [
      "\u001b[32m2024-11-08 11:13:53.921\u001b[0m | \u001b[34m\u001b[1mDEBUG   \u001b[0m | \u001b[36m__main__\u001b[0m:\u001b[36mcompose_insert_query_form_graph\u001b[0m:\u001b[36m26\u001b[0m - \u001b[34m\u001b[1mReturn query with 152 triple(s) and name timestamp:1730973686000.\u001b[0m\n"
     ]
    },
    {
     "name": "stdout",
     "output_type": "stream",
     "text": [
      "2000  of  2319\n"
     ]
    },
    {
     "name": "stderr",
     "output_type": "stream",
     "text": [
      "\u001b[32m2024-11-08 11:13:54.738\u001b[0m | \u001b[34m\u001b[1mDEBUG   \u001b[0m | \u001b[36m__main__\u001b[0m:\u001b[36mcompose_insert_query_form_graph\u001b[0m:\u001b[36m26\u001b[0m - \u001b[34m\u001b[1mReturn query with 216 triple(s) and name timestamp:1730973710020.\u001b[0m\n"
     ]
    },
    {
     "name": "stdout",
     "output_type": "stream",
     "text": [
      "2050  of  2319\n"
     ]
    },
    {
     "name": "stderr",
     "output_type": "stream",
     "text": [
      "\u001b[32m2024-11-08 11:13:55.524\u001b[0m | \u001b[34m\u001b[1mDEBUG   \u001b[0m | \u001b[36m__main__\u001b[0m:\u001b[36mcompose_insert_query_form_graph\u001b[0m:\u001b[36m26\u001b[0m - \u001b[34m\u001b[1mReturn query with 216 triple(s) and name timestamp:1730973737221.\u001b[0m\n"
     ]
    },
    {
     "name": "stdout",
     "output_type": "stream",
     "text": [
      "2100  of  2319\n"
     ]
    },
    {
     "name": "stderr",
     "output_type": "stream",
     "text": [
      "\u001b[32m2024-11-08 11:13:56.040\u001b[0m | \u001b[34m\u001b[1mDEBUG   \u001b[0m | \u001b[36m__main__\u001b[0m:\u001b[36mcompose_insert_query_form_graph\u001b[0m:\u001b[36m26\u001b[0m - \u001b[34m\u001b[1mReturn query with 113 triple(s) and name timestamp:1730973762607.\u001b[0m\n"
     ]
    },
    {
     "name": "stdout",
     "output_type": "stream",
     "text": [
      "2150  of  2319\n"
     ]
    },
    {
     "name": "stderr",
     "output_type": "stream",
     "text": [
      "\u001b[32m2024-11-08 11:13:56.630\u001b[0m | \u001b[34m\u001b[1mDEBUG   \u001b[0m | \u001b[36m__main__\u001b[0m:\u001b[36mcompose_insert_query_form_graph\u001b[0m:\u001b[36m26\u001b[0m - \u001b[34m\u001b[1mReturn query with 152 triple(s) and name timestamp:1730973784344.\u001b[0m\n"
     ]
    },
    {
     "name": "stdout",
     "output_type": "stream",
     "text": [
      "2200  of  2319\n"
     ]
    },
    {
     "name": "stderr",
     "output_type": "stream",
     "text": [
      "\u001b[32m2024-11-08 11:14:11.887\u001b[0m | \u001b[34m\u001b[1mDEBUG   \u001b[0m | \u001b[36m__main__\u001b[0m:\u001b[36mcompose_insert_query_form_graph\u001b[0m:\u001b[36m26\u001b[0m - \u001b[34m\u001b[1mReturn query with 8894 triple(s) and name timestamp:1730989204949.\u001b[0m\n"
     ]
    },
    {
     "name": "stdout",
     "output_type": "stream",
     "text": [
      "2250  of  2319\n"
     ]
    },
    {
     "name": "stderr",
     "output_type": "stream",
     "text": [
      "\u001b[32m2024-11-08 11:14:28.533\u001b[0m | \u001b[34m\u001b[1mDEBUG   \u001b[0m | \u001b[36m__main__\u001b[0m:\u001b[36mcompose_insert_query_form_graph\u001b[0m:\u001b[36m26\u001b[0m - \u001b[34m\u001b[1mReturn query with 8878 triple(s) and name timestamp:1731019205919.\u001b[0m\n"
     ]
    },
    {
     "name": "stdout",
     "output_type": "stream",
     "text": [
      "2300  of  2319\n"
     ]
    },
    {
     "name": "stderr",
     "output_type": "stream",
     "text": [
      "\u001b[32m2024-11-08 11:14:52.202\u001b[0m | \u001b[34m\u001b[1mDEBUG   \u001b[0m | \u001b[36m__main__\u001b[0m:\u001b[36mcompose_insert_query_form_graph\u001b[0m:\u001b[36m26\u001b[0m - \u001b[34m\u001b[1mReturn query with 8899 triple(s) and name timestamp:1731049205972.\u001b[0m\n"
     ]
    }
   ],
   "source": [
    "for i in range(len(timestamps)):\n",
    "    if i % 50 == 0:\n",
    "        print(i, \" of \", len(timestamps))\n",
    "        g1=read_graph_from_time_stamp(timestamps[i])\n",
    "        query = compose_insert_query_form_graph(g1, timestamps[i])\n",
    "        fuseki.update_query(query)\n",
    "    #write_to_Jena_with_deltas(g1, timestamps[i])\n",
    "    "
   ]
  },
  {
   "cell_type": "code",
   "execution_count": 108,
   "metadata": {},
   "outputs": [
    {
     "data": {
      "text/plain": [
       "43"
      ]
     },
     "execution_count": 108,
     "metadata": {},
     "output_type": "execute_result"
    }
   ],
   "source": [
    "len(timestamps)//50"
   ]
  },
  {
   "cell_type": "code",
   "execution_count": 109,
   "metadata": {},
   "outputs": [
    {
     "data": {
      "text/plain": [
       "np.str_('timestamp:1730815413175')"
      ]
     },
     "execution_count": 109,
     "metadata": {},
     "output_type": "execute_result"
    }
   ],
   "source": [
    "timestamps[1000]"
   ]
  },
  {
   "cell_type": "code",
   "execution_count": 122,
   "metadata": {},
   "outputs": [],
   "source": [
    "def reconstruct_graph(timestamp):\n",
    "    fname = \"simple_query.txt\"\n",
    "\n",
    "    query_added = read_file(fname).replace(\"graph1\", timestamp + '/added')\n",
    "    response_added = perform_query(query_added, fuseki)\n",
    "    g_added = get_graph_from_bindings(response_added.results.bindings)\n",
    "\n",
    "    query_removed = read_file(fname).replace(\"graph1\", timestamp + '/removed')\n",
    "    response_removed = perform_query(query_removed, fuseki)\n",
    "    g_removed = get_graph_from_bindings(response_removed.results.bindings)\n",
    "    \n",
    "    g=g0+g_added\n",
    "    g=g-g_removed\n",
    "    \n",
    "    return g\n",
    "    "
   ]
  },
  {
   "cell_type": "code",
   "execution_count": 74,
   "metadata": {},
   "outputs": [
    {
     "name": "stdout",
     "output_type": "stream",
     "text": [
      "CPU times: total: 7.38 s\n",
      "Wall time: 21.3 s\n"
     ]
    }
   ],
   "source": [
    "%%time\n",
    "for i in range(1,30):\n",
    "    g_reconstructed = reconstruct_graph(timestamps[i])\n",
    "    "
   ]
  },
  {
   "cell_type": "code",
   "execution_count": 75,
   "metadata": {},
   "outputs": [
    {
     "name": "stdout",
     "output_type": "stream",
     "text": [
      "CPU times: total: 10.9 s\n",
      "Wall time: 57.7 s\n"
     ]
    }
   ],
   "source": [
    "%%time\n",
    "for i in range(1,30):\n",
    "    g_real=read_graph_from_time_stamp(timestamps[i])\n",
    "    \n"
   ]
  },
  {
   "cell_type": "code",
   "execution_count": 79,
   "metadata": {},
   "outputs": [],
   "source": [
    "fname = \"super_simple_query.txt\"\n",
    "\n",
    "query = read_file(fname).replace(\"graph1\", timestamps[29])\n",
    "\n",
    "results=g_reconstructed.query(query)\n"
   ]
  },
  {
   "cell_type": "code",
   "execution_count": 84,
   "metadata": {},
   "outputs": [
    {
     "name": "stdout",
     "output_type": "stream",
     "text": [
      "Subject: https://kubernetes.local/#argocd-dex-server, Predicate: glc:hasSubTask, Object: https://kubernetes.local/#argocd-dex-server-5c5c765c59\n",
      "Subject: https://kubernetes.local/#uc2-workload-service-28838250, Predicate: glc:hasDescription, Object: Job\n",
      "Subject: https://kubernetes.local/#glaciation-testm1w5-worker06withgpu.Network, Predicate: glc:hasID, Object: https://kubernetes.local/#glaciation-testm1w5-worker06withgpu.Network\n",
      "Subject: glc:ResourceSpecification, Predicate: glc:makes, Object: https://kubernetes.local/#glaciation-testm1w5-worker01.RAM.Capacity.1730296798000\n",
      "Subject: https://kubernetes.local/#gatekeeper-audit-5df6bc678b, Predicate: glc:hasConstraint, Object: https://kubernetes.local/#gatekeeper-audit-5df6bc678b.CPU.Allocated\n"
     ]
    }
   ],
   "source": [
    "for i, row in enumerate(results):\n",
    "    if i<5:\n",
    "        print(f\"Subject: {row[0]}, Predicate: {row[1]}, Object: {row[2]}\")"
   ]
  },
  {
   "cell_type": "code",
   "execution_count": 82,
   "metadata": {},
   "outputs": [
    {
     "data": {
      "text/plain": [
       "rdflib.term.URIRef('https://kubernetes.local/#longhorn-system.engine-image-ei-acb7590c-tjjgz.engine-image-ei-acb7590c')"
      ]
     },
     "execution_count": 82,
     "metadata": {},
     "output_type": "execute_result"
    }
   ],
   "source": [
    "row[0]"
   ]
  },
  {
   "cell_type": "code",
   "execution_count": 85,
   "metadata": {},
   "outputs": [
    {
     "name": "stdout",
     "output_type": "stream",
     "text": [
      "84719\n",
      "13715\n"
     ]
    }
   ],
   "source": [
    "# def create_daily_chunk()\n",
    "g_daily_chunk = Graph()\n",
    "sum_g_len = 0\n",
    "for i in range(10):\n",
    "    r_g = reconstruct_graph(timestamps[i])\n",
    "    sum_g_len += len(r_g)\n",
    "    g_daily_chunk += r_g\n",
    "    \n",
    "print(sum_g_len)\n",
    "print(len(g_daily_chunk))"
   ]
  },
  {
   "cell_type": "markdown",
   "metadata": {},
   "source": [
    "Do we need to store just all the triples generated during a day in a heap? Or we need that they still carry the time stamp.\n",
    "If we need them to carry the timestamp then the deltas can still be used."
   ]
  },
  {
   "cell_type": "code",
   "execution_count": 115,
   "metadata": {},
   "outputs": [
    {
     "data": {
      "text/plain": [
       "np.str_('timestamp:1730340003286')"
      ]
     },
     "execution_count": 115,
     "metadata": {},
     "output_type": "execute_result"
    }
   ],
   "source": [
    "timestamps[101]"
   ]
  },
  {
   "cell_type": "code",
   "execution_count": null,
   "metadata": {},
   "outputs": [],
   "source": []
  }
 ],
 "metadata": {
  "kernelspec": {
   "display_name": "Python 3",
   "language": "python",
   "name": "python3"
  },
  "language_info": {
   "codemirror_mode": {
    "name": "ipython",
    "version": 3
   },
   "file_extension": ".py",
   "mimetype": "text/x-python",
   "name": "python",
   "nbconvert_exporter": "python",
   "pygments_lexer": "ipython3",
   "version": "3.12.7"
  }
 },
 "nbformat": 4,
 "nbformat_minor": 2
}
